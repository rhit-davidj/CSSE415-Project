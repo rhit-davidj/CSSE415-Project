{
 "cells": [
  {
   "cell_type": "code",
   "execution_count": 5,
   "id": "42785508-3b8e-4640-b1d3-3731de788da1",
   "metadata": {},
   "outputs": [],
   "source": [
    "import pandas as pd\n",
    "from sklearn.model_selection import train_test_split\n",
    "from sklearn.ensemble import RandomForestRegressor\n",
    "from sklearn.metrics import mean_squared_error, r2_score\n",
    "from sklearn.preprocessing import LabelEncoder\n",
    "import numpy as np\n",
    "\n",
    "df = pd.read_csv('coffee_analysis.csv')"
   ]
  },
  {
   "cell_type": "code",
   "execution_count": 8,
   "id": "5c1df39a-0ee4-431f-89e2-0352f1409bb2",
   "metadata": {},
   "outputs": [
    {
     "name": "stdout",
     "output_type": "stream",
     "text": [
      "                         name                    roaster         roast  \\\n",
      "0     “Sweety” Espresso Blend                     A.R.C.  Medium-Light   \n",
      "1        Flora Blend Espresso                     A.R.C.  Medium-Light   \n",
      "2    Ethiopia Shakiso Mormora               Revel Coffee  Medium-Light   \n",
      "3          Ethiopia Suke Quto                Roast House  Medium-Light   \n",
      "4  Ethiopia Gedeb Halo Beriti  Big Creek Coffee Roasters        Medium   \n",
      "\n",
      "     loc_country        origin_1           origin_2  100g_USD  rating  \\\n",
      "0      Hong Kong          Panama           Ethiopia     14.32      95   \n",
      "1      Hong Kong          Africa       Asia Pacific      9.05      94   \n",
      "2  United States       Guji Zone  Southern Ethiopia      4.70      92   \n",
      "3  United States       Guji Zone      Oromia Region      4.19      92   \n",
      "4  United States  Gedeb District         Gedeo Zone      4.85      94   \n",
      "\n",
      "     review_date                                             desc_1  \\\n",
      "0  November 2017  Evaluated as espresso. Sweet-toned, deeply ric...   \n",
      "1  November 2017  Evaluated as espresso. Sweetly tart, floral-to...   \n",
      "2  November 2017  Crisply sweet, cocoa-toned. Lemon blossom, roa...   \n",
      "3  November 2017  Delicate, sweetly spice-toned. Pink peppercorn...   \n",
      "4  November 2017  Deeply sweet, subtly pungent. Honey, pear, tan...   \n",
      "\n",
      "                                              desc_2  \\\n",
      "0  An espresso blend comprised of coffees from Pa...   \n",
      "1  An espresso blend comprised of coffees from Af...   \n",
      "2  This coffee tied for the third-highest rating ...   \n",
      "3  This coffee tied for the third-highest rating ...   \n",
      "4  Southern Ethiopia coffees like this one are pr...   \n",
      "\n",
      "                                              desc_3  \n",
      "0  A radiant espresso blend that shines equally i...  \n",
      "1  A floral-driven straight shot, amplified with ...  \n",
      "2  A gently spice-toned, floral- driven wet-proce...  \n",
      "3  Lavender-like flowers and hints of zesty pink ...  \n",
      "4  A deeply and generously lush cup saved from se...  \n",
      "<class 'pandas.core.frame.DataFrame'>\n",
      "RangeIndex: 2095 entries, 0 to 2094\n",
      "Data columns (total 12 columns):\n",
      " #   Column       Non-Null Count  Dtype  \n",
      "---  ------       --------------  -----  \n",
      " 0   name         2095 non-null   object \n",
      " 1   roaster      2095 non-null   object \n",
      " 2   roast        2080 non-null   object \n",
      " 3   loc_country  2095 non-null   object \n",
      " 4   origin_1     2095 non-null   object \n",
      " 5   origin_2     2095 non-null   object \n",
      " 6   100g_USD     2095 non-null   float64\n",
      " 7   rating       2095 non-null   int64  \n",
      " 8   review_date  2095 non-null   object \n",
      " 9   desc_1       2095 non-null   object \n",
      " 10  desc_2       2095 non-null   object \n",
      " 11  desc_3       2093 non-null   object \n",
      "dtypes: float64(1), int64(1), object(10)\n",
      "memory usage: 196.5+ KB\n",
      "None\n"
     ]
    }
   ],
   "source": [
    "df\n",
    "print(df.head())\n",
    "print(df.info())"
   ]
  },
  {
   "cell_type": "code",
   "execution_count": 33,
   "id": "cd310a24-d912-49b7-a95c-48f813604117",
   "metadata": {},
   "outputs": [
    {
     "name": "stdout",
     "output_type": "stream",
     "text": [
      "\n",
      "Shape of training features: (1676, 11)\n",
      "Shape of testing features: (419, 11)\n",
      "Shape of training target: (1676,)\n",
      "Shape of testing target: (419,)\n"
     ]
    }
   ],
   "source": [
    "# Handle missing values (you might need more sophisticated strategies depending on your data)\n",
    "df.fillna('Unknown', inplace=True)\n",
    "\n",
    "# Label encode categorical features\n",
    "categorical_features = ['name', 'roaster', 'roast', 'loc_country', 'origin_1', 'origin_2', 'desc_1', 'desc_2', 'desc_3', 'review_date']\n",
    "label_encoders = {}\n",
    "for col in categorical_features:\n",
    "    le = LabelEncoder()\n",
    "    df[col] = le.fit_transform(df[col])\n",
    "    label_encoders[col] = le # Store the encoders if you need to reverse transform later\n",
    "\n",
    "# Select features and target variable\n",
    "X = df.drop('rating', axis=1)\n",
    "y = df['rating']\n",
    "\n",
    "# Split the data into training and testing sets\n",
    "X_train, X_test, y_train, y_test = train_test_split(X, y, test_size=0.2, random_state=42)\n",
    "\n",
    "print(\"\\nShape of training features:\", X_train.shape)\n",
    "print(\"Shape of testing features:\", X_test.shape)\n",
    "print(\"Shape of training target:\", y_train.shape)\n",
    "print(\"Shape of testing target:\", y_test.shape)"
   ]
  },
  {
   "cell_type": "code",
   "execution_count": 34,
   "id": "54816060-5f6d-4875-9040-7a0fed4e6789",
   "metadata": {},
   "outputs": [],
   "source": [
    "# Initialize and train the Random Forest Regressor\n",
    "model = RandomForestRegressor(n_estimators=100, random_state=0) # You can tune hyperparameters\n",
    "model.fit(X_train, y_train)\n",
    "\n",
    "# Make predictions on the test set\n",
    "y_pred = model.predict(X_test)"
   ]
  },
  {
   "cell_type": "code",
   "execution_count": 35,
   "id": "900f8502-5b57-42a9-9e61-c65c54b5c556",
   "metadata": {},
   "outputs": [
    {
     "name": "stdout",
     "output_type": "stream",
     "text": [
      "\n",
      "Mean Squared Error on Test Set: 1.52\n",
      "R-squared Score on Test Set: 0.37\n"
     ]
    }
   ],
   "source": [
    "# Evaluate the model\n",
    "mse = mean_squared_error(y_test, y_pred)\n",
    "r2 = r2_score(y_test, y_pred)\n",
    "\n",
    "print(f\"\\nMean Squared Error on Test Set: {mse:.2f}\")\n",
    "print(f\"R-squared Score on Test Set: {r2:.2f}\")"
   ]
  },
  {
   "cell_type": "code",
   "execution_count": null,
   "id": "6b3711b7-afaa-4574-a6c5-b0fdeee97445",
   "metadata": {},
   "outputs": [],
   "source": []
  },
  {
   "cell_type": "code",
   "execution_count": null,
   "id": "3d0056ba-1507-45be-a2b4-002b9e49999e",
   "metadata": {},
   "outputs": [],
   "source": []
  }
 ],
 "metadata": {
  "kernelspec": {
   "display_name": "Python 3 (ipykernel)",
   "language": "python",
   "name": "python3"
  },
  "language_info": {
   "codemirror_mode": {
    "name": "ipython",
    "version": 3
   },
   "file_extension": ".py",
   "mimetype": "text/x-python",
   "name": "python",
   "nbconvert_exporter": "python",
   "pygments_lexer": "ipython3",
   "version": "3.11.11"
  }
 },
 "nbformat": 4,
 "nbformat_minor": 5
}
