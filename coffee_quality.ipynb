{
 "cells": [
  {
   "cell_type": "code",
   "execution_count": 34,
   "metadata": {},
   "outputs": [],
   "source": [
    "import pandas as pd \n",
    "import numpy as np\n",
    "from sklearn.model_selection import train_test_split\n",
    "from sklearn.linear_model import LinearRegression\n",
    "from sklearn.neighbors import KNeighborsRegressor\n",
    "from sklearn.metrics import mean_squared_error\n",
    "import matplotlib.pyplot as plt\n",
    "from sklearn.preprocessing import StandardScaler\n",
    "from sklearn.model_selection import GridSearchCV\n",
    "from sklearn.linear_model import Ridge, Lasso\n",
    "from sklearn.ensemble import RandomForestRegressor"
   ]
  },
  {
   "cell_type": "code",
   "execution_count": 35,
   "metadata": {},
   "outputs": [],
   "source": [
    "plt.close('all')"
   ]
  },
  {
   "cell_type": "markdown",
   "metadata": {},
   "source": [
    "## EDA"
   ]
  },
  {
   "cell_type": "code",
   "execution_count": 36,
   "metadata": {},
   "outputs": [
    {
     "data": {
      "application/vnd.microsoft.datawrangler.viewer.v0+json": {
       "columns": [
        {
         "name": "index",
         "rawType": "int64",
         "type": "integer"
        },
        {
         "name": "name",
         "rawType": "object",
         "type": "string"
        },
        {
         "name": "roaster",
         "rawType": "object",
         "type": "string"
        },
        {
         "name": "roast",
         "rawType": "object",
         "type": "string"
        },
        {
         "name": "loc_country",
         "rawType": "object",
         "type": "string"
        },
        {
         "name": "origin_1",
         "rawType": "object",
         "type": "string"
        },
        {
         "name": "origin_2",
         "rawType": "object",
         "type": "string"
        },
        {
         "name": "100g_USD",
         "rawType": "float64",
         "type": "float"
        },
        {
         "name": "rating",
         "rawType": "int64",
         "type": "integer"
        },
        {
         "name": "review_date",
         "rawType": "object",
         "type": "string"
        },
        {
         "name": "desc_1",
         "rawType": "object",
         "type": "string"
        },
        {
         "name": "desc_2",
         "rawType": "object",
         "type": "string"
        },
        {
         "name": "desc_3",
         "rawType": "object",
         "type": "string"
        }
       ],
       "conversionMethod": "pd.DataFrame",
       "ref": "0af41541-6bb9-4b02-b0b7-f1ff92baf403",
       "rows": [
        [
         "0",
         "“Sweety” Espresso Blend",
         "A.R.C.",
         "Medium-Light",
         "Hong Kong",
         "Panama",
         "Ethiopia",
         "14.32",
         "95",
         "November 2017",
         "Evaluated as espresso. Sweet-toned, deeply rich, chocolaty. Vanilla paste, dark chocolate, narcissus, pink grapefruit zest, black cherry in aroma and cup. Plush, syrupy mouthfeel; resonant, flavor-saturated finish. In three parts milk, rich chocolate tones intensify, along with intimations of vanilla paste and black cherry in the short finish and floral-toned citrus zest in the long. ",
         "An espresso blend comprised of coffees from Panama and Ethiopia. A.R.C., whose motto is “more than specialty,” rigorously controls three vital elements: sourcing of green coffee, roasting, and, in cafe environments, water quality for brewed coffee. For more information, visit http://www.arc.coffee/en/index.html.",
         "A radiant espresso blend that shines equally in the straight shot and in milk, alive with notes of rich dark chocolate and black cherry."
        ],
        [
         "1",
         "Flora Blend Espresso",
         "A.R.C.",
         "Medium-Light",
         "Hong Kong",
         "Africa",
         "Asia Pacific",
         "9.05",
         "94",
         "November 2017",
         "Evaluated as espresso. Sweetly tart, floral-toned. Honeysuckle, oak, dried apricot, dark chocolate, thyme in aroma and small cup. Delicately syrupy body; gently drying, floral-driven finish in the short and sweetly herb-toned in the long. In three parts milk, chocolate, florals and fruit all take center stage, and thyme-like herb notes gently follow.",
         "An espresso blend comprised of coffees from Africa and the Asia-Pacific. A.R.C., whose motto is “more than specialty,” rigorously controls three vital elements: sourcing of green coffee, roasting, and, in cafe environments, water quality for brewed coffee. For more information, visit http://www.arc.coffee/en/index.html.",
         "A floral-driven straight shot, amplified with notes of stone fruit and chocolate in cappuccino-scaled milk."
        ],
        [
         "2",
         "Ethiopia Shakiso Mormora",
         "Revel Coffee",
         "Medium-Light",
         "United States",
         "Guji Zone",
         "Southern Ethiopia",
         "4.7",
         "92",
         "November 2017",
         "Crisply sweet, cocoa-toned. Lemon blossom, roasted cacao nib, date, rice candy, white peppercorn in aroma and cup. Savory-tart structure; delicate, silky mouthfeel. The richly drying finish leads with cocoa-toned, crisply sweet floral notes in the short and a hint of spice (white peppercorn) in the long.",
         "This coffee tied for the third-highest rating in a tasting of 71 organic-certified coffees from Africa for Coffee Review’s November 2017 tasting report. Southern Ethiopia coffees like this one are produced from traditional Ethiopian varieties of Arabica long grown in the region. When processed by the wet or washed method (fruit skin and pulp are removed before drying) they typically express great aromatic complexity and intensity with a particular emphasis on floral notes. Like virtually all southern Ethiopia coffees, this coffee is produced by villagers on small, garden plots interplanted with food and other subsistence crops. Revel Coffee is a micro-roaster located in Billings, Montana. Its motto: “Quality is paramount — a difference you can revel in.” Visit www.revelcoffee.com or call 406-534-9621 for more information.",
         "A gently spice-toned, floral- driven wet-processed Ethiopia cup with pleasing notes of cocoa throughout."
        ],
        [
         "3",
         "Ethiopia Suke Quto",
         "Roast House",
         "Medium-Light",
         "United States",
         "Guji Zone",
         "Oromia Region",
         "4.19",
         "92",
         "November 2017",
         "Delicate, sweetly spice-toned. Pink peppercorn, date, myrrh, lavender, roasted cacao nib in aroma and cup. Crisp, spice-toned structure with citrus-like acidity; satiny, very smooth mouthfeel. The crisply sweet finish centers around spice and pungent floral notes.",
         "This coffee tied for the third-highest rating in a tasting of 71 organic-certified coffees from Africa for Coffee Review’s November 2017 tasting report. Southern Ethiopia coffees like this one are produced from traditional Ethiopian varieties of Arabica long grown in the region. When processed by the wet or washed method (fruit skin and pulp are removed before drying) they typically express great aromatic complexity and intensity with a particular emphasis on floral notes. Like virtually all southern Ethiopia coffees, this one is produced by villagers on small, garden plots interplanted with food and other subsistence crops. Roast House is a small-batch, quality-focused roaster specializing in farm-direct organic-certified and Fair Trade Certified coffees. Visit roasthousecoffee.com or call 509-995-6500 for more information.",
         "Lavender-like flowers and hints of zesty pink peppercorn animate this crisply sweet wet-processed Ethiopia cup."
        ],
        [
         "4",
         "Ethiopia Gedeb Halo Beriti",
         "Big Creek Coffee Roasters",
         "Medium",
         "United States",
         "Gedeb District",
         "Gedeo Zone",
         "4.85",
         "94",
         "November 2017",
         "Deeply sweet, subtly pungent. Honey, pear, tangerine zest, dark chocolate, pistachio in aroma and cup. Sweet and juicy yet crisp in structure (think ripe pear); plush and buoyant in mouthfeel. Resonant and flavor saturated in the short finish; simplifies around hints of tangerine and pistachio in the long.",
         "Southern Ethiopia coffees like this one are produced from distinctive traditional Ethiopian varieties of Arabica long grown in the region. Like virtually all southern Ethiopia coffees, this coffee is produced by villagers on small garden plots interplanted with food and other subsistence crops. Processed by the wet or washed method (fruit skin and pulp are removed before drying). This coffee tied for the highest rating in a tasting of 71 organic-certified coffees from Africa for Coffee Review’s November 2017 tasting report. Big Creek Coffee Roasters is a small, quality-oriented batch roaster located in Montana’s Bitterroot Valley. Visit www.bigcreekcoffeeroasters.com or call 406-375-7508 for more information.",
         "A deeply and generously lush cup saved from sentimentality by a crisp, incense-like, slightly savory edge. Very wide range of aromatics."
        ]
       ],
       "shape": {
        "columns": 12,
        "rows": 5
       }
      },
      "text/html": [
       "<div>\n",
       "<style scoped>\n",
       "    .dataframe tbody tr th:only-of-type {\n",
       "        vertical-align: middle;\n",
       "    }\n",
       "\n",
       "    .dataframe tbody tr th {\n",
       "        vertical-align: top;\n",
       "    }\n",
       "\n",
       "    .dataframe thead th {\n",
       "        text-align: right;\n",
       "    }\n",
       "</style>\n",
       "<table border=\"1\" class=\"dataframe\">\n",
       "  <thead>\n",
       "    <tr style=\"text-align: right;\">\n",
       "      <th></th>\n",
       "      <th>name</th>\n",
       "      <th>roaster</th>\n",
       "      <th>roast</th>\n",
       "      <th>loc_country</th>\n",
       "      <th>origin_1</th>\n",
       "      <th>origin_2</th>\n",
       "      <th>100g_USD</th>\n",
       "      <th>rating</th>\n",
       "      <th>review_date</th>\n",
       "      <th>desc_1</th>\n",
       "      <th>desc_2</th>\n",
       "      <th>desc_3</th>\n",
       "    </tr>\n",
       "  </thead>\n",
       "  <tbody>\n",
       "    <tr>\n",
       "      <th>0</th>\n",
       "      <td>“Sweety” Espresso Blend</td>\n",
       "      <td>A.R.C.</td>\n",
       "      <td>Medium-Light</td>\n",
       "      <td>Hong Kong</td>\n",
       "      <td>Panama</td>\n",
       "      <td>Ethiopia</td>\n",
       "      <td>14.32</td>\n",
       "      <td>95</td>\n",
       "      <td>November 2017</td>\n",
       "      <td>Evaluated as espresso. Sweet-toned, deeply ric...</td>\n",
       "      <td>An espresso blend comprised of coffees from Pa...</td>\n",
       "      <td>A radiant espresso blend that shines equally i...</td>\n",
       "    </tr>\n",
       "    <tr>\n",
       "      <th>1</th>\n",
       "      <td>Flora Blend Espresso</td>\n",
       "      <td>A.R.C.</td>\n",
       "      <td>Medium-Light</td>\n",
       "      <td>Hong Kong</td>\n",
       "      <td>Africa</td>\n",
       "      <td>Asia Pacific</td>\n",
       "      <td>9.05</td>\n",
       "      <td>94</td>\n",
       "      <td>November 2017</td>\n",
       "      <td>Evaluated as espresso. Sweetly tart, floral-to...</td>\n",
       "      <td>An espresso blend comprised of coffees from Af...</td>\n",
       "      <td>A floral-driven straight shot, amplified with ...</td>\n",
       "    </tr>\n",
       "    <tr>\n",
       "      <th>2</th>\n",
       "      <td>Ethiopia Shakiso Mormora</td>\n",
       "      <td>Revel Coffee</td>\n",
       "      <td>Medium-Light</td>\n",
       "      <td>United States</td>\n",
       "      <td>Guji Zone</td>\n",
       "      <td>Southern Ethiopia</td>\n",
       "      <td>4.70</td>\n",
       "      <td>92</td>\n",
       "      <td>November 2017</td>\n",
       "      <td>Crisply sweet, cocoa-toned. Lemon blossom, roa...</td>\n",
       "      <td>This coffee tied for the third-highest rating ...</td>\n",
       "      <td>A gently spice-toned, floral- driven wet-proce...</td>\n",
       "    </tr>\n",
       "    <tr>\n",
       "      <th>3</th>\n",
       "      <td>Ethiopia Suke Quto</td>\n",
       "      <td>Roast House</td>\n",
       "      <td>Medium-Light</td>\n",
       "      <td>United States</td>\n",
       "      <td>Guji Zone</td>\n",
       "      <td>Oromia Region</td>\n",
       "      <td>4.19</td>\n",
       "      <td>92</td>\n",
       "      <td>November 2017</td>\n",
       "      <td>Delicate, sweetly spice-toned. Pink peppercorn...</td>\n",
       "      <td>This coffee tied for the third-highest rating ...</td>\n",
       "      <td>Lavender-like flowers and hints of zesty pink ...</td>\n",
       "    </tr>\n",
       "    <tr>\n",
       "      <th>4</th>\n",
       "      <td>Ethiopia Gedeb Halo Beriti</td>\n",
       "      <td>Big Creek Coffee Roasters</td>\n",
       "      <td>Medium</td>\n",
       "      <td>United States</td>\n",
       "      <td>Gedeb District</td>\n",
       "      <td>Gedeo Zone</td>\n",
       "      <td>4.85</td>\n",
       "      <td>94</td>\n",
       "      <td>November 2017</td>\n",
       "      <td>Deeply sweet, subtly pungent. Honey, pear, tan...</td>\n",
       "      <td>Southern Ethiopia coffees like this one are pr...</td>\n",
       "      <td>A deeply and generously lush cup saved from se...</td>\n",
       "    </tr>\n",
       "  </tbody>\n",
       "</table>\n",
       "</div>"
      ],
      "text/plain": [
       "                         name                    roaster         roast  \\\n",
       "0     “Sweety” Espresso Blend                     A.R.C.  Medium-Light   \n",
       "1        Flora Blend Espresso                     A.R.C.  Medium-Light   \n",
       "2    Ethiopia Shakiso Mormora               Revel Coffee  Medium-Light   \n",
       "3          Ethiopia Suke Quto                Roast House  Medium-Light   \n",
       "4  Ethiopia Gedeb Halo Beriti  Big Creek Coffee Roasters        Medium   \n",
       "\n",
       "     loc_country        origin_1           origin_2  100g_USD  rating  \\\n",
       "0      Hong Kong          Panama           Ethiopia     14.32      95   \n",
       "1      Hong Kong          Africa       Asia Pacific      9.05      94   \n",
       "2  United States       Guji Zone  Southern Ethiopia      4.70      92   \n",
       "3  United States       Guji Zone      Oromia Region      4.19      92   \n",
       "4  United States  Gedeb District         Gedeo Zone      4.85      94   \n",
       "\n",
       "     review_date                                             desc_1  \\\n",
       "0  November 2017  Evaluated as espresso. Sweet-toned, deeply ric...   \n",
       "1  November 2017  Evaluated as espresso. Sweetly tart, floral-to...   \n",
       "2  November 2017  Crisply sweet, cocoa-toned. Lemon blossom, roa...   \n",
       "3  November 2017  Delicate, sweetly spice-toned. Pink peppercorn...   \n",
       "4  November 2017  Deeply sweet, subtly pungent. Honey, pear, tan...   \n",
       "\n",
       "                                              desc_2  \\\n",
       "0  An espresso blend comprised of coffees from Pa...   \n",
       "1  An espresso blend comprised of coffees from Af...   \n",
       "2  This coffee tied for the third-highest rating ...   \n",
       "3  This coffee tied for the third-highest rating ...   \n",
       "4  Southern Ethiopia coffees like this one are pr...   \n",
       "\n",
       "                                              desc_3  \n",
       "0  A radiant espresso blend that shines equally i...  \n",
       "1  A floral-driven straight shot, amplified with ...  \n",
       "2  A gently spice-toned, floral- driven wet-proce...  \n",
       "3  Lavender-like flowers and hints of zesty pink ...  \n",
       "4  A deeply and generously lush cup saved from se...  "
      ]
     },
     "execution_count": 36,
     "metadata": {},
     "output_type": "execute_result"
    }
   ],
   "source": [
    "df = pd.read_csv('coffee_analysis.csv')\n",
    "df.head()"
   ]
  },
  {
   "cell_type": "code",
   "execution_count": 37,
   "metadata": {},
   "outputs": [
    {
     "name": "stdout",
     "output_type": "stream",
     "text": [
      "<class 'pandas.core.frame.DataFrame'>\n",
      "RangeIndex: 2095 entries, 0 to 2094\n",
      "Data columns (total 12 columns):\n",
      " #   Column       Non-Null Count  Dtype  \n",
      "---  ------       --------------  -----  \n",
      " 0   name         2095 non-null   object \n",
      " 1   roaster      2095 non-null   object \n",
      " 2   roast        2080 non-null   object \n",
      " 3   loc_country  2095 non-null   object \n",
      " 4   origin_1     2095 non-null   object \n",
      " 5   origin_2     2095 non-null   object \n",
      " 6   100g_USD     2095 non-null   float64\n",
      " 7   rating       2095 non-null   int64  \n",
      " 8   review_date  2095 non-null   object \n",
      " 9   desc_1       2095 non-null   object \n",
      " 10  desc_2       2095 non-null   object \n",
      " 11  desc_3       2093 non-null   object \n",
      "dtypes: float64(1), int64(1), object(10)\n",
      "memory usage: 196.5+ KB\n"
     ]
    }
   ],
   "source": [
    "df.info()"
   ]
  },
  {
   "cell_type": "markdown",
   "metadata": {},
   "source": [
    "### **Find missing values**"
   ]
  },
  {
   "cell_type": "code",
   "execution_count": 38,
   "metadata": {},
   "outputs": [
    {
     "data": {
      "text/plain": [
       "name            0\n",
       "roaster         0\n",
       "roast          15\n",
       "loc_country     0\n",
       "origin_1        0\n",
       "origin_2        0\n",
       "100g_USD        0\n",
       "rating          0\n",
       "review_date     0\n",
       "desc_1          0\n",
       "desc_2          0\n",
       "desc_3          2\n",
       "dtype: int64"
      ]
     },
     "execution_count": 38,
     "metadata": {},
     "output_type": "execute_result"
    }
   ],
   "source": [
    "df.isnull().sum()"
   ]
  },
  {
   "cell_type": "markdown",
   "metadata": {},
   "source": [
    "### **Drop rows with missing values since its only 17 values**"
   ]
  },
  {
   "cell_type": "code",
   "execution_count": 39,
   "metadata": {},
   "outputs": [
    {
     "data": {
      "application/vnd.microsoft.datawrangler.viewer.v0+json": {
       "columns": [
        {
         "name": "index",
         "rawType": "object",
         "type": "string"
        },
        {
         "name": "100g_USD",
         "rawType": "float64",
         "type": "float"
        },
        {
         "name": "rating",
         "rawType": "float64",
         "type": "float"
        }
       ],
       "conversionMethod": "pd.DataFrame",
       "ref": "dabd27c2-b4a9-4c78-9952-83b5286931fc",
       "rows": [
        [
         "count",
         "2078.0",
         "2078.0"
        ],
        [
         "mean",
         "9.088238691049085",
         "93.11260827718961"
        ],
        [
         "std",
         "10.341997540205767",
         "1.5638627385316028"
        ],
        [
         "min",
         "0.17",
         "84.0"
        ],
        [
         "25%",
         "4.93",
         "92.0"
        ],
        [
         "50%",
         "5.86",
         "93.0"
        ],
        [
         "75%",
         "8.77",
         "94.0"
        ],
        [
         "max",
         "132.28",
         "98.0"
        ]
       ],
       "shape": {
        "columns": 2,
        "rows": 8
       }
      },
      "text/html": [
       "<div>\n",
       "<style scoped>\n",
       "    .dataframe tbody tr th:only-of-type {\n",
       "        vertical-align: middle;\n",
       "    }\n",
       "\n",
       "    .dataframe tbody tr th {\n",
       "        vertical-align: top;\n",
       "    }\n",
       "\n",
       "    .dataframe thead th {\n",
       "        text-align: right;\n",
       "    }\n",
       "</style>\n",
       "<table border=\"1\" class=\"dataframe\">\n",
       "  <thead>\n",
       "    <tr style=\"text-align: right;\">\n",
       "      <th></th>\n",
       "      <th>100g_USD</th>\n",
       "      <th>rating</th>\n",
       "    </tr>\n",
       "  </thead>\n",
       "  <tbody>\n",
       "    <tr>\n",
       "      <th>count</th>\n",
       "      <td>2078.000000</td>\n",
       "      <td>2078.000000</td>\n",
       "    </tr>\n",
       "    <tr>\n",
       "      <th>mean</th>\n",
       "      <td>9.088239</td>\n",
       "      <td>93.112608</td>\n",
       "    </tr>\n",
       "    <tr>\n",
       "      <th>std</th>\n",
       "      <td>10.341998</td>\n",
       "      <td>1.563863</td>\n",
       "    </tr>\n",
       "    <tr>\n",
       "      <th>min</th>\n",
       "      <td>0.170000</td>\n",
       "      <td>84.000000</td>\n",
       "    </tr>\n",
       "    <tr>\n",
       "      <th>25%</th>\n",
       "      <td>4.930000</td>\n",
       "      <td>92.000000</td>\n",
       "    </tr>\n",
       "    <tr>\n",
       "      <th>50%</th>\n",
       "      <td>5.860000</td>\n",
       "      <td>93.000000</td>\n",
       "    </tr>\n",
       "    <tr>\n",
       "      <th>75%</th>\n",
       "      <td>8.770000</td>\n",
       "      <td>94.000000</td>\n",
       "    </tr>\n",
       "    <tr>\n",
       "      <th>max</th>\n",
       "      <td>132.280000</td>\n",
       "      <td>98.000000</td>\n",
       "    </tr>\n",
       "  </tbody>\n",
       "</table>\n",
       "</div>"
      ],
      "text/plain": [
       "          100g_USD       rating\n",
       "count  2078.000000  2078.000000\n",
       "mean      9.088239    93.112608\n",
       "std      10.341998     1.563863\n",
       "min       0.170000    84.000000\n",
       "25%       4.930000    92.000000\n",
       "50%       5.860000    93.000000\n",
       "75%       8.770000    94.000000\n",
       "max     132.280000    98.000000"
      ]
     },
     "execution_count": 39,
     "metadata": {},
     "output_type": "execute_result"
    }
   ],
   "source": [
    "df.dropna(inplace=True)\n",
    "df.describe()"
   ]
  },
  {
   "cell_type": "markdown",
   "metadata": {},
   "source": [
    "### **Find categorical column cardinality**"
   ]
  },
  {
   "cell_type": "code",
   "execution_count": 40,
   "metadata": {},
   "outputs": [
    {
     "data": {
      "text/plain": [
       "name           1896\n",
       "roaster         421\n",
       "roast             5\n",
       "loc_country      19\n",
       "origin_1        611\n",
       "origin_2        357\n",
       "review_date      61\n",
       "desc_1         2075\n",
       "desc_2         2012\n",
       "desc_3         2075\n",
       "dtype: int64"
      ]
     },
     "execution_count": 40,
     "metadata": {},
     "output_type": "execute_result"
    }
   ],
   "source": [
    "df.select_dtypes(include=['object']).nunique()"
   ]
  },
  {
   "cell_type": "markdown",
   "metadata": {},
   "source": [
    "### **Plot the distribution of the rating column**"
   ]
  },
  {
   "cell_type": "code",
   "execution_count": 41,
   "metadata": {},
   "outputs": [
    {
     "data": {
      "text/plain": [
       "<Axes: >"
      ]
     },
     "execution_count": 41,
     "metadata": {},
     "output_type": "execute_result"
    }
   ],
   "source": [
    "df.boxplot(column=\"rating\")"
   ]
  },
  {
   "cell_type": "markdown",
   "metadata": {},
   "source": [
    "### **Split data into numerical and categorical**"
   ]
  },
  {
   "cell_type": "code",
   "execution_count": 42,
   "metadata": {},
   "outputs": [],
   "source": [
    "categorical_columns = df.select_dtypes(include=[\"object\"]).columns\n",
    "numerical_columns = df.drop(columns=categorical_columns).columns"
   ]
  },
  {
   "cell_type": "markdown",
   "metadata": {},
   "source": [
    "### **Find the Correlation of each variable with price**"
   ]
  },
  {
   "cell_type": "code",
   "execution_count": null,
   "metadata": {},
   "outputs": [],
   "source": [
    "numerical_corr = df[numerical_columns].corr()['rating'].sort_values(ascending=False)\n",
    "print(numerical_corr)\n",
    "for col in categorical_columns:\n",
    "    if col not in [\"name\", \"desc_1\", \"desc_2\", \"desc_3\", \"roast\"]:\n",
    "        means = df.groupby(col)[\"rating\"].mean()\n",
    "        overall_mean = df[\"rating\"].mean()\n",
    "        categorical_corr = means.corr(pd.Series([overall_mean] * len(means), index=means.index))\n",
    "        with np.errstate(divide=\"ignore\", invalid=\"ignore\"): \n",
    "            print(col + \": \" + str(categorical_corr))"
   ]
  },
  {
   "cell_type": "markdown",
   "metadata": {},
   "source": [
    "### **Create a boxplot for each categorical column in relation to rating**"
   ]
  },
  {
   "cell_type": "code",
   "execution_count": 43,
   "metadata": {},
   "outputs": [
    {
     "data": {
      "image/png": "[encoded data removed]",
      "text/plain": [
       "<Figure size 640x480 with 1 Axes>"
      ]
     },
     "metadata": {},
     "output_type": "display_data"
    },
    {
     "data": {
      "image/png": "[encoded data removed]",
      "text/plain": [
       "<Figure size 640x480 with 1 Axes>"
      ]
     },
     "metadata": {},
     "output_type": "display_data"
    },
    {
     "data": {
      "image/png": "[encoded data removed]",
      "text/plain": [
       "<Figure size 640x480 with 1 Axes>"
      ]
     },
     "metadata": {},
     "output_type": "display_data"
    },
    {
     "data": {
      "image/png": "[encoded data removed]",
      "text/plain": [
       "<Figure size 640x480 with 1 Axes>"
      ]
     },
     "metadata": {},
     "output_type": "display_data"
    },
    {
     "data": {
      "image/png": "[encoded data removed]",
      "text/plain": [
       "<Figure size 640x480 with 1 Axes>"
      ]
     },
     "metadata": {},
     "output_type": "display_data"
    },
    {
     "data": {
      "image/png": "[encoded data removed]",
      "text/plain": [
       "<Figure size 640x480 with 1 Axes>"
      ]
     },
     "metadata": {},
     "output_type": "display_data"
    },
    {
     "data": {
      "image/png": "[encoded data removed]",
      "text/plain": [
       "<Figure size 640x480 with 1 Axes>"
      ]
     },
     "metadata": {},
     "output_type": "display_data"
    }
   ],
   "source": [
    "for col in categorical_columns:\n",
    "    # Do not include columns with very high cardinality\n",
    "    if col not in [\"name\", \"desc_1\", \"desc_2\", \"desc_3\"]:\n",
    "        df.boxplot(column=\"rating\", by=col)\n",
    "        plt.show()"
   ]
  },
  {
   "cell_type": "markdown",
   "metadata": {},
   "source": [
    "### **Create a scatter plot for every numerical column in relation to price**"
   ]
  },
  {
   "cell_type": "code",
   "execution_count": 44,
   "metadata": {},
   "outputs": [
    {
     "data": {
      "image/png": "[encoded data removed]",
      "text/plain": [
       "<Figure size 640x480 with 1 Axes>"
      ]
     },
     "metadata": {},
     "output_type": "display_data"
    }
   ],
   "source": [
    "numerical_columns_no_features = numerical_columns.drop([\"rating\"])\n",
    "for col in numerical_columns_no_features:\n",
    "    df.plot.scatter(x=col, y=\"rating\")\n",
    "    plt.show()"
   ]
  },
  {
   "cell_type": "markdown",
   "metadata": {},
   "source": [
    "## **Simple Bias Regressor (Baseline)**"
   ]
  },
  {
   "cell_type": "markdown",
   "metadata": {},
   "source": [
    "### **Simple bias baseline mse**"
   ]
  },
  {
   "cell_type": "code",
   "execution_count": 45,
   "metadata": {},
   "outputs": [
    {
     "name": "stdout",
     "output_type": "stream",
     "text": [
      "Mean Squared Error: 2.4444897320200347\n"
     ]
    }
   ],
   "source": [
    "y = df[\"rating\"]\n",
    "y_pred = [y.mean()] * len(y)\n",
    "mse = mean_squared_error(y, y_pred)\n",
    "print(f\"Mean Squared Error: {mse}\")"
   ]
  },
  {
   "cell_type": "markdown",
   "metadata": {},
   "source": [
    "## **Single Feature Linear Regression**"
   ]
  },
  {
   "cell_type": "code",
   "execution_count": 46,
   "metadata": {},
   "outputs": [
    {
     "name": "stdout",
     "output_type": "stream",
     "text": [
      "Score for loc_country: 0.013796551329489093\n",
      "Score for roast: 0.020207363245151155\n",
      "Score for 100g_USD: 0.05573202036912084\n"
     ]
    }
   ],
   "source": [
    "# features that look like they could be useful for prediction\n",
    "pot_cat_features = [\"loc_country\", \"roast\"]\n",
    "pot_num_features = [\"100g_USD\"]\n",
    "\n",
    "# train linear regression model on a single categorical feature\n",
    "for f in pot_cat_features:\n",
    "    df2 = df.copy()\n",
    "    df2 = df2[[\"rating\", f]]\n",
    "    df2.dropna(subset=[f], inplace=True)\n",
    "    X = df2[[f]]\n",
    "    y = df2[\"rating\"]\n",
    "    X = pd.get_dummies(X, columns=[f])\n",
    "    X_train, X_test, y_train, y_test = train_test_split(X, y, test_size=0.2, random_state=0)\n",
    "    scaler = StandardScaler()\n",
    "    X_train = scaler.fit_transform(X_train)\n",
    "    X_test = scaler.transform(X_test)\n",
    "    lr = LinearRegression()\n",
    "    lr.fit(X_train, y_train)\n",
    "    print(f\"Score for {f}: {lr.score(X_test, y_test)}\")\n",
    "\n",
    "# train linear regression model on a single numerical feature\n",
    "for f in pot_num_features:\n",
    "    df2 = df.copy()\n",
    "    df2 = df2[[\"rating\", f]]\n",
    "    df2.dropna(subset=[f], inplace=True)\n",
    "    X = df2[[f]]\n",
    "    y = df2[\"rating\"]\n",
    "    X_train, X_test, y_train, y_test = train_test_split(X, y, test_size=0.2, random_state=0)\n",
    "    scaler = StandardScaler()\n",
    "    X_train = scaler.fit_transform(X_train)\n",
    "    X_test = scaler.transform(X_test)\n",
    "    lr = LinearRegression()\n",
    "    lr.fit(X_train, y_train)\n",
    "    print(f\"Score for {f}: {lr.score(X_test, y_test)}\")\n"
   ]
  },
  {
   "cell_type": "markdown",
   "metadata": {},
   "source": [
    "All three of these features very slightly beat the simple bias regressor showing a small level of linear correlation with the target"
   ]
  },
  {
   "cell_type": "code",
   "execution_count": 47,
   "metadata": {},
   "outputs": [
    {
     "name": "stdout",
     "output_type": "stream",
     "text": [
      "{'n_neighbors': 28}\n",
      "Score for loc_country: 0.02291177399038391\n",
      "{'n_neighbors': 13}\n",
      "Score for roast: 0.04942656574895954\n",
      "{'n_neighbors': 19}\n",
      "Score for 100g_USD: 0.09854933075721284\n"
     ]
    }
   ],
   "source": [
    "# train knn regressor on a single categorical feature\n",
    "for f in pot_cat_features:\n",
    "    df2 = df.copy()\n",
    "    df2 = df2[[\"rating\", f]]\n",
    "    df2.dropna(subset=[f], inplace=True)\n",
    "    X = df2[[f]]\n",
    "    y = df2[\"rating\"]\n",
    "    X = pd.get_dummies(X, columns=[f])\n",
    "    X_train, X_test, y_train, y_test = train_test_split(X, y, test_size=0.2, random_state=0)\n",
    "    scaler = StandardScaler()\n",
    "    X_train = scaler.fit_transform(X_train)\n",
    "    X_test = scaler.transform(X_test)\n",
    "    \n",
    "    params = {'n_neighbors':list(range(1, 50))}\n",
    "    lr = KNeighborsRegressor()\n",
    "    lr = GridSearchCV(lr, params, cv=5)\n",
    "    lr.fit(X_train, y_train)\n",
    "    print(lr.best_params_)\n",
    "    print(f\"Score for {f}: {lr.score(X_test, y_test)}\")\n",
    "\n",
    "# train knn regressor on a single numerical feature\n",
    "for f in pot_num_features:\n",
    "    df2 = df.copy()\n",
    "    df2 = df2[[\"rating\", f]]\n",
    "    df2.dropna(subset=[f], inplace=True)\n",
    "    X = df2[[f]]\n",
    "    y = df2[\"rating\"]\n",
    "    X_train, X_test, y_train, y_test = train_test_split(X, y, test_size=0.2, random_state=0)\n",
    "    scaler = StandardScaler()\n",
    "    X_train = scaler.fit_transform(X_train)\n",
    "    X_test = scaler.transform(X_test)\n",
    "    \n",
    "    params = {'n_neighbors':list(range(1, 50))}\n",
    "    lr = KNeighborsRegressor()\n",
    "    lr = GridSearchCV(lr, params, cv=5)\n",
    "    lr.fit(X_train, y_train)\n",
    "    print(lr.best_params_)\n",
    "    print(f\"Score for {f}: {lr.score(X_test, y_test)}\")"
   ]
  },
  {
   "cell_type": "markdown",
   "metadata": {},
   "source": [
    "Using KNN regressors performs better for the '100g_USD' and 'loc_country' features, as they demonstrate a better spatial correlation with the target. However, the 'roast' feature is now worse than the baseline regressor at predicting the target. "
   ]
  },
  {
   "cell_type": "markdown",
   "metadata": {},
   "source": [
    "## **Feature Selection (Linear Regression)**"
   ]
  },
  {
   "cell_type": "code",
   "execution_count": 48,
   "metadata": {},
   "outputs": [],
   "source": [
    "# all features to be used in the model\n",
    "cat_features = [\"loc_country\", \"roast\"]\n",
    "features = [\"loc_country\", \"roast\", \"100g_USD\"]\n",
    "\n",
    "R2_arr = []\n",
    "MSE_arr = []\n",
    "feature_subset_arr = []\n",
    "\n",
    "# Use every possible subset of features to find the optimal set\n",
    "for mask in range(1, 1<<len(features)):\n",
    "    feature_subset = [features[i] for i in range(len(features)) if mask & (1 << i)]\n",
    "    cat_features_subset = [f for f in feature_subset if f in cat_features]\n",
    "    feature_subset_arr.append(feature_subset)\n",
    "\n",
    "    df2 = df.copy()\n",
    "    df2.dropna(subset=feature_subset, inplace=True)\n",
    "    X = df2[feature_subset]\n",
    "    y = df2[\"rating\"]\n",
    "\n",
    "    # One hot encode categorical features\n",
    "    X = pd.get_dummies(X, columns=cat_features_subset)\n",
    "\n",
    "    # Train test split (80/20)\n",
    "    X_train, X_test, y_train, y_test = train_test_split(X, y, test_size=0.2, random_state=0)\n",
    "\n",
    "    # standardize features\n",
    "    scaler = StandardScaler()\n",
    "    X_train = scaler.fit_transform(X_train)\n",
    "    X_test = scaler.transform(X_test)\n",
    "\n",
    "    # train linear regression model\n",
    "    lr = LinearRegression()\n",
    "    lr.fit(X_train, y_train)\n",
    "\n",
    "    # score linear regression model\n",
    "    R2 = lr.score(X_test, y_test)\n",
    "    R2_arr.append(R2)\n",
    "    y_pred = lr.predict(X_test)\n",
    "    mse = mean_squared_error(y_test, y_pred)\n",
    "    MSE_arr.append(mse)\n"
   ]
  },
  {
   "cell_type": "code",
   "execution_count": 49,
   "metadata": {},
   "outputs": [
    {
     "name": "stdout",
     "output_type": "stream",
     "text": [
      "Optimal feature subset: ['loc_country', 'roast', '100g_USD']\n",
      "R2: 0.10645179902592694\n",
      "MSE: 2.332655659731295\n"
     ]
    }
   ],
   "source": [
    "# display optimal feature subset results\n",
    "idx = np.argmax(R2_arr)\n",
    "print(f\"Optimal feature subset: {feature_subset_arr[idx]}\")\n",
    "print(f\"R2: {R2_arr[idx]}\")\n",
    "print(f\"MSE: {MSE_arr[idx]}\")\n",
    "optimal_features = feature_subset_arr[idx]\n",
    "optimal_cat_features = [f for f in optimal_features if f in cat_features]"
   ]
  },
  {
   "cell_type": "markdown",
   "metadata": {},
   "source": [
    "Using only these three features with linear regression does not predict rating well; hoewver, it does beat the baseline simple bias regressor. "
   ]
  },
  {
   "cell_type": "code",
   "execution_count": 50,
   "metadata": {},
   "outputs": [],
   "source": [
    "# Train optimal model\n",
    "df2 = df.copy()\n",
    "df2.dropna(subset=optimal_features, inplace=True)\n",
    "X = df2[optimal_features]\n",
    "y = df2[\"rating\"]\n",
    "\n",
    "# One hot encode categorical features\n",
    "X = pd.get_dummies(X, columns=optimal_cat_features)\n",
    "\n",
    "# Train test split (80/20)\n",
    "X_train, X_test, y_train, y_test = train_test_split(X, y, test_size=0.2, random_state=0)\n",
    "\n",
    "# standardize features\n",
    "scaler = StandardScaler()\n",
    "X_train = scaler.fit_transform(X_train)\n",
    "X_test = scaler.transform(X_test)\n",
    "\n",
    "# train linear regression model\n",
    "lr = LinearRegression()\n",
    "lr.fit(X_train, y_train)\n",
    "\n",
    "# get optimal predictions\n",
    "y_pred = lr.predict(X_test)"
   ]
  },
  {
   "cell_type": "code",
   "execution_count": 51,
   "metadata": {},
   "outputs": [
    {
     "data": {
      "application/vnd.microsoft.datawrangler.viewer.v0+json": {
       "columns": [
        {
         "name": "index",
         "rawType": "object",
         "type": "string"
        },
        {
         "name": "coef",
         "rawType": "float64",
         "type": "float"
        }
       ],
       "conversionMethod": "pd.DataFrame",
       "ref": "a139c7c0-6a28-4343-9145-564ca39e8970",
       "rows": [
        [
         "100g_USD",
         "0.3749237553450918"
        ],
        [
         "roast_Light",
         "0.13839569453248976"
        ],
        [
         "loc_country_Taiwan",
         "0.13525544093494432"
        ],
        [
         "roast_Medium-Light",
         "0.11651335905368088"
        ],
        [
         "loc_country_Australia",
         "0.03599781642344041"
        ],
        [
         "loc_country_Hawai'i",
         "0.02486769064160039"
        ],
        [
         "loc_country_Mexico",
         "0.012441186548139844"
        ],
        [
         "loc_country_Kenya",
         "2.42861286636753e-17"
        ],
        [
         "loc_country_Honduras",
         "0.0"
        ],
        [
         "loc_country_New Taiwan",
         "0.0"
        ],
        [
         "loc_country_United States And Floyd",
         "0.0"
        ],
        [
         "loc_country_Peru",
         "-0.003275927640940121"
        ],
        [
         "loc_country_Uganda",
         "-0.0060122175969535"
        ],
        [
         "loc_country_England",
         "-0.007326596837188757"
        ],
        [
         "loc_country_China",
         "-0.013873191217051441"
        ],
        [
         "loc_country_Hong Kong",
         "-0.025383698977083206"
        ],
        [
         "loc_country_United States",
         "-0.03273689804752916"
        ],
        [
         "loc_country_Malaysia",
         "-0.03838161016848545"
        ],
        [
         "loc_country_Belgium",
         "-0.0542530284041138"
        ],
        [
         "loc_country_Canada",
         "-0.0659454535633034"
        ],
        [
         "loc_country_Japan",
         "-0.07743095721252694"
        ],
        [
         "roast_Medium-Dark",
         "-0.1574794344759849"
        ],
        [
         "roast_Medium",
         "-0.1929902611594893"
        ],
        [
         "loc_country_Guatemala",
         "-0.25285697890536857"
        ],
        [
         "roast_Dark",
         "-0.29392448414820715"
        ]
       ],
       "shape": {
        "columns": 1,
        "rows": 25
       }
      },
      "text/html": [
       "<div>\n",
       "<style scoped>\n",
       "    .dataframe tbody tr th:only-of-type {\n",
       "        vertical-align: middle;\n",
       "    }\n",
       "\n",
       "    .dataframe tbody tr th {\n",
       "        vertical-align: top;\n",
       "    }\n",
       "\n",
       "    .dataframe thead th {\n",
       "        text-align: right;\n",
       "    }\n",
       "</style>\n",
       "<table border=\"1\" class=\"dataframe\">\n",
       "  <thead>\n",
       "    <tr style=\"text-align: right;\">\n",
       "      <th></th>\n",
       "      <th>coef</th>\n",
       "    </tr>\n",
       "  </thead>\n",
       "  <tbody>\n",
       "    <tr>\n",
       "      <th>100g_USD</th>\n",
       "      <td>3.749238e-01</td>\n",
       "    </tr>\n",
       "    <tr>\n",
       "      <th>roast_Light</th>\n",
       "      <td>1.383957e-01</td>\n",
       "    </tr>\n",
       "    <tr>\n",
       "      <th>loc_country_Taiwan</th>\n",
       "      <td>1.352554e-01</td>\n",
       "    </tr>\n",
       "    <tr>\n",
       "      <th>roast_Medium-Light</th>\n",
       "      <td>1.165134e-01</td>\n",
       "    </tr>\n",
       "    <tr>\n",
       "      <th>loc_country_Australia</th>\n",
       "      <td>3.599782e-02</td>\n",
       "    </tr>\n",
       "    <tr>\n",
       "      <th>loc_country_Hawai'i</th>\n",
       "      <td>2.486769e-02</td>\n",
       "    </tr>\n",
       "    <tr>\n",
       "      <th>loc_country_Mexico</th>\n",
       "      <td>1.244119e-02</td>\n",
       "    </tr>\n",
       "    <tr>\n",
       "      <th>loc_country_Kenya</th>\n",
       "      <td>2.428613e-17</td>\n",
       "    </tr>\n",
       "    <tr>\n",
       "      <th>loc_country_Honduras</th>\n",
       "      <td>0.000000e+00</td>\n",
       "    </tr>\n",
       "    <tr>\n",
       "      <th>loc_country_New Taiwan</th>\n",
       "      <td>0.000000e+00</td>\n",
       "    </tr>\n",
       "    <tr>\n",
       "      <th>loc_country_United States And Floyd</th>\n",
       "      <td>0.000000e+00</td>\n",
       "    </tr>\n",
       "    <tr>\n",
       "      <th>loc_country_Peru</th>\n",
       "      <td>-3.275928e-03</td>\n",
       "    </tr>\n",
       "    <tr>\n",
       "      <th>loc_country_Uganda</th>\n",
       "      <td>-6.012218e-03</td>\n",
       "    </tr>\n",
       "    <tr>\n",
       "      <th>loc_country_England</th>\n",
       "      <td>-7.326597e-03</td>\n",
       "    </tr>\n",
       "    <tr>\n",
       "      <th>loc_country_China</th>\n",
       "      <td>-1.387319e-02</td>\n",
       "    </tr>\n",
       "    <tr>\n",
       "      <th>loc_country_Hong Kong</th>\n",
       "      <td>-2.538370e-02</td>\n",
       "    </tr>\n",
       "    <tr>\n",
       "      <th>loc_country_United States</th>\n",
       "      <td>-3.273690e-02</td>\n",
       "    </tr>\n",
       "    <tr>\n",
       "      <th>loc_country_Malaysia</th>\n",
       "      <td>-3.838161e-02</td>\n",
       "    </tr>\n",
       "    <tr>\n",
       "      <th>loc_country_Belgium</th>\n",
       "      <td>-5.425303e-02</td>\n",
       "    </tr>\n",
       "    <tr>\n",
       "      <th>loc_country_Canada</th>\n",
       "      <td>-6.594545e-02</td>\n",
       "    </tr>\n",
       "    <tr>\n",
       "      <th>loc_country_Japan</th>\n",
       "      <td>-7.743096e-02</td>\n",
       "    </tr>\n",
       "    <tr>\n",
       "      <th>roast_Medium-Dark</th>\n",
       "      <td>-1.574794e-01</td>\n",
       "    </tr>\n",
       "    <tr>\n",
       "      <th>roast_Medium</th>\n",
       "      <td>-1.929903e-01</td>\n",
       "    </tr>\n",
       "    <tr>\n",
       "      <th>loc_country_Guatemala</th>\n",
       "      <td>-2.528570e-01</td>\n",
       "    </tr>\n",
       "    <tr>\n",
       "      <th>roast_Dark</th>\n",
       "      <td>-2.939245e-01</td>\n",
       "    </tr>\n",
       "  </tbody>\n",
       "</table>\n",
       "</div>"
      ],
      "text/plain": [
       "                                             coef\n",
       "100g_USD                             3.749238e-01\n",
       "roast_Light                          1.383957e-01\n",
       "loc_country_Taiwan                   1.352554e-01\n",
       "roast_Medium-Light                   1.165134e-01\n",
       "loc_country_Australia                3.599782e-02\n",
       "loc_country_Hawai'i                  2.486769e-02\n",
       "loc_country_Mexico                   1.244119e-02\n",
       "loc_country_Kenya                    2.428613e-17\n",
       "loc_country_Honduras                 0.000000e+00\n",
       "loc_country_New Taiwan               0.000000e+00\n",
       "loc_country_United States And Floyd  0.000000e+00\n",
       "loc_country_Peru                    -3.275928e-03\n",
       "loc_country_Uganda                  -6.012218e-03\n",
       "loc_country_England                 -7.326597e-03\n",
       "loc_country_China                   -1.387319e-02\n",
       "loc_country_Hong Kong               -2.538370e-02\n",
       "loc_country_United States           -3.273690e-02\n",
       "loc_country_Malaysia                -3.838161e-02\n",
       "loc_country_Belgium                 -5.425303e-02\n",
       "loc_country_Canada                  -6.594545e-02\n",
       "loc_country_Japan                   -7.743096e-02\n",
       "roast_Medium-Dark                   -1.574794e-01\n",
       "roast_Medium                        -1.929903e-01\n",
       "loc_country_Guatemala               -2.528570e-01\n",
       "roast_Dark                          -2.939245e-01"
      ]
     },
     "execution_count": 51,
     "metadata": {},
     "output_type": "execute_result"
    }
   ],
   "source": [
    "# view the lr coefficients\n",
    "coefficients = pd.DataFrame(lr.coef_, X.columns, columns=[\"coef\"])\n",
    "coefficients.sort_values(by=\"coef\", ascending=False)"
   ]
  },
  {
   "cell_type": "markdown",
   "metadata": {},
   "source": [
    "The price (100g_USD) feature seems to be the most important for predicting rating"
   ]
  },
  {
   "cell_type": "markdown",
   "metadata": {},
   "source": [
    "## **Feature Selection (Polynomial price, KNN and LR)** "
   ]
  },
  {
   "cell_type": "code",
   "execution_count": 52,
   "metadata": {},
   "outputs": [
    {
     "name": "stdout",
     "output_type": "stream",
     "text": [
      "Best MSE: 2.3126, Best R²: 0.1141, Features: ['loc_country', 'roast', '100g_USD^1', '100g_USD^2']\n",
      "KNN - Best MSE: 2.1133, R²: 0.1905, Features: ['loc_country', 'roast', '100g_USD^2'], K: 21\n"
     ]
    }
   ],
   "source": [
    "cat_features = [\"loc_country\", \"roast\"]\n",
    "base_features = [\"loc_country\", \"roast\"]\n",
    "numeric_feature = \"100g_USD\"\n",
    "\n",
    "price_variants = [f\"{numeric_feature}^{i}\" for i in range(1, 4)]\n",
    "\n",
    "features = base_features + price_variants\n",
    "\n",
    "R2_arr = []\n",
    "MSE_arr = []\n",
    "results_lr = []\n",
    "results_knn = []\n",
    "\n",
    "for j in range(1, 1 << len(features)):\n",
    "    feature_subset = [features[i] for i in range(len(features)) if j & (1 << i)]\n",
    "\n",
    "    df2 = df.copy()\n",
    "\n",
    "    if price_variants[0] in feature_subset:\n",
    "        df2[price_variants[0]] = df2[numeric_feature]\n",
    "    if price_variants[1] in feature_subset:\n",
    "        df2[price_variants[1]] = df2[numeric_feature] ** 2\n",
    "    if price_variants[2] in feature_subset:\n",
    "        df2[price_variants[2]] = df2[numeric_feature] ** 3\n",
    "\n",
    "    X = df2[feature_subset]\n",
    "    y = df2[\"rating\"]\n",
    "    cat_features_subset = [f for f in feature_subset if f in cat_features]\n",
    "    X = pd.get_dummies(X, columns=cat_features_subset)\n",
    "    X_train, X_test, y_train, y_test = train_test_split(X, y, test_size=0.2, random_state=0)\n",
    "\n",
    "    scaler = StandardScaler()\n",
    "    X_train = scaler.fit_transform(X_train)\n",
    "    X_test = scaler.transform(X_test)\n",
    "    \n",
    "    lr = LinearRegression()\n",
    "    lr.fit(X_train, y_train)\n",
    "    R2 = lr.score(X_test, y_test)\n",
    "    y_pred = lr.predict(X_test)\n",
    "    mse = mean_squared_error(y_test, y_pred)\n",
    "    R2_arr.append(R2)\n",
    "    MSE_arr.append(mse)\n",
    "    results_lr.append(feature_subset)\n",
    "\n",
    "    for i in range(1, 50):\n",
    "        knn = KNeighborsRegressor(n_neighbors=i)\n",
    "        knn.fit(X_train, y_train)\n",
    "        y_pred_knn = knn.predict(X_test)\n",
    "        mse_knn = mean_squared_error(y_test, y_pred_knn)\n",
    "        r2_knn = knn.score(X_test, y_test)\n",
    "        results_knn.append((mse_knn, r2_knn, feature_subset, i))\n",
    "\n",
    "results = list(zip(MSE_arr, R2_arr, results_lr))\n",
    "results.sort()  \n",
    "print(f\"Best MSE: {results[0][0]:.4f}, Best R²: {results[0][1]:.4f}, Features: {results[0][2]}\")\n",
    "best_knn = sorted(results_knn)[0]\n",
    "print(f\"KNN - Best MSE: {best_knn[0]:.4f}, R²: {best_knn[1]:.4f}, Features: {best_knn[2]}, K: {best_knn[3]}\")"
   ]
  },
  {
   "cell_type": "markdown",
   "metadata": {},
   "source": [
    "## **Ridge and Lasso Regression**"
   ]
  },
  {
   "cell_type": "code",
   "execution_count": 53,
   "metadata": {},
   "outputs": [
    {
     "name": "stderr",
     "output_type": "stream",
     "text": [
      "c:\\Users\\davidj\\Desktop\\CSSE415-Project\\venv\\Lib\\site-packages\\sklearn\\linear_model\\_coordinate_descent.py:695: ConvergenceWarning: Objective did not converge. You might want to increase the number of iterations, check the scale of the features or consider increasing regularisation. Duality gap: 1.126e+00, tolerance: 3.203e-01\n",
      "  model = cd_fast.enet_coordinate_descent(\n"
     ]
    },
    {
     "data": {
      "text/html": [
       "<style>#sk-container-id-2 {\n",
       "  /* Definition of color scheme common for light and dark mode */\n",
       "  --sklearn-color-text: #000;\n",
       "  --sklearn-color-text-muted: #666;\n",
       "  --sklearn-color-line: gray;\n",
       "  /* Definition of color scheme for unfitted estimators */\n",
       "  --sklearn-color-unfitted-level-0: #fff5e6;\n",
       "  --sklearn-color-unfitted-level-1: #f6e4d2;\n",
       "  --sklearn-color-unfitted-level-2: #ffe0b3;\n",
       "  --sklearn-color-unfitted-level-3: chocolate;\n",
       "  /* Definition of color scheme for fitted estimators */\n",
       "  --sklearn-color-fitted-level-0: #f0f8ff;\n",
       "  --sklearn-color-fitted-level-1: #d4ebff;\n",
       "  --sklearn-color-fitted-level-2: #b3dbfd;\n",
       "  --sklearn-color-fitted-level-3: cornflowerblue;\n",
       "\n",
       "  /* Specific color for light theme */\n",
       "  --sklearn-color-text-on-default-background: var(--sg-text-color, var(--theme-code-foreground, var(--jp-content-font-color1, black)));\n",
       "  --sklearn-color-background: var(--sg-background-color, var(--theme-background, var(--jp-layout-color0, white)));\n",
       "  --sklearn-color-border-box: var(--sg-text-color, var(--theme-code-foreground, var(--jp-content-font-color1, black)));\n",
       "  --sklearn-color-icon: #696969;\n",
       "\n",
       "  @media (prefers-color-scheme: dark) {\n",
       "    /* Redefinition of color scheme for dark theme */\n",
       "    --sklearn-color-text-on-default-background: var(--sg-text-color, var(--theme-code-foreground, var(--jp-content-font-color1, white)));\n",
       "    --sklearn-color-background: var(--sg-background-color, var(--theme-background, var(--jp-layout-color0, #111)));\n",
       "    --sklearn-color-border-box: var(--sg-text-color, var(--theme-code-foreground, var(--jp-content-font-color1, white)));\n",
       "    --sklearn-color-icon: #878787;\n",
       "  }\n",
       "}\n",
       "\n",
       "#sk-container-id-2 {\n",
       "  color: var(--sklearn-color-text);\n",
       "}\n",
       "\n",
       "#sk-container-id-2 pre {\n",
       "  padding: 0;\n",
       "}\n",
       "\n",
       "#sk-container-id-2 input.sk-hidden--visually {\n",
       "  border: 0;\n",
       "  clip: rect(1px 1px 1px 1px);\n",
       "  clip: rect(1px, 1px, 1px, 1px);\n",
       "  height: 1px;\n",
       "  margin: -1px;\n",
       "  overflow: hidden;\n",
       "  padding: 0;\n",
       "  position: absolute;\n",
       "  width: 1px;\n",
       "}\n",
       "\n",
       "#sk-container-id-2 div.sk-dashed-wrapped {\n",
       "  border: 1px dashed var(--sklearn-color-line);\n",
       "  margin: 0 0.4em 0.5em 0.4em;\n",
       "  box-sizing: border-box;\n",
       "  padding-bottom: 0.4em;\n",
       "  background-color: var(--sklearn-color-background);\n",
       "}\n",
       "\n",
       "#sk-container-id-2 div.sk-container {\n",
       "  /* jupyter's `normalize.less` sets `[hidden] { display: none; }`\n",
       "     but bootstrap.min.css set `[hidden] { display: none !important; }`\n",
       "     so we also need the `!important` here to be able to override the\n",
       "     default hidden behavior on the sphinx rendered scikit-learn.org.\n",
       "     See: https://github.com/scikit-learn/scikit-learn/issues/21755 */\n",
       "  display: inline-block !important;\n",
       "  position: relative;\n",
       "}\n",
       "\n",
       "#sk-container-id-2 div.sk-text-repr-fallback {\n",
       "  display: none;\n",
       "}\n",
       "\n",
       "div.sk-parallel-item,\n",
       "div.sk-serial,\n",
       "div.sk-item {\n",
       "  /* draw centered vertical line to link estimators */\n",
       "  background-image: linear-gradient(var(--sklearn-color-text-on-default-background), var(--sklearn-color-text-on-default-background));\n",
       "  background-size: 2px 100%;\n",
       "  background-repeat: no-repeat;\n",
       "  background-position: center center;\n",
       "}\n",
       "\n",
       "/* Parallel-specific style estimator block */\n",
       "\n",
       "#sk-container-id-2 div.sk-parallel-item::after {\n",
       "  content: \"\";\n",
       "  width: 100%;\n",
       "  border-bottom: 2px solid var(--sklearn-color-text-on-default-background);\n",
       "  flex-grow: 1;\n",
       "}\n",
       "\n",
       "#sk-container-id-2 div.sk-parallel {\n",
       "  display: flex;\n",
       "  align-items: stretch;\n",
       "  justify-content: center;\n",
       "  background-color: var(--sklearn-color-background);\n",
       "  position: relative;\n",
       "}\n",
       "\n",
       "#sk-container-id-2 div.sk-parallel-item {\n",
       "  display: flex;\n",
       "  flex-direction: column;\n",
       "}\n",
       "\n",
       "#sk-container-id-2 div.sk-parallel-item:first-child::after {\n",
       "  align-self: flex-end;\n",
       "  width: 50%;\n",
       "}\n",
       "\n",
       "#sk-container-id-2 div.sk-parallel-item:last-child::after {\n",
       "  align-self: flex-start;\n",
       "  width: 50%;\n",
       "}\n",
       "\n",
       "#sk-container-id-2 div.sk-parallel-item:only-child::after {\n",
       "  width: 0;\n",
       "}\n",
       "\n",
       "/* Serial-specific style estimator block */\n",
       "\n",
       "#sk-container-id-2 div.sk-serial {\n",
       "  display: flex;\n",
       "  flex-direction: column;\n",
       "  align-items: center;\n",
       "  background-color: var(--sklearn-color-background);\n",
       "  padding-right: 1em;\n",
       "  padding-left: 1em;\n",
       "}\n",
       "\n",
       "\n",
       "/* Toggleable style: style used for estimator/Pipeline/ColumnTransformer box that is\n",
       "clickable and can be expanded/collapsed.\n",
       "- Pipeline and ColumnTransformer use this feature and define the default style\n",
       "- Estimators will overwrite some part of the style using the `sk-estimator` class\n",
       "*/\n",
       "\n",
       "/* Pipeline and ColumnTransformer style (default) */\n",
       "\n",
       "#sk-container-id-2 div.sk-toggleable {\n",
       "  /* Default theme specific background. It is overwritten whether we have a\n",
       "  specific estimator or a Pipeline/ColumnTransformer */\n",
       "  background-color: var(--sklearn-color-background);\n",
       "}\n",
       "\n",
       "/* Toggleable label */\n",
       "#sk-container-id-2 label.sk-toggleable__label {\n",
       "  cursor: pointer;\n",
       "  display: flex;\n",
       "  width: 100%;\n",
       "  margin-bottom: 0;\n",
       "  padding: 0.5em;\n",
       "  box-sizing: border-box;\n",
       "  text-align: center;\n",
       "  align-items: start;\n",
       "  justify-content: space-between;\n",
       "  gap: 0.5em;\n",
       "}\n",
       "\n",
       "#sk-container-id-2 label.sk-toggleable__label .caption {\n",
       "  font-size: 0.6rem;\n",
       "  font-weight: lighter;\n",
       "  color: var(--sklearn-color-text-muted);\n",
       "}\n",
       "\n",
       "#sk-container-id-2 label.sk-toggleable__label-arrow:before {\n",
       "  /* Arrow on the left of the label */\n",
       "  content: \"▸\";\n",
       "  float: left;\n",
       "  margin-right: 0.25em;\n",
       "  color: var(--sklearn-color-icon);\n",
       "}\n",
       "\n",
       "#sk-container-id-2 label.sk-toggleable__label-arrow:hover:before {\n",
       "  color: var(--sklearn-color-text);\n",
       "}\n",
       "\n",
       "/* Toggleable content - dropdown */\n",
       "\n",
       "#sk-container-id-2 div.sk-toggleable__content {\n",
       "  max-height: 0;\n",
       "  max-width: 0;\n",
       "  overflow: hidden;\n",
       "  text-align: left;\n",
       "  /* unfitted */\n",
       "  background-color: var(--sklearn-color-unfitted-level-0);\n",
       "}\n",
       "\n",
       "#sk-container-id-2 div.sk-toggleable__content.fitted {\n",
       "  /* fitted */\n",
       "  background-color: var(--sklearn-color-fitted-level-0);\n",
       "}\n",
       "\n",
       "#sk-container-id-2 div.sk-toggleable__content pre {\n",
       "  margin: 0.2em;\n",
       "  border-radius: 0.25em;\n",
       "  color: var(--sklearn-color-text);\n",
       "  /* unfitted */\n",
       "  background-color: var(--sklearn-color-unfitted-level-0);\n",
       "}\n",
       "\n",
       "#sk-container-id-2 div.sk-toggleable__content.fitted pre {\n",
       "  /* unfitted */\n",
       "  background-color: var(--sklearn-color-fitted-level-0);\n",
       "}\n",
       "\n",
       "#sk-container-id-2 input.sk-toggleable__control:checked~div.sk-toggleable__content {\n",
       "  /* Expand drop-down */\n",
       "  max-height: 200px;\n",
       "  max-width: 100%;\n",
       "  overflow: auto;\n",
       "}\n",
       "\n",
       "#sk-container-id-2 input.sk-toggleable__control:checked~label.sk-toggleable__label-arrow:before {\n",
       "  content: \"▾\";\n",
       "}\n",
       "\n",
       "/* Pipeline/ColumnTransformer-specific style */\n",
       "\n",
       "#sk-container-id-2 div.sk-label input.sk-toggleable__control:checked~label.sk-toggleable__label {\n",
       "  color: var(--sklearn-color-text);\n",
       "  background-color: var(--sklearn-color-unfitted-level-2);\n",
       "}\n",
       "\n",
       "#sk-container-id-2 div.sk-label.fitted input.sk-toggleable__control:checked~label.sk-toggleable__label {\n",
       "  background-color: var(--sklearn-color-fitted-level-2);\n",
       "}\n",
       "\n",
       "/* Estimator-specific style */\n",
       "\n",
       "/* Colorize estimator box */\n",
       "#sk-container-id-2 div.sk-estimator input.sk-toggleable__control:checked~label.sk-toggleable__label {\n",
       "  /* unfitted */\n",
       "  background-color: var(--sklearn-color-unfitted-level-2);\n",
       "}\n",
       "\n",
       "#sk-container-id-2 div.sk-estimator.fitted input.sk-toggleable__control:checked~label.sk-toggleable__label {\n",
       "  /* fitted */\n",
       "  background-color: var(--sklearn-color-fitted-level-2);\n",
       "}\n",
       "\n",
       "#sk-container-id-2 div.sk-label label.sk-toggleable__label,\n",
       "#sk-container-id-2 div.sk-label label {\n",
       "  /* The background is the default theme color */\n",
       "  color: var(--sklearn-color-text-on-default-background);\n",
       "}\n",
       "\n",
       "/* On hover, darken the color of the background */\n",
       "#sk-container-id-2 div.sk-label:hover label.sk-toggleable__label {\n",
       "  color: var(--sklearn-color-text);\n",
       "  background-color: var(--sklearn-color-unfitted-level-2);\n",
       "}\n",
       "\n",
       "/* Label box, darken color on hover, fitted */\n",
       "#sk-container-id-2 div.sk-label.fitted:hover label.sk-toggleable__label.fitted {\n",
       "  color: var(--sklearn-color-text);\n",
       "  background-color: var(--sklearn-color-fitted-level-2);\n",
       "}\n",
       "\n",
       "/* Estimator label */\n",
       "\n",
       "#sk-container-id-2 div.sk-label label {\n",
       "  font-family: monospace;\n",
       "  font-weight: bold;\n",
       "  display: inline-block;\n",
       "  line-height: 1.2em;\n",
       "}\n",
       "\n",
       "#sk-container-id-2 div.sk-label-container {\n",
       "  text-align: center;\n",
       "}\n",
       "\n",
       "/* Estimator-specific */\n",
       "#sk-container-id-2 div.sk-estimator {\n",
       "  font-family: monospace;\n",
       "  border: 1px dotted var(--sklearn-color-border-box);\n",
       "  border-radius: 0.25em;\n",
       "  box-sizing: border-box;\n",
       "  margin-bottom: 0.5em;\n",
       "  /* unfitted */\n",
       "  background-color: var(--sklearn-color-unfitted-level-0);\n",
       "}\n",
       "\n",
       "#sk-container-id-2 div.sk-estimator.fitted {\n",
       "  /* fitted */\n",
       "  background-color: var(--sklearn-color-fitted-level-0);\n",
       "}\n",
       "\n",
       "/* on hover */\n",
       "#sk-container-id-2 div.sk-estimator:hover {\n",
       "  /* unfitted */\n",
       "  background-color: var(--sklearn-color-unfitted-level-2);\n",
       "}\n",
       "\n",
       "#sk-container-id-2 div.sk-estimator.fitted:hover {\n",
       "  /* fitted */\n",
       "  background-color: var(--sklearn-color-fitted-level-2);\n",
       "}\n",
       "\n",
       "/* Specification for estimator info (e.g. \"i\" and \"?\") */\n",
       "\n",
       "/* Common style for \"i\" and \"?\" */\n",
       "\n",
       ".sk-estimator-doc-link,\n",
       "a:link.sk-estimator-doc-link,\n",
       "a:visited.sk-estimator-doc-link {\n",
       "  float: right;\n",
       "  font-size: smaller;\n",
       "  line-height: 1em;\n",
       "  font-family: monospace;\n",
       "  background-color: var(--sklearn-color-background);\n",
       "  border-radius: 1em;\n",
       "  height: 1em;\n",
       "  width: 1em;\n",
       "  text-decoration: none !important;\n",
       "  margin-left: 0.5em;\n",
       "  text-align: center;\n",
       "  /* unfitted */\n",
       "  border: var(--sklearn-color-unfitted-level-1) 1pt solid;\n",
       "  color: var(--sklearn-color-unfitted-level-1);\n",
       "}\n",
       "\n",
       ".sk-estimator-doc-link.fitted,\n",
       "a:link.sk-estimator-doc-link.fitted,\n",
       "a:visited.sk-estimator-doc-link.fitted {\n",
       "  /* fitted */\n",
       "  border: var(--sklearn-color-fitted-level-1) 1pt solid;\n",
       "  color: var(--sklearn-color-fitted-level-1);\n",
       "}\n",
       "\n",
       "/* On hover */\n",
       "div.sk-estimator:hover .sk-estimator-doc-link:hover,\n",
       ".sk-estimator-doc-link:hover,\n",
       "div.sk-label-container:hover .sk-estimator-doc-link:hover,\n",
       ".sk-estimator-doc-link:hover {\n",
       "  /* unfitted */\n",
       "  background-color: var(--sklearn-color-unfitted-level-3);\n",
       "  color: var(--sklearn-color-background);\n",
       "  text-decoration: none;\n",
       "}\n",
       "\n",
       "div.sk-estimator.fitted:hover .sk-estimator-doc-link.fitted:hover,\n",
       ".sk-estimator-doc-link.fitted:hover,\n",
       "div.sk-label-container:hover .sk-estimator-doc-link.fitted:hover,\n",
       ".sk-estimator-doc-link.fitted:hover {\n",
       "  /* fitted */\n",
       "  background-color: var(--sklearn-color-fitted-level-3);\n",
       "  color: var(--sklearn-color-background);\n",
       "  text-decoration: none;\n",
       "}\n",
       "\n",
       "/* Span, style for the box shown on hovering the info icon */\n",
       ".sk-estimator-doc-link span {\n",
       "  display: none;\n",
       "  z-index: 9999;\n",
       "  position: relative;\n",
       "  font-weight: normal;\n",
       "  right: .2ex;\n",
       "  padding: .5ex;\n",
       "  margin: .5ex;\n",
       "  width: min-content;\n",
       "  min-width: 20ex;\n",
       "  max-width: 50ex;\n",
       "  color: var(--sklearn-color-text);\n",
       "  box-shadow: 2pt 2pt 4pt #999;\n",
       "  /* unfitted */\n",
       "  background: var(--sklearn-color-unfitted-level-0);\n",
       "  border: .5pt solid var(--sklearn-color-unfitted-level-3);\n",
       "}\n",
       "\n",
       ".sk-estimator-doc-link.fitted span {\n",
       "  /* fitted */\n",
       "  background: var(--sklearn-color-fitted-level-0);\n",
       "  border: var(--sklearn-color-fitted-level-3);\n",
       "}\n",
       "\n",
       ".sk-estimator-doc-link:hover span {\n",
       "  display: block;\n",
       "}\n",
       "\n",
       "/* \"?\"-specific style due to the `<a>` HTML tag */\n",
       "\n",
       "#sk-container-id-2 a.estimator_doc_link {\n",
       "  float: right;\n",
       "  font-size: 1rem;\n",
       "  line-height: 1em;\n",
       "  font-family: monospace;\n",
       "  background-color: var(--sklearn-color-background);\n",
       "  border-radius: 1rem;\n",
       "  height: 1rem;\n",
       "  width: 1rem;\n",
       "  text-decoration: none;\n",
       "  /* unfitted */\n",
       "  color: var(--sklearn-color-unfitted-level-1);\n",
       "  border: var(--sklearn-color-unfitted-level-1) 1pt solid;\n",
       "}\n",
       "\n",
       "#sk-container-id-2 a.estimator_doc_link.fitted {\n",
       "  /* fitted */\n",
       "  border: var(--sklearn-color-fitted-level-1) 1pt solid;\n",
       "  color: var(--sklearn-color-fitted-level-1);\n",
       "}\n",
       "\n",
       "/* On hover */\n",
       "#sk-container-id-2 a.estimator_doc_link:hover {\n",
       "  /* unfitted */\n",
       "  background-color: var(--sklearn-color-unfitted-level-3);\n",
       "  color: var(--sklearn-color-background);\n",
       "  text-decoration: none;\n",
       "}\n",
       "\n",
       "#sk-container-id-2 a.estimator_doc_link.fitted:hover {\n",
       "  /* fitted */\n",
       "  background-color: var(--sklearn-color-fitted-level-3);\n",
       "}\n",
       "</style><div id=\"sk-container-id-2\" class=\"sk-top-container\"><div class=\"sk-text-repr-fallback\"><pre>GridSearchCV(estimator=Lasso(),\n",
       "             param_grid={&#x27;alpha&#x27;: [0.0001, 0.001, 0.01, 0.1, 1, 10, 100, 1000,\n",
       "                                   10000, 100000]})</pre><b>In a Jupyter environment, please rerun this cell to show the HTML representation or trust the notebook. <br />On GitHub, the HTML representation is unable to render, please try loading this page with nbviewer.org.</b></div><div class=\"sk-container\" hidden><div class=\"sk-item sk-dashed-wrapped\"><div class=\"sk-label-container\"><div class=\"sk-label fitted sk-toggleable\"><input class=\"sk-toggleable__control sk-hidden--visually\" id=\"sk-estimator-id-4\" type=\"checkbox\" ><label for=\"sk-estimator-id-4\" class=\"sk-toggleable__label fitted sk-toggleable__label-arrow\"><div><div>GridSearchCV</div></div><div><a class=\"sk-estimator-doc-link fitted\" rel=\"noreferrer\" target=\"_blank\" href=\"https://scikit-learn.org/1.6/modules/generated/sklearn.model_selection.GridSearchCV.html\">?<span>Documentation for GridSearchCV</span></a><span class=\"sk-estimator-doc-link fitted\">i<span>Fitted</span></span></div></label><div class=\"sk-toggleable__content fitted\"><pre>GridSearchCV(estimator=Lasso(),\n",
       "             param_grid={&#x27;alpha&#x27;: [0.0001, 0.001, 0.01, 0.1, 1, 10, 100, 1000,\n",
       "                                   10000, 100000]})</pre></div> </div></div><div class=\"sk-parallel\"><div class=\"sk-parallel-item\"><div class=\"sk-item\"><div class=\"sk-label-container\"><div class=\"sk-label fitted sk-toggleable\"><input class=\"sk-toggleable__control sk-hidden--visually\" id=\"sk-estimator-id-5\" type=\"checkbox\" ><label for=\"sk-estimator-id-5\" class=\"sk-toggleable__label fitted sk-toggleable__label-arrow\"><div><div>best_estimator_: Lasso</div></div></label><div class=\"sk-toggleable__content fitted\"><pre>Lasso(alpha=0.001)</pre></div> </div></div><div class=\"sk-serial\"><div class=\"sk-item\"><div class=\"sk-estimator fitted sk-toggleable\"><input class=\"sk-toggleable__control sk-hidden--visually\" id=\"sk-estimator-id-6\" type=\"checkbox\" ><label for=\"sk-estimator-id-6\" class=\"sk-toggleable__label fitted sk-toggleable__label-arrow\"><div><div>Lasso</div></div><div><a class=\"sk-estimator-doc-link fitted\" rel=\"noreferrer\" target=\"_blank\" href=\"https://scikit-learn.org/1.6/modules/generated/sklearn.linear_model.Lasso.html\">?<span>Documentation for Lasso</span></a></div></label><div class=\"sk-toggleable__content fitted\"><pre>Lasso(alpha=0.001)</pre></div> </div></div></div></div></div></div></div></div></div>"
      ],
      "text/plain": [
       "GridSearchCV(estimator=Lasso(),\n",
       "             param_grid={'alpha': [0.0001, 0.001, 0.01, 0.1, 1, 10, 100, 1000,\n",
       "                                   10000, 100000]})"
      ]
     },
     "execution_count": 53,
     "metadata": {},
     "output_type": "execute_result"
    }
   ],
   "source": [
    "ridge = Ridge()\n",
    "lasso = Lasso()\n",
    "\n",
    "grid = {'alpha': [0.0001, 0.001, 0.01, 0.1, 1, 10, 100, 1000, 10000, 100000]}\n",
    "\n",
    "ridgeCV = GridSearchCV(ridge, param_grid=grid)\n",
    "lassoCV = GridSearchCV(lasso, param_grid=grid)\n",
    "ridgeCV.fit(X_train,y_train)\n",
    "lassoCV.fit(X_train,y_train)"
   ]
  },
  {
   "cell_type": "code",
   "execution_count": 54,
   "metadata": {},
   "outputs": [
    {
     "name": "stdout",
     "output_type": "stream",
     "text": [
      "Ridge best score: 0.21785132620442438\n",
      "Ridge best alpha: 1\n",
      "Lasso best score: 0.21803984614319355\n",
      "Lasso best alpha: 0.001\n"
     ]
    }
   ],
   "source": [
    "# report validation scores\n",
    "print('Ridge best score:',ridgeCV.best_score_)\n",
    "print('Ridge best alpha:',ridgeCV.best_params_['alpha'])\n",
    "print('Lasso best score:',lassoCV.best_score_)\n",
    "print('Lasso best alpha:',lassoCV.best_params_['alpha'])"
   ]
  },
  {
   "cell_type": "code",
   "execution_count": 55,
   "metadata": {},
   "outputs": [
    {
     "name": "stdout",
     "output_type": "stream",
     "text": [
      "Lasso R2: 0.11534055956369316\n",
      "Ridge R2: 0.11482383887391912\n"
     ]
    }
   ],
   "source": [
    "# run ridge and lasso on test set\n",
    "ridgeCV = Ridge(alpha=100)\n",
    "lassoCV = Lasso(alpha=0.01)\n",
    "ridgeCV.fit(X_train,y_train)\n",
    "lassoCV.fit(X_train,y_train)\n",
    "ridgeCV.score(X_test,y_test)\n",
    "print(f\"Lasso R2: {lassoCV.score(X_test,y_test)}\")\n",
    "print(f\"Ridge R2: {ridgeCV.score(X_test,y_test)}\")"
   ]
  },
  {
   "cell_type": "markdown",
   "metadata": {},
   "source": [
    "Ridge slightly outperforms Lasso and basic linear regression"
   ]
  },
  {
   "cell_type": "markdown",
   "metadata": {},
   "source": [
    "## **Random Forest Regression**"
   ]
  },
  {
   "cell_type": "code",
   "execution_count": 56,
   "metadata": {},
   "outputs": [
    {
     "name": "stderr",
     "output_type": "stream",
     "text": [
      "c:\\Users\\davidj\\Desktop\\CSSE415-Project\\venv\\Lib\\site-packages\\sklearn\\ensemble\\_forest.py:612: UserWarning: Some inputs do not have OOB scores. This probably means too few trees were used to compute any reliable OOB estimates.\n",
      "  warn(\n"
     ]
    },
    {
     "data": {
      "image/png": "[encoded data removed]",
      "text/plain": [
       "<Figure size 1000x600 with 1 Axes>"
      ]
     },
     "metadata": {},
     "output_type": "display_data"
    },
    {
     "data": {
      "application/vnd.microsoft.datawrangler.viewer.v0+json": {
       "columns": [
        {
         "name": "index",
         "rawType": "int64",
         "type": "integer"
        },
        {
         "name": "num trees",
         "rawType": "int64",
         "type": "integer"
        },
        {
         "name": "oob",
         "rawType": "float64",
         "type": "float"
        }
       ],
       "conversionMethod": "pd.DataFrame",
       "ref": "720afab4-9e11-4c1c-8997-a817d56a01f8",
       "rows": [
        [
         "0",
         "10",
         "-32.64346986097471"
        ],
        [
         "1",
         "50",
         "0.18583015305350226"
        ],
        [
         "2",
         "100",
         "0.1898217430603094"
        ],
        [
         "3",
         "200",
         "0.1889454586993382"
        ],
        [
         "4",
         "300",
         "0.18877047820528903"
        ],
        [
         "5",
         "400",
         "0.18957239992472075"
        ]
       ],
       "shape": {
        "columns": 2,
        "rows": 6
       }
      },
      "text/html": [
       "<div>\n",
       "<style scoped>\n",
       "    .dataframe tbody tr th:only-of-type {\n",
       "        vertical-align: middle;\n",
       "    }\n",
       "\n",
       "    .dataframe tbody tr th {\n",
       "        vertical-align: top;\n",
       "    }\n",
       "\n",
       "    .dataframe thead th {\n",
       "        text-align: right;\n",
       "    }\n",
       "</style>\n",
       "<table border=\"1\" class=\"dataframe\">\n",
       "  <thead>\n",
       "    <tr style=\"text-align: right;\">\n",
       "      <th></th>\n",
       "      <th>num trees</th>\n",
       "      <th>oob</th>\n",
       "    </tr>\n",
       "  </thead>\n",
       "  <tbody>\n",
       "    <tr>\n",
       "      <th>0</th>\n",
       "      <td>10</td>\n",
       "      <td>-32.643470</td>\n",
       "    </tr>\n",
       "    <tr>\n",
       "      <th>1</th>\n",
       "      <td>50</td>\n",
       "      <td>0.185830</td>\n",
       "    </tr>\n",
       "    <tr>\n",
       "      <th>2</th>\n",
       "      <td>100</td>\n",
       "      <td>0.189822</td>\n",
       "    </tr>\n",
       "    <tr>\n",
       "      <th>3</th>\n",
       "      <td>200</td>\n",
       "      <td>0.188945</td>\n",
       "    </tr>\n",
       "    <tr>\n",
       "      <th>4</th>\n",
       "      <td>300</td>\n",
       "      <td>0.188770</td>\n",
       "    </tr>\n",
       "    <tr>\n",
       "      <th>5</th>\n",
       "      <td>400</td>\n",
       "      <td>0.189572</td>\n",
       "    </tr>\n",
       "  </tbody>\n",
       "</table>\n",
       "</div>"
      ],
      "text/plain": [
       "   num trees        oob\n",
       "0         10 -32.643470\n",
       "1         50   0.185830\n",
       "2        100   0.189822\n",
       "3        200   0.188945\n",
       "4        300   0.188770\n",
       "5        400   0.189572"
      ]
     },
     "execution_count": 56,
     "metadata": {},
     "output_type": "execute_result"
    }
   ],
   "source": [
    "oob_scores = []\n",
    "tree_counts = [10, 50, 100, 200, 300, 400]  \n",
    "for n_trees in tree_counts:\n",
    "    model = RandomForestRegressor(n_estimators=n_trees, max_features=len(optimal_features)/3,\n",
    "    oob_score=True, random_state=42, n_jobs=-1)\n",
    "    model.fit(X_train, y_train)\n",
    "    oob_scores.append(model.oob_score_)\n",
    "\n",
    "plt.figure(figsize=(10, 6))\n",
    "plt.plot(tree_counts, oob_scores, marker='o')\n",
    "plt.title('Random Forest OOB Scores by Number of Trees')\n",
    "plt.xlabel('Number of Trees')\n",
    "plt.ylabel('OOB Score')\n",
    "plt.grid(True)\n",
    "plt.show()\n",
    "\n",
    "results = pd.DataFrame()\n",
    "results['num trees'] = tree_counts\n",
    "results['oob'] = oob_scores\n",
    "results"
   ]
  },
  {
   "cell_type": "code",
   "execution_count": 57,
   "metadata": {},
   "outputs": [
    {
     "name": "stdout",
     "output_type": "stream",
     "text": [
      "Random Forest R2: 0.15354122443699836\n"
     ]
    }
   ],
   "source": [
    "# train and test random forest model with 100 trees\n",
    "model = RandomForestRegressor(n_estimators=100, max_features=len(optimal_features)/3,\n",
    "    oob_score=True, random_state=42, n_jobs=-1)\n",
    "model.fit(X_train, y_train)\n",
    "y_pred = model.predict(X_test)\n",
    "print(f\"Random Forest R2: {model.score(X_test, y_test)}\")"
   ]
  },
  {
   "cell_type": "code",
   "execution_count": 58,
   "metadata": {},
   "outputs": [
    {
     "name": "stdout",
     "output_type": "stream",
     "text": [
      "XGBoost R2: 0.2008\n"
     ]
    }
   ],
   "source": [
    "# use xgboost\n",
    "import xgboost as xgb\n",
    "from xgboost import XGBRegressor\n",
    "\n",
    "\n",
    "# Create the XGBoost model\n",
    "xgb_model = XGBRegressor(n_estimators=100, max_depth=3, learning_rate=0.1, random_state=42)\n",
    "\n",
    "# Fit the model to the training data\n",
    "xgb_model.fit(X_train, y_train)\n",
    "\n",
    "# Make predictions on the test set\n",
    "y_pred_xgb = xgb_model.predict(X_test)\n",
    "\n",
    "# Calculate the R-squared score\n",
    "r2_xgb = xgb_model.score(X_test, y_test)\n",
    "print(f\"XGBoost R2: {r2_xgb:.4f}\")"
   ]
  },
  {
   "cell_type": "markdown",
   "metadata": {},
   "source": [
    "Random forest is the best performing model using the three features we though would be usable given the preprocessing techniques learned in this class (One hot encoding and standardization). We will look into using embeddings in order to make use of textual features for further models"
   ]
  },
  {
   "cell_type": "markdown",
   "metadata": {},
   "source": [
    "## **Embeddings**"
   ]
  },
  {
   "cell_type": "code",
   "execution_count": 59,
   "metadata": {},
   "outputs": [],
   "source": [
    "from sentence_transformers import SentenceTransformer"
   ]
  },
  {
   "cell_type": "code",
   "execution_count": 60,
   "metadata": {},
   "outputs": [],
   "source": [
    "# set sentences to desc_1 from df\n",
    "sentences = df[\"desc_1\"].tolist()\n",
    "\n",
    "# load the model\n",
    "model = SentenceTransformer(\"all-MiniLM-L6-v2\")\n",
    "\n",
    "embeddings = model.encode(sentences)\n",
    "\n",
    "# add the embeddings to the dataframe\n",
    "df_embeddings = pd.DataFrame(embeddings, columns=[f\"embedding_{i}\" for i in range(embeddings.shape[1])])"
   ]
  },
  {
   "cell_type": "code",
   "execution_count": 67,
   "metadata": {},
   "outputs": [
    {
     "data": {
      "application/vnd.microsoft.datawrangler.viewer.v0+json": {
       "columns": [
        {
         "name": "index",
         "rawType": "int64",
         "type": "integer"
        },
        {
         "name": "embedding_0",
         "rawType": "float32",
         "type": "float"
        },
        {
         "name": "embedding_1",
         "rawType": "float32",
         "type": "float"
        },
        {
         "name": "embedding_2",
         "rawType": "float32",
         "type": "float"
        },
        {
         "name": "embedding_3",
         "rawType": "float32",
         "type": "float"
        },
        {
         "name": "embedding_4",
         "rawType": "float32",
         "type": "float"
        },
        {
         "name": "embedding_5",
         "rawType": "float32",
         "type": "float"
        },
        {
         "name": "embedding_6",
         "rawType": "float32",
         "type": "float"
        },
        {
         "name": "embedding_7",
         "rawType": "float32",
         "type": "float"
        },
        {
         "name": "embedding_8",
         "rawType": "float32",
         "type": "float"
        },
        {
         "name": "embedding_9",
         "rawType": "float32",
         "type": "float"
        },
        {
         "name": "embedding_10",
         "rawType": "float32",
         "type": "float"
        },
        {
         "name": "embedding_11",
         "rawType": "float32",
         "type": "float"
        },
        {
         "name": "embedding_12",
         "rawType": "float32",
         "type": "float"
        },
        {
         "name": "embedding_13",
         "rawType": "float32",
         "type": "float"
        },
        {
         "name": "embedding_14",
         "rawType": "float32",
         "type": "float"
        },
        {
         "name": "embedding_15",
         "rawType": "float32",
         "type": "float"
        },
        {
         "name": "embedding_16",
         "rawType": "float32",
         "type": "float"
        },
        {
         "name": "embedding_17",
         "rawType": "float32",
         "type": "float"
        },
        {
         "name": "embedding_18",
         "rawType": "float32",
         "type": "float"
        },
        {
         "name": "embedding_19",
         "rawType": "float32",
         "type": "float"
        },
        {
         "name": "embedding_20",
         "rawType": "float32",
         "type": "float"
        },
        {
         "name": "embedding_21",
         "rawType": "float32",
         "type": "float"
        },
        {
         "name": "embedding_22",
         "rawType": "float32",
         "type": "float"
        },
        {
         "name": "embedding_23",
         "rawType": "float32",
         "type": "float"
        },
        {
         "name": "embedding_24",
         "rawType": "float32",
         "type": "float"
        },
        {
         "name": "embedding_25",
         "rawType": "float32",
         "type": "float"
        },
        {
         "name": "embedding_26",
         "rawType": "float32",
         "type": "float"
        },
        {
         "name": "embedding_27",
         "rawType": "float32",
         "type": "float"
        },
        {
         "name": "embedding_28",
         "rawType": "float32",
         "type": "float"
        },
        {
         "name": "embedding_29",
         "rawType": "float32",
         "type": "float"
        },
        {
         "name": "embedding_30",
         "rawType": "float32",
         "type": "float"
        },
        {
         "name": "embedding_31",
         "rawType": "float32",
         "type": "float"
        },
        {
         "name": "embedding_32",
         "rawType": "float32",
         "type": "float"
        },
        {
         "name": "embedding_33",
         "rawType": "float32",
         "type": "float"
        },
        {
         "name": "embedding_34",
         "rawType": "float32",
         "type": "float"
        },
        {
         "name": "embedding_35",
         "rawType": "float32",
         "type": "float"
        },
        {
         "name": "embedding_36",
         "rawType": "float32",
         "type": "float"
        },
        {
         "name": "embedding_37",
         "rawType": "float32",
         "type": "float"
        },
        {
         "name": "embedding_38",
         "rawType": "float32",
         "type": "float"
        },
        {
         "name": "embedding_39",
         "rawType": "float32",
         "type": "float"
        },
        {
         "name": "embedding_40",
         "rawType": "float32",
         "type": "float"
        },
        {
         "name": "embedding_41",
         "rawType": "float32",
         "type": "float"
        },
        {
         "name": "embedding_42",
         "rawType": "float32",
         "type": "float"
        },
        {
         "name": "embedding_43",
         "rawType": "float32",
         "type": "float"
        },
        {
         "name": "embedding_44",
         "rawType": "float32",
         "type": "float"
        },
        {
         "name": "embedding_45",
         "rawType": "float32",
         "type": "float"
        },
        {
         "name": "embedding_46",
         "rawType": "float32",
         "type": "float"
        },
        {
         "name": "embedding_47",
         "rawType": "float32",
         "type": "float"
        },
        {
         "name": "embedding_48",
         "rawType": "float32",
         "type": "float"
        },
        {
         "name": "embedding_49",
         "rawType": "float32",
         "type": "float"
        },
        {
         "name": "embedding_50",
         "rawType": "float32",
         "type": "float"
        },
        {
         "name": "embedding_51",
         "rawType": "float32",
         "type": "float"
        },
        {
         "name": "embedding_52",
         "rawType": "float32",
         "type": "float"
        },
        {
         "name": "embedding_53",
         "rawType": "float32",
         "type": "float"
        },
        {
         "name": "embedding_54",
         "rawType": "float32",
         "type": "float"
        },
        {
         "name": "embedding_55",
         "rawType": "float32",
         "type": "float"
        },
        {
         "name": "embedding_56",
         "rawType": "float32",
         "type": "float"
        },
        {
         "name": "embedding_57",
         "rawType": "float32",
         "type": "float"
        },
        {
         "name": "embedding_58",
         "rawType": "float32",
         "type": "float"
        },
        {
         "name": "embedding_59",
         "rawType": "float32",
         "type": "float"
        },
        {
         "name": "embedding_60",
         "rawType": "float32",
         "type": "float"
        },
        {
         "name": "embedding_61",
         "rawType": "float32",
         "type": "float"
        },
        {
         "name": "embedding_62",
         "rawType": "float32",
         "type": "float"
        },
        {
         "name": "embedding_63",
         "rawType": "float32",
         "type": "float"
        },
        {
         "name": "embedding_64",
         "rawType": "float32",
         "type": "float"
        },
        {
         "name": "embedding_65",
         "rawType": "float32",
         "type": "float"
        },
        {
         "name": "embedding_66",
         "rawType": "float32",
         "type": "float"
        },
        {
         "name": "embedding_67",
         "rawType": "float32",
         "type": "float"
        },
        {
         "name": "embedding_68",
         "rawType": "float32",
         "type": "float"
        },
        {
         "name": "embedding_69",
         "rawType": "float32",
         "type": "float"
        },
        {
         "name": "embedding_70",
         "rawType": "float32",
         "type": "float"
        },
        {
         "name": "embedding_71",
         "rawType": "float32",
         "type": "float"
        },
        {
         "name": "embedding_72",
         "rawType": "float32",
         "type": "float"
        },
        {
         "name": "embedding_73",
         "rawType": "float32",
         "type": "float"
        },
        {
         "name": "embedding_74",
         "rawType": "float32",
         "type": "float"
        },
        {
         "name": "embedding_75",
         "rawType": "float32",
         "type": "float"
        },
        {
         "name": "embedding_76",
         "rawType": "float32",
         "type": "float"
        },
        {
         "name": "embedding_77",
         "rawType": "float32",
         "type": "float"
        },
        {
         "name": "embedding_78",
         "rawType": "float32",
         "type": "float"
        },
        {
         "name": "embedding_79",
         "rawType": "float32",
         "type": "float"
        },
        {
         "name": "embedding_80",
         "rawType": "float32",
         "type": "float"
        },
        {
         "name": "embedding_81",
         "rawType": "float32",
         "type": "float"
        },
        {
         "name": "embedding_82",
         "rawType": "float32",
         "type": "float"
        },
        {
         "name": "embedding_83",
         "rawType": "float32",
         "type": "float"
        },
        {
         "name": "embedding_84",
         "rawType": "float32",
         "type": "float"
        },
        {
         "name": "embedding_85",
         "rawType": "float32",
         "type": "float"
        },
        {
         "name": "embedding_86",
         "rawType": "float32",
         "type": "float"
        },
        {
         "name": "embedding_87",
         "rawType": "float32",
         "type": "float"
        },
        {
         "name": "embedding_88",
         "rawType": "float32",
         "type": "float"
        },
        {
         "name": "embedding_89",
         "rawType": "float32",
         "type": "float"
        },
        {
         "name": "embedding_90",
         "rawType": "float32",
         "type": "float"
        },
        {
         "name": "embedding_91",
         "rawType": "float32",
         "type": "float"
        },
        {
         "name": "embedding_92",
         "rawType": "float32",
         "type": "float"
        },
        {
         "name": "embedding_93",
         "rawType": "float32",
         "type": "float"
        },
        {
         "name": "embedding_94",
         "rawType": "float32",
         "type": "float"
        },
        {
         "name": "embedding_95",
         "rawType": "float32",
         "type": "float"
        },
        {
         "name": "embedding_96",
         "rawType": "float32",
         "type": "float"
        },
        {
         "name": "embedding_97",
         "rawType": "float32",
         "type": "float"
        },
        {
         "name": "embedding_98",
         "rawType": "float32",
         "type": "float"
        },
        {
         "name": "embedding_99",
         "rawType": "float32",
         "type": "float"
        },
        {
         "name": "embedding_100",
         "rawType": "float32",
         "type": "float"
        },
        {
         "name": "embedding_101",
         "rawType": "float32",
         "type": "float"
        },
        {
         "name": "embedding_102",
         "rawType": "float32",
         "type": "float"
        },
        {
         "name": "embedding_103",
         "rawType": "float32",
         "type": "float"
        },
        {
         "name": "embedding_104",
         "rawType": "float32",
         "type": "float"
        },
        {
         "name": "embedding_105",
         "rawType": "float32",
         "type": "float"
        },
        {
         "name": "embedding_106",
         "rawType": "float32",
         "type": "float"
        },
        {
         "name": "embedding_107",
         "rawType": "float32",
         "type": "float"
        },
        {
         "name": "embedding_108",
         "rawType": "float32",
         "type": "float"
        },
        {
         "name": "embedding_109",
         "rawType": "float32",
         "type": "float"
        },
        {
         "name": "embedding_110",
         "rawType": "float32",
         "type": "float"
        },
        {
         "name": "embedding_111",
         "rawType": "float32",
         "type": "float"
        },
        {
         "name": "embedding_112",
         "rawType": "float32",
         "type": "float"
        },
        {
         "name": "embedding_113",
         "rawType": "float32",
         "type": "float"
        },
        {
         "name": "embedding_114",
         "rawType": "float32",
         "type": "float"
        },
        {
         "name": "embedding_115",
         "rawType": "float32",
         "type": "float"
        },
        {
         "name": "embedding_116",
         "rawType": "float32",
         "type": "float"
        },
        {
         "name": "embedding_117",
         "rawType": "float32",
         "type": "float"
        },
        {
         "name": "embedding_118",
         "rawType": "float32",
         "type": "float"
        },
        {
         "name": "embedding_119",
         "rawType": "float32",
         "type": "float"
        },
        {
         "name": "embedding_120",
         "rawType": "float32",
         "type": "float"
        },
        {
         "name": "embedding_121",
         "rawType": "float32",
         "type": "float"
        },
        {
         "name": "embedding_122",
         "rawType": "float32",
         "type": "float"
        },
        {
         "name": "embedding_123",
         "rawType": "float32",
         "type": "float"
        },
        {
         "name": "embedding_124",
         "rawType": "float32",
         "type": "float"
        },
        {
         "name": "embedding_125",
         "rawType": "float32",
         "type": "float"
        },
        {
         "name": "embedding_126",
         "rawType": "float32",
         "type": "float"
        },
        {
         "name": "embedding_127",
         "rawType": "float32",
         "type": "float"
        },
        {
         "name": "embedding_128",
         "rawType": "float32",
         "type": "float"
        },
        {
         "name": "embedding_129",
         "rawType": "float32",
         "type": "float"
        },
        {
         "name": "embedding_130",
         "rawType": "float32",
         "type": "float"
        },
        {
         "name": "embedding_131",
         "rawType": "float32",
         "type": "float"
        },
        {
         "name": "embedding_132",
         "rawType": "float32",
         "type": "float"
        },
        {
         "name": "embedding_133",
         "rawType": "float32",
         "type": "float"
        },
        {
         "name": "embedding_134",
         "rawType": "float32",
         "type": "float"
        },
        {
         "name": "embedding_135",
         "rawType": "float32",
         "type": "float"
        },
        {
         "name": "embedding_136",
         "rawType": "float32",
         "type": "float"
        },
        {
         "name": "embedding_137",
         "rawType": "float32",
         "type": "float"
        },
        {
         "name": "embedding_138",
         "rawType": "float32",
         "type": "float"
        },
        {
         "name": "embedding_139",
         "rawType": "float32",
         "type": "float"
        },
        {
         "name": "embedding_140",
         "rawType": "float32",
         "type": "float"
        },
        {
         "name": "embedding_141",
         "rawType": "float32",
         "type": "float"
        },
        {
         "name": "embedding_142",
         "rawType": "float32",
         "type": "float"
        },
        {
         "name": "embedding_143",
         "rawType": "float32",
         "type": "float"
        },
        {
         "name": "embedding_144",
         "rawType": "float32",
         "type": "float"
        },
        {
         "name": "embedding_145",
         "rawType": "float32",
         "type": "float"
        },
        {
         "name": "embedding_146",
         "rawType": "float32",
         "type": "float"
        },
        {
         "name": "embedding_147",
         "rawType": "float32",
         "type": "float"
        },
        {
         "name": "embedding_148",
         "rawType": "float32",
         "type": "float"
        },
        {
         "name": "embedding_149",
         "rawType": "float32",
         "type": "float"
        },
        {
         "name": "embedding_150",
         "rawType": "float32",
         "type": "float"
        },
        {
         "name": "embedding_151",
         "rawType": "float32",
         "type": "float"
        },
        {
         "name": "embedding_152",
         "rawType": "float32",
         "type": "float"
        },
        {
         "name": "embedding_153",
         "rawType": "float32",
         "type": "float"
        },
        {
         "name": "embedding_154",
         "rawType": "float32",
         "type": "float"
        },
        {
         "name": "embedding_155",
         "rawType": "float32",
         "type": "float"
        },
        {
         "name": "embedding_156",
         "rawType": "float32",
         "type": "float"
        },
        {
         "name": "embedding_157",
         "rawType": "float32",
         "type": "float"
        },
        {
         "name": "embedding_158",
         "rawType": "float32",
         "type": "float"
        },
        {
         "name": "embedding_159",
         "rawType": "float32",
         "type": "float"
        },
        {
         "name": "embedding_160",
         "rawType": "float32",
         "type": "float"
        },
        {
         "name": "embedding_161",
         "rawType": "float32",
         "type": "float"
        },
        {
         "name": "embedding_162",
         "rawType": "float32",
         "type": "float"
        },
        {
         "name": "embedding_163",
         "rawType": "float32",
         "type": "float"
        },
        {
         "name": "embedding_164",
         "rawType": "float32",
         "type": "float"
        },
        {
         "name": "embedding_165",
         "rawType": "float32",
         "type": "float"
        },
        {
         "name": "embedding_166",
         "rawType": "float32",
         "type": "float"
        },
        {
         "name": "embedding_167",
         "rawType": "float32",
         "type": "float"
        },
        {
         "name": "embedding_168",
         "rawType": "float32",
         "type": "float"
        },
        {
         "name": "embedding_169",
         "rawType": "float32",
         "type": "float"
        },
        {
         "name": "embedding_170",
         "rawType": "float32",
         "type": "float"
        },
        {
         "name": "embedding_171",
         "rawType": "float32",
         "type": "float"
        },
        {
         "name": "embedding_172",
         "rawType": "float32",
         "type": "float"
        },
        {
         "name": "embedding_173",
         "rawType": "float32",
         "type": "float"
        },
        {
         "name": "embedding_174",
         "rawType": "float32",
         "type": "float"
        },
        {
         "name": "embedding_175",
         "rawType": "float32",
         "type": "float"
        },
        {
         "name": "embedding_176",
         "rawType": "float32",
         "type": "float"
        },
        {
         "name": "embedding_177",
         "rawType": "float32",
         "type": "float"
        },
        {
         "name": "embedding_178",
         "rawType": "float32",
         "type": "float"
        },
        {
         "name": "embedding_179",
         "rawType": "float32",
         "type": "float"
        },
        {
         "name": "embedding_180",
         "rawType": "float32",
         "type": "float"
        },
        {
         "name": "embedding_181",
         "rawType": "float32",
         "type": "float"
        },
        {
         "name": "embedding_182",
         "rawType": "float32",
         "type": "float"
        },
        {
         "name": "embedding_183",
         "rawType": "float32",
         "type": "float"
        },
        {
         "name": "embedding_184",
         "rawType": "float32",
         "type": "float"
        },
        {
         "name": "embedding_185",
         "rawType": "float32",
         "type": "float"
        },
        {
         "name": "embedding_186",
         "rawType": "float32",
         "type": "float"
        },
        {
         "name": "embedding_187",
         "rawType": "float32",
         "type": "float"
        },
        {
         "name": "embedding_188",
         "rawType": "float32",
         "type": "float"
        },
        {
         "name": "embedding_189",
         "rawType": "float32",
         "type": "float"
        },
        {
         "name": "embedding_190",
         "rawType": "float32",
         "type": "float"
        },
        {
         "name": "embedding_191",
         "rawType": "float32",
         "type": "float"
        },
        {
         "name": "embedding_192",
         "rawType": "float32",
         "type": "float"
        },
        {
         "name": "embedding_193",
         "rawType": "float32",
         "type": "float"
        },
        {
         "name": "embedding_194",
         "rawType": "float32",
         "type": "float"
        },
        {
         "name": "embedding_195",
         "rawType": "float32",
         "type": "float"
        },
        {
         "name": "embedding_196",
         "rawType": "float32",
         "type": "float"
        },
        {
         "name": "embedding_197",
         "rawType": "float32",
         "type": "float"
        },
        {
         "name": "embedding_198",
         "rawType": "float32",
         "type": "float"
        },
        {
         "name": "embedding_199",
         "rawType": "float32",
         "type": "float"
        },
        {
         "name": "embedding_200",
         "rawType": "float32",
         "type": "float"
        },
        {
         "name": "embedding_201",
         "rawType": "float32",
         "type": "float"
        },
        {
         "name": "embedding_202",
         "rawType": "float32",
         "type": "float"
        },
        {
         "name": "embedding_203",
         "rawType": "float32",
         "type": "float"
        },
        {
         "name": "embedding_204",
         "rawType": "float32",
         "type": "float"
        },
        {
         "name": "embedding_205",
         "rawType": "float32",
         "type": "float"
        },
        {
         "name": "embedding_206",
         "rawType": "float32",
         "type": "float"
        },
        {
         "name": "embedding_207",
         "rawType": "float32",
         "type": "float"
        },
        {
         "name": "embedding_208",
         "rawType": "float32",
         "type": "float"
        },
        {
         "name": "embedding_209",
         "rawType": "float32",
         "type": "float"
        },
        {
         "name": "embedding_210",
         "rawType": "float32",
         "type": "float"
        },
        {
         "name": "embedding_211",
         "rawType": "float32",
         "type": "float"
        },
        {
         "name": "embedding_212",
         "rawType": "float32",
         "type": "float"
        },
        {
         "name": "embedding_213",
         "rawType": "float32",
         "type": "float"
        },
        {
         "name": "embedding_214",
         "rawType": "float32",
         "type": "float"
        },
        {
         "name": "embedding_215",
         "rawType": "float32",
         "type": "float"
        },
        {
         "name": "embedding_216",
         "rawType": "float32",
         "type": "float"
        },
        {
         "name": "embedding_217",
         "rawType": "float32",
         "type": "float"
        },
        {
         "name": "embedding_218",
         "rawType": "float32",
         "type": "float"
        },
        {
         "name": "embedding_219",
         "rawType": "float32",
         "type": "float"
        },
        {
         "name": "embedding_220",
         "rawType": "float32",
         "type": "float"
        },
        {
         "name": "embedding_221",
         "rawType": "float32",
         "type": "float"
        },
        {
         "name": "embedding_222",
         "rawType": "float32",
         "type": "float"
        },
        {
         "name": "embedding_223",
         "rawType": "float32",
         "type": "float"
        },
        {
         "name": "embedding_224",
         "rawType": "float32",
         "type": "float"
        },
        {
         "name": "embedding_225",
         "rawType": "float32",
         "type": "float"
        },
        {
         "name": "embedding_226",
         "rawType": "float32",
         "type": "float"
        },
        {
         "name": "embedding_227",
         "rawType": "float32",
         "type": "float"
        },
        {
         "name": "embedding_228",
         "rawType": "float32",
         "type": "float"
        },
        {
         "name": "embedding_229",
         "rawType": "float32",
         "type": "float"
        },
        {
         "name": "embedding_230",
         "rawType": "float32",
         "type": "float"
        },
        {
         "name": "embedding_231",
         "rawType": "float32",
         "type": "float"
        },
        {
         "name": "embedding_232",
         "rawType": "float32",
         "type": "float"
        },
        {
         "name": "embedding_233",
         "rawType": "float32",
         "type": "float"
        },
        {
         "name": "embedding_234",
         "rawType": "float32",
         "type": "float"
        },
        {
         "name": "embedding_235",
         "rawType": "float32",
         "type": "float"
        },
        {
         "name": "embedding_236",
         "rawType": "float32",
         "type": "float"
        },
        {
         "name": "embedding_237",
         "rawType": "float32",
         "type": "float"
        },
        {
         "name": "embedding_238",
         "rawType": "float32",
         "type": "float"
        },
        {
         "name": "embedding_239",
         "rawType": "float32",
         "type": "float"
        },
        {
         "name": "embedding_240",
         "rawType": "float32",
         "type": "float"
        },
        {
         "name": "embedding_241",
         "rawType": "float32",
         "type": "float"
        },
        {
         "name": "embedding_242",
         "rawType": "float32",
         "type": "float"
        },
        {
         "name": "embedding_243",
         "rawType": "float32",
         "type": "float"
        },
        {
         "name": "embedding_244",
         "rawType": "float32",
         "type": "float"
        },
        {
         "name": "embedding_245",
         "rawType": "float32",
         "type": "float"
        },
        {
         "name": "embedding_246",
         "rawType": "float32",
         "type": "float"
        },
        {
         "name": "embedding_247",
         "rawType": "float32",
         "type": "float"
        },
        {
         "name": "embedding_248",
         "rawType": "float32",
         "type": "float"
        },
        {
         "name": "embedding_249",
         "rawType": "float32",
         "type": "float"
        },
        {
         "name": "embedding_250",
         "rawType": "float32",
         "type": "float"
        },
        {
         "name": "embedding_251",
         "rawType": "float32",
         "type": "float"
        },
        {
         "name": "embedding_252",
         "rawType": "float32",
         "type": "float"
        },
        {
         "name": "embedding_253",
         "rawType": "float32",
         "type": "float"
        },
        {
         "name": "embedding_254",
         "rawType": "float32",
         "type": "float"
        },
        {
         "name": "embedding_255",
         "rawType": "float32",
         "type": "float"
        },
        {
         "name": "embedding_256",
         "rawType": "float32",
         "type": "float"
        },
        {
         "name": "embedding_257",
         "rawType": "float32",
         "type": "float"
        },
        {
         "name": "embedding_258",
         "rawType": "float32",
         "type": "float"
        },
        {
         "name": "embedding_259",
         "rawType": "float32",
         "type": "float"
        },
        {
         "name": "embedding_260",
         "rawType": "float32",
         "type": "float"
        },
        {
         "name": "embedding_261",
         "rawType": "float32",
         "type": "float"
        },
        {
         "name": "embedding_262",
         "rawType": "float32",
         "type": "float"
        },
        {
         "name": "embedding_263",
         "rawType": "float32",
         "type": "float"
        },
        {
         "name": "embedding_264",
         "rawType": "float32",
         "type": "float"
        },
        {
         "name": "embedding_265",
         "rawType": "float32",
         "type": "float"
        },
        {
         "name": "embedding_266",
         "rawType": "float32",
         "type": "float"
        },
        {
         "name": "embedding_267",
         "rawType": "float32",
         "type": "float"
        },
        {
         "name": "embedding_268",
         "rawType": "float32",
         "type": "float"
        },
        {
         "name": "embedding_269",
         "rawType": "float32",
         "type": "float"
        },
        {
         "name": "embedding_270",
         "rawType": "float32",
         "type": "float"
        },
        {
         "name": "embedding_271",
         "rawType": "float32",
         "type": "float"
        },
        {
         "name": "embedding_272",
         "rawType": "float32",
         "type": "float"
        },
        {
         "name": "embedding_273",
         "rawType": "float32",
         "type": "float"
        },
        {
         "name": "embedding_274",
         "rawType": "float32",
         "type": "float"
        },
        {
         "name": "embedding_275",
         "rawType": "float32",
         "type": "float"
        },
        {
         "name": "embedding_276",
         "rawType": "float32",
         "type": "float"
        },
        {
         "name": "embedding_277",
         "rawType": "float32",
         "type": "float"
        },
        {
         "name": "embedding_278",
         "rawType": "float32",
         "type": "float"
        },
        {
         "name": "embedding_279",
         "rawType": "float32",
         "type": "float"
        },
        {
         "name": "embedding_280",
         "rawType": "float32",
         "type": "float"
        },
        {
         "name": "embedding_281",
         "rawType": "float32",
         "type": "float"
        },
        {
         "name": "embedding_282",
         "rawType": "float32",
         "type": "float"
        },
        {
         "name": "embedding_283",
         "rawType": "float32",
         "type": "float"
        },
        {
         "name": "embedding_284",
         "rawType": "float32",
         "type": "float"
        },
        {
         "name": "embedding_285",
         "rawType": "float32",
         "type": "float"
        },
        {
         "name": "embedding_286",
         "rawType": "float32",
         "type": "float"
        },
        {
         "name": "embedding_287",
         "rawType": "float32",
         "type": "float"
        },
        {
         "name": "embedding_288",
         "rawType": "float32",
         "type": "float"
        },
        {
         "name": "embedding_289",
         "rawType": "float32",
         "type": "float"
        },
        {
         "name": "embedding_290",
         "rawType": "float32",
         "type": "float"
        },
        {
         "name": "embedding_291",
         "rawType": "float32",
         "type": "float"
        },
        {
         "name": "embedding_292",
         "rawType": "float32",
         "type": "float"
        },
        {
         "name": "embedding_293",
         "rawType": "float32",
         "type": "float"
        },
        {
         "name": "embedding_294",
         "rawType": "float32",
         "type": "float"
        },
        {
         "name": "embedding_295",
         "rawType": "float32",
         "type": "float"
        },
        {
         "name": "embedding_296",
         "rawType": "float32",
         "type": "float"
        },
        {
         "name": "embedding_297",
         "rawType": "float32",
         "type": "float"
        },
        {
         "name": "embedding_298",
         "rawType": "float32",
         "type": "float"
        },
        {
         "name": "embedding_299",
         "rawType": "float32",
         "type": "float"
        },
        {
         "name": "embedding_300",
         "rawType": "float32",
         "type": "float"
        },
        {
         "name": "embedding_301",
         "rawType": "float32",
         "type": "float"
        },
        {
         "name": "embedding_302",
         "rawType": "float32",
         "type": "float"
        },
        {
         "name": "embedding_303",
         "rawType": "float32",
         "type": "float"
        },
        {
         "name": "embedding_304",
         "rawType": "float32",
         "type": "float"
        },
        {
         "name": "embedding_305",
         "rawType": "float32",
         "type": "float"
        },
        {
         "name": "embedding_306",
         "rawType": "float32",
         "type": "float"
        },
        {
         "name": "embedding_307",
         "rawType": "float32",
         "type": "float"
        },
        {
         "name": "embedding_308",
         "rawType": "float32",
         "type": "float"
        },
        {
         "name": "embedding_309",
         "rawType": "float32",
         "type": "float"
        },
        {
         "name": "embedding_310",
         "rawType": "float32",
         "type": "float"
        },
        {
         "name": "embedding_311",
         "rawType": "float32",
         "type": "float"
        },
        {
         "name": "embedding_312",
         "rawType": "float32",
         "type": "float"
        },
        {
         "name": "embedding_313",
         "rawType": "float32",
         "type": "float"
        },
        {
         "name": "embedding_314",
         "rawType": "float32",
         "type": "float"
        },
        {
         "name": "embedding_315",
         "rawType": "float32",
         "type": "float"
        },
        {
         "name": "embedding_316",
         "rawType": "float32",
         "type": "float"
        },
        {
         "name": "embedding_317",
         "rawType": "float32",
         "type": "float"
        },
        {
         "name": "embedding_318",
         "rawType": "float32",
         "type": "float"
        },
        {
         "name": "embedding_319",
         "rawType": "float32",
         "type": "float"
        },
        {
         "name": "embedding_320",
         "rawType": "float32",
         "type": "float"
        },
        {
         "name": "embedding_321",
         "rawType": "float32",
         "type": "float"
        },
        {
         "name": "embedding_322",
         "rawType": "float32",
         "type": "float"
        },
        {
         "name": "embedding_323",
         "rawType": "float32",
         "type": "float"
        },
        {
         "name": "embedding_324",
         "rawType": "float32",
         "type": "float"
        },
        {
         "name": "embedding_325",
         "rawType": "float32",
         "type": "float"
        },
        {
         "name": "embedding_326",
         "rawType": "float32",
         "type": "float"
        },
        {
         "name": "embedding_327",
         "rawType": "float32",
         "type": "float"
        },
        {
         "name": "embedding_328",
         "rawType": "float32",
         "type": "float"
        },
        {
         "name": "embedding_329",
         "rawType": "float32",
         "type": "float"
        },
        {
         "name": "embedding_330",
         "rawType": "float32",
         "type": "float"
        },
        {
         "name": "embedding_331",
         "rawType": "float32",
         "type": "float"
        },
        {
         "name": "embedding_332",
         "rawType": "float32",
         "type": "float"
        },
        {
         "name": "embedding_333",
         "rawType": "float32",
         "type": "float"
        },
        {
         "name": "embedding_334",
         "rawType": "float32",
         "type": "float"
        },
        {
         "name": "embedding_335",
         "rawType": "float32",
         "type": "float"
        },
        {
         "name": "embedding_336",
         "rawType": "float32",
         "type": "float"
        },
        {
         "name": "embedding_337",
         "rawType": "float32",
         "type": "float"
        },
        {
         "name": "embedding_338",
         "rawType": "float32",
         "type": "float"
        },
        {
         "name": "embedding_339",
         "rawType": "float32",
         "type": "float"
        },
        {
         "name": "embedding_340",
         "rawType": "float32",
         "type": "float"
        },
        {
         "name": "embedding_341",
         "rawType": "float32",
         "type": "float"
        },
        {
         "name": "embedding_342",
         "rawType": "float32",
         "type": "float"
        },
        {
         "name": "embedding_343",
         "rawType": "float32",
         "type": "float"
        },
        {
         "name": "embedding_344",
         "rawType": "float32",
         "type": "float"
        },
        {
         "name": "embedding_345",
         "rawType": "float32",
         "type": "float"
        },
        {
         "name": "embedding_346",
         "rawType": "float32",
         "type": "float"
        },
        {
         "name": "embedding_347",
         "rawType": "float32",
         "type": "float"
        },
        {
         "name": "embedding_348",
         "rawType": "float32",
         "type": "float"
        },
        {
         "name": "embedding_349",
         "rawType": "float32",
         "type": "float"
        },
        {
         "name": "embedding_350",
         "rawType": "float32",
         "type": "float"
        },
        {
         "name": "embedding_351",
         "rawType": "float32",
         "type": "float"
        },
        {
         "name": "embedding_352",
         "rawType": "float32",
         "type": "float"
        },
        {
         "name": "embedding_353",
         "rawType": "float32",
         "type": "float"
        },
        {
         "name": "embedding_354",
         "rawType": "float32",
         "type": "float"
        },
        {
         "name": "embedding_355",
         "rawType": "float32",
         "type": "float"
        },
        {
         "name": "embedding_356",
         "rawType": "float32",
         "type": "float"
        },
        {
         "name": "embedding_357",
         "rawType": "float32",
         "type": "float"
        },
        {
         "name": "embedding_358",
         "rawType": "float32",
         "type": "float"
        },
        {
         "name": "embedding_359",
         "rawType": "float32",
         "type": "float"
        },
        {
         "name": "embedding_360",
         "rawType": "float32",
         "type": "float"
        },
        {
         "name": "embedding_361",
         "rawType": "float32",
         "type": "float"
        },
        {
         "name": "embedding_362",
         "rawType": "float32",
         "type": "float"
        },
        {
         "name": "embedding_363",
         "rawType": "float32",
         "type": "float"
        },
        {
         "name": "embedding_364",
         "rawType": "float32",
         "type": "float"
        },
        {
         "name": "embedding_365",
         "rawType": "float32",
         "type": "float"
        },
        {
         "name": "embedding_366",
         "rawType": "float32",
         "type": "float"
        },
        {
         "name": "embedding_367",
         "rawType": "float32",
         "type": "float"
        },
        {
         "name": "embedding_368",
         "rawType": "float32",
         "type": "float"
        },
        {
         "name": "embedding_369",
         "rawType": "float32",
         "type": "float"
        },
        {
         "name": "embedding_370",
         "rawType": "float32",
         "type": "float"
        },
        {
         "name": "embedding_371",
         "rawType": "float32",
         "type": "float"
        },
        {
         "name": "embedding_372",
         "rawType": "float32",
         "type": "float"
        },
        {
         "name": "embedding_373",
         "rawType": "float32",
         "type": "float"
        },
        {
         "name": "embedding_374",
         "rawType": "float32",
         "type": "float"
        },
        {
         "name": "embedding_375",
         "rawType": "float32",
         "type": "float"
        },
        {
         "name": "embedding_376",
         "rawType": "float32",
         "type": "float"
        },
        {
         "name": "embedding_377",
         "rawType": "float32",
         "type": "float"
        },
        {
         "name": "embedding_378",
         "rawType": "float32",
         "type": "float"
        },
        {
         "name": "embedding_379",
         "rawType": "float32",
         "type": "float"
        },
        {
         "name": "embedding_380",
         "rawType": "float32",
         "type": "float"
        },
        {
         "name": "embedding_381",
         "rawType": "float32",
         "type": "float"
        },
        {
         "name": "embedding_382",
         "rawType": "float32",
         "type": "float"
        },
        {
         "name": "embedding_383",
         "rawType": "float32",
         "type": "float"
        }
       ],
       "conversionMethod": "pd.DataFrame",
       "ref": "ab99816c-1b85-447f-add5-ca7c415d8aa3",
       "rows": [
        [
         "0",
         "0.008776841",
         "-0.08277133",
         "0.024728693",
         "0.07866009",
         "0.005190832",
         "0.060218",
         "0.065923594",
         "0.009193865",
         "-0.030157201",
         "-0.048402686",
         "-0.029130848",
         "-0.06364452",
         "-0.022234714",
         "-0.07354066",
         "0.02720306",
         "0.005734039",
         "0.15864305",
         "-0.022264041",
         "0.01403998",
         "-0.029125724",
         "0.0638124",
         "-0.027896455",
         "0.0035326984",
         "0.06430249",
         "0.04196585",
         "0.02865108",
         "0.029567823",
         "0.005865976",
         "0.041020483",
         "-0.10058228",
         "-0.0207564",
         "0.02959052",
         "0.10406985",
         "-0.022994163",
         "-0.051100068",
         "0.037997622",
         "0.060450066",
         "-0.059560873",
         "0.02380509",
         "-0.0036853724",
         "-0.035475206",
         "-0.0013558654",
         "0.024354145",
         "0.08274171",
         "-0.016575577",
         "-0.022805028",
         "-0.029734092",
         "0.005129199",
         "-0.05054809",
         "0.015633313",
         "-0.03721552",
         "-0.12500915",
         "-0.042854022",
         "0.03272226",
         "-0.0065663443",
         "0.00019217253",
         "0.0070469324",
         "-0.069445305",
         "0.087454155",
         "0.039438143",
         "0.009977233",
         "0.0029550076",
         "0.08096943",
         "0.07370502",
         "0.029643845",
         "-0.0075016967",
         "-0.028259682",
         "-0.0021177537",
         "-0.025887582",
         "-0.03759778",
         "0.015828062",
         "0.01888509",
         "0.044608064",
         "0.038249936",
         "-0.03648971",
         "0.07007327",
         "0.026820064",
         "-0.013287965",
         "-0.02003552",
         "0.050347604",
         "-0.017971313",
         "-0.005983037",
         "-0.02451569",
         "-0.033910975",
         "-0.023479482",
         "-0.034059294",
         "-0.025089594",
         "-0.055300903",
         "-0.048751615",
         "0.005818277",
         "-0.041399788",
         "0.015557647",
         "-0.014535222",
         "-0.054665092",
         "0.026877511",
         "-0.018996056",
         "0.011619497",
         "-0.07051481",
         "0.0589834",
         "0.031350456",
         "-0.0032974626",
         "0.086902805",
         "0.016293744",
         "-0.020282805",
         "-0.018717825",
         "-0.060574412",
         "0.024225954",
         "-0.01759673",
         "0.06932582",
         "0.02598483",
         "-0.038048334",
         "-0.10262446",
         "0.035440363",
         "-0.09550478",
         "-0.048077304",
         "-0.045878936",
         "0.009716997",
         "0.013117209",
         "0.031786304",
         "0.12996061",
         "0.04785626",
         "-0.028628662",
         "-0.0050668316",
         "-0.07339788",
         "-0.055834714",
         "-0.047119632",
         "0.05779888",
         "5.3343522e-33",
         "0.026526935",
         "0.027456883",
         "-0.04347976",
         "0.064254776",
         "0.14090216",
         "0.040836725",
         "-0.051668387",
         "-0.0027192454",
         "-0.10529213",
         "0.035580773",
         "-0.025263702",
         "0.06842996",
         "-0.06406314",
         "0.17952251",
         "0.008655687",
         "0.028459465",
         "-0.009616693",
         "0.027857866",
         "0.0068307375",
         "-0.0462585",
         "-0.0613053",
         "0.0964792",
         "-0.005307408",
         "0.050714247",
         "-0.094610065",
         "0.01260467",
         "-0.08170108",
         "0.017051224",
         "-0.03581123",
         "-0.0094571095",
         "0.031228855",
         "0.016487436",
         "0.007853914",
         "0.05664199",
         "-0.09028393",
         "0.009934981",
         "-0.029270835",
         "-0.014071096",
         "0.040793203",
         "-0.031098574",
         "-0.02072273",
         "0.05568825",
         "-0.049409527",
         "0.05815958",
         "-0.106897056",
         "-0.09229438",
         "0.0043504694",
         "-0.044317715",
         "0.052500475",
         "-0.008353358",
         "-0.031856082",
         "0.012395875",
         "-0.0085792905",
         "0.05530029",
         "-0.03985164",
         "-0.018187564",
         "-0.0056124236",
         "0.06633576",
         "0.04211602",
         "-0.027200053",
         "0.007268811",
         "0.056610957",
         "0.011935861",
         "-0.09578729",
         "0.0031747967",
         "0.018167023",
         "-0.048017684",
         "-0.05348575",
         "0.088840805",
         "-0.006588062",
         "-0.008264132",
         "0.002715011",
         "0.0045722537",
         "0.014784265",
         "-0.0185624",
         "-0.03239127",
         "0.009105856",
         "-0.046142936",
         "0.039784934",
         "0.012060638",
         "-0.035482742",
         "0.011272917",
         "-0.06446188",
         "0.042588755",
         "-0.061719257",
         "0.017980691",
         "-0.08966933",
         "0.011687905",
         "0.0531765",
         "0.05122274",
         "-0.13316765",
         "-0.024176372",
         "-0.002512736",
         "-0.061253145",
         "-0.07208848",
         "-5.3318436e-33",
         "0.03138904",
         "-0.00709193",
         "-0.03290245",
         "0.09290843",
         "0.016465388",
         "0.06388733",
         "-0.06692011",
         "-0.039999094",
         "-0.009672966",
         "0.013957151",
         "0.09634631",
         "-0.040550355",
         "0.04966216",
         "-0.029292261",
         "-0.059925128",
         "0.1078015",
         "0.05697031",
         "0.04569344",
         "0.018096799",
         "-0.053963818",
         "0.023781689",
         "0.068242855",
         "-0.041916158",
         "0.006729384",
         "-0.0136746755",
         "0.056851696",
         "-0.017552746",
         "-0.084583506",
         "-0.04630156",
         "0.050956633",
         "0.024284204",
         "-0.09877545",
         "-0.00947149",
         "-0.03911519",
         "-0.053717297",
         "0.025259903",
         "0.003769293",
         "-0.0031230815",
         "-0.076516435",
         "0.06585392",
         "0.013717151",
         "0.022503087",
         "0.049402263",
         "0.04876347",
         "0.05230166",
         "-0.043083977",
         "-0.062410317",
         "-0.03600274",
         "0.08598427",
         "0.079481594",
         "0.03902992",
         "-0.017039346",
         "-0.1007544",
         "0.038996957",
         "-0.010963358",
         "-0.025696477",
         "-0.09989851",
         "0.005671428",
         "-0.080244355",
         "0.02824967",
         "0.0011154172",
         "0.056676883",
         "-0.017813908",
         "-0.084665716",
         "0.057086088",
         "-0.021886755",
         "-0.022252595",
         "-0.026308658",
         "0.027546147",
         "-0.044217877",
         "0.09834164",
         "0.033948757",
         "0.038110472",
         "0.05798066",
         "0.07029928",
         "-0.042950124",
         "0.030380376",
         "-0.025236279",
         "-0.038491298",
         "0.009250246",
         "0.030474205",
         "0.00441476",
         "0.02186128",
         "0.038859576",
         "0.008241756",
         "0.04627347",
         "-0.052147508",
         "0.03324992",
         "0.048821103",
         "-0.028224966",
         "-0.025559796",
         "0.05365037",
         "-0.07946819",
         "-0.010366568",
         "0.0813207",
         "-4.4031097e-08",
         "0.034055557",
         "-0.08840536",
         "0.008854811",
         "0.020502733",
         "0.002178074",
         "-0.02998642",
         "-0.01645165",
         "-0.08525517",
         "-0.053516075",
         "-0.024892343",
         "0.062344324",
         "0.090672396",
         "-0.07332705",
         "-0.0006049395",
         "-0.011918938",
         "0.031837195",
         "0.008109",
         "0.14267628",
         "-0.0069461945",
         "0.048886687",
         "-0.01762531",
         "0.042231336",
         "0.020907415",
         "-0.07081535",
         "0.011644559",
         "-0.04789044",
         "-0.04367632",
         "-0.008728592",
         "-0.017913003",
         "0.015073374",
         "0.06293914",
         "0.0777433",
         "-0.008448768",
         "-0.07196847",
         "-0.0486515",
         "0.023612443",
         "-0.04384525",
         "-0.023238737",
         "-0.10837883",
         "0.013810296",
         "0.006860675",
         "0.007163259",
         "-0.064492345",
         "-0.049504988",
         "-0.070963755",
         "-0.031560987",
         "-0.019006293",
         "0.013353643",
         "-0.041754507",
         "0.051604643",
         "-0.063649006",
         "0.010719058",
         "-0.044262",
         "0.10576321",
         "0.06048851",
         "-0.106814675",
         "-0.007089936",
         "0.020283662",
         "0.030398354",
         "-0.017235091",
         "0.11693796",
         "0.009465105",
         "0.12557627",
         "-0.05731817"
        ],
        [
         "1",
         "0.028276484",
         "-0.042140335",
         "0.07733514",
         "0.054750737",
         "0.017897915",
         "0.02824913",
         "0.021283695",
         "-0.055827655",
         "0.0075758807",
         "-0.0048228907",
         "0.0002825777",
         "-0.041670248",
         "-0.02935908",
         "-0.043507125",
         "0.065773174",
         "0.037606645",
         "0.09070945",
         "-9.090385e-05",
         "-0.0010007874",
         "0.005166938",
         "0.05558466",
         "-0.004340485",
         "0.02570163",
         "0.07073603",
         "0.060079984",
         "0.03182444",
         "0.04728599",
         "0.02288508",
         "0.02802788",
         "-0.093380734",
         "-0.004122999",
         "0.06774897",
         "0.037130076",
         "-0.010289927",
         "-0.08404494",
         "0.08055791",
         "0.057371464",
         "-0.059692126",
         "0.07925002",
         "-0.0028772722",
         "-0.019163897",
         "-0.0014590222",
         "-0.00591724",
         "0.037944593",
         "-0.0378688",
         "-0.042334713",
         "-0.044924416",
         "0.022966838",
         "-0.032954186",
         "0.023027856",
         "-0.03463421",
         "-0.12962538",
         "-0.06500489",
         "0.067091994",
         "-0.034971006",
         "-0.0029293192",
         "0.037746903",
         "-0.007978695",
         "0.049002048",
         "0.06053603",
         "-0.0010850232",
         "-0.016369553",
         "0.05914902",
         "0.045769323",
         "-0.015754957",
         "-0.023788955",
         "-0.04614878",
         "0.024504714",
         "0.027094325",
         "-0.073274635",
         "0.031676605",
         "-0.043322142",
         "0.04986969",
         "0.07707068",
         "-0.06480671",
         "0.03874073",
         "-0.019318046",
         "-0.0029856903",
         "-0.019183787",
         "0.018503213",
         "-0.06294465",
         "-0.0055677253",
         "-0.022647204",
         "-0.054368153",
         "-0.08384845",
         "-0.011917863",
         "-0.011251912",
         "-0.057598233",
         "-0.018146828",
         "0.016014267",
         "-0.008412011",
         "-0.036258627",
         "-0.052022953",
         "-0.040630136",
         "0.0011148435",
         "-0.017987717",
         "0.041703425",
         "-0.065397985",
         "0.032531008",
         "0.019519126",
         "-0.018639905",
         "0.077592395",
         "0.03931421",
         "-0.021989077",
         "-0.016461818",
         "-0.058358528",
         "-0.009339573",
         "-0.022520894",
         "0.05274794",
         "-0.050751485",
         "-0.09278587",
         "-0.07807032",
         "0.034370616",
         "-0.036792845",
         "-0.056053083",
         "-0.05423081",
         "-0.022350501",
         "-0.01082801",
         "-0.0074782",
         "0.090927206",
         "0.0456449",
         "-0.04323184",
         "0.018459026",
         "-0.07132335",
         "-0.010932779",
         "-0.010242652",
         "0.0043737916",
         "1.8791629e-33",
         "0.057062574",
         "-0.005153354",
         "-0.008488267",
         "0.060131844",
         "0.09931289",
         "0.04017772",
         "-0.038118027",
         "-0.0029745598",
         "-0.068909936",
         "0.031590264",
         "-0.05390629",
         "0.042574637",
         "-0.028837487",
         "0.12758456",
         "-0.013996128",
         "-0.03595438",
         "-0.041527465",
         "0.02645649",
         "0.01504237",
         "-0.027983528",
         "-0.10044313",
         "0.1036481",
         "-0.010034741",
         "-0.031741112",
         "-0.111404136",
         "-0.022598857",
         "-0.046910003",
         "-0.0086216945",
         "-0.019923585",
         "0.019447498",
         "0.055879068",
         "0.003480598",
         "-0.009383135",
         "0.04995082",
         "-0.05131572",
         "-0.0037227594",
         "-0.025434604",
         "-0.019860683",
         "0.07119589",
         "-0.005769834",
         "0.015355158",
         "0.05356876",
         "0.016303463",
         "0.058610663",
         "-0.13003674",
         "-0.032211363",
         "-0.019139394",
         "-0.034382433",
         "0.020779435",
         "-0.016402254",
         "0.033462636",
         "0.05420573",
         "0.050961886",
         "0.08081454",
         "-0.026630463",
         "-0.011560214",
         "0.017781291",
         "0.03440325",
         "0.014800233",
         "-0.043080356",
         "0.027395835",
         "0.07476635",
         "0.029199354",
         "-0.16224466",
         "-0.0037969183",
         "-0.031865973",
         "-0.10485505",
         "0.0065274728",
         "0.08537643",
         "-0.0028621422",
         "0.03673429",
         "-0.006002054",
         "0.029712193",
         "0.021170743",
         "0.010874832",
         "-0.047900088",
         "0.09178632",
         "-0.019066207",
         "0.07970573",
         "-0.025679223",
         "-0.009897432",
         "0.026245806",
         "-0.059495512",
         "0.09854519",
         "-0.03653392",
         "0.00914011",
         "-0.08301556",
         "0.041496787",
         "-0.023400165",
         "0.05665616",
         "-0.14156331",
         "0.022827981",
         "0.034745388",
         "-0.08255602",
         "-0.06896765",
         "-2.4642604e-33",
         "0.06576279",
         "-0.010329446",
         "-0.06922017",
         "0.06657651",
         "0.0011760939",
         "0.051985063",
         "-0.07337479",
         "-0.0077237925",
         "0.010147694",
         "0.02306394",
         "0.0857019",
         "-0.052423313",
         "0.03703543",
         "-0.026021795",
         "-0.033448555",
         "0.0833721",
         "0.0338353",
         "0.05984794",
         "0.03696773",
         "-0.040850054",
         "-0.021871433",
         "0.05698293",
         "-0.06943601",
         "0.0056021586",
         "-0.021867337",
         "0.021463908",
         "0.010708451",
         "-0.039998833",
         "-0.025594095",
         "0.028914906",
         "0.047370624",
         "-0.16070764",
         "-0.028589768",
         "-0.037939418",
         "-0.0034297649",
         "0.009652503",
         "-0.019538326",
         "-0.03499117",
         "-0.065612994",
         "0.05390805",
         "0.008931214",
         "0.01941381",
         "0.05042456",
         "0.037635744",
         "0.07484745",
         "-0.04019722",
         "-0.07351583",
         "-0.030627843",
         "-0.0011314785",
         "0.09895289",
         "0.0651638",
         "-0.0012237561",
         "-0.056191396",
         "0.07162271",
         "-0.032842603",
         "-0.05840346",
         "-0.075628154",
         "-0.0011746897",
         "-0.09843654",
         "0.05089975",
         "-0.015667409",
         "0.06148041",
         "-0.009452905",
         "-0.0715881",
         "-0.0026262433",
         "-0.0145628685",
         "-0.048160188",
         "-0.04680986",
         "0.01422057",
         "-0.016411388",
         "0.07036895",
         "0.027535988",
         "0.023357313",
         "0.064688176",
         "0.10746639",
         "0.0045149554",
         "0.026896017",
         "-0.060643505",
         "-0.027849777",
         "-0.01582012",
         "0.03809303",
         "-0.019787714",
         "-0.03708749",
         "-0.0023547586",
         "0.01708132",
         "-0.0043451614",
         "-0.06898283",
         "0.0075559355",
         "0.044021178",
         "0.0166382",
         "0.000981104",
         "0.0053342124",
         "0.0018219632",
         "0.015048402",
         "0.14035705",
         "-3.6266478e-08",
         "-0.022969823",
         "-0.14107732",
         "0.04121878",
         "0.03714823",
         "0.038288437",
         "-0.0050126864",
         "0.012089915",
         "-0.06225095",
         "-0.04035263",
         "-0.08539405",
         "0.07096117",
         "0.06788333",
         "-0.076709606",
         "0.029554758",
         "0.01681133",
         "0.026742103",
         "0.05724635",
         "0.18507236",
         "-0.03249308",
         "0.030333895",
         "-0.029034734",
         "0.04561761",
         "-0.00664728",
         "-0.035141356",
         "0.05674502",
         "-0.028404867",
         "-0.05094774",
         "-0.016643226",
         "-0.047490496",
         "-0.004906548",
         "0.076597035",
         "0.07274987",
         "-0.022431064",
         "-0.06683048",
         "-0.0842776",
         "0.048455153",
         "-0.036657847",
         "-0.04948448",
         "-0.09063193",
         "0.01054179",
         "-0.018052533",
         "0.02869111",
         "-0.07136358",
         "-0.056546472",
         "0.010964637",
         "-0.046545483",
         "0.07009123",
         "0.022769261",
         "-0.07483232",
         "0.052313663",
         "-0.038768556",
         "0.03771777",
         "0.0055307373",
         "0.05253839",
         "0.01905398",
         "-0.061375864",
         "-0.021004634",
         "0.014521422",
         "0.029151348",
         "-0.029480802",
         "0.07308496",
         "0.06916671",
         "0.13907227",
         "-0.034471776"
        ],
        [
         "2",
         "-0.027543576",
         "-0.04587704",
         "0.03424695",
         "0.06739283",
         "-0.053870972",
         "0.11293022",
         "-0.0064242855",
         "-0.053298943",
         "0.009557661",
         "-0.06710157",
         "0.049794402",
         "-0.08125723",
         "-0.09713182",
         "-0.061202496",
         "0.046681695",
         "0.005108867",
         "0.09092941",
         "0.021323659",
         "0.012880518",
         "-0.024339465",
         "0.031232536",
         "-0.029280754",
         "0.026958274",
         "0.018882247",
         "-0.015694756",
         "0.03288766",
         "0.055535134",
         "0.010020729",
         "-0.021008678",
         "-0.08706108",
         "0.057527687",
         "0.05191811",
         "0.04761556",
         "0.058369253",
         "-0.04485162",
         "-0.067347616",
         "0.04602425",
         "-0.03735593",
         "0.10490879",
         "-0.0012806427",
         "0.034159895",
         "0.07245461",
         "0.05005312",
         "0.09982915",
         "0.017444132",
         "0.021274695",
         "0.042554114",
         "-0.0052381502",
         "-0.055307698",
         "-0.019528767",
         "-0.032141786",
         "-0.02169451",
         "-0.049803764",
         "0.034464456",
         "0.036681637",
         "0.045002878",
         "-0.03412379",
         "-0.05826103",
         "0.0975112",
         "0.06546676",
         "0.03134479",
         "0.00916234",
         "0.011989825",
         "-0.027350875",
         "-0.05507308",
         "-0.00024797177",
         "-0.05321601",
         "0.034375846",
         "0.10001398",
         "-0.07874532",
         "0.04022185",
         "-0.0053546303",
         "-0.017712642",
         "0.061506823",
         "-0.022525003",
         "0.066810235",
         "0.08600024",
         "-0.045618348",
         "-0.07874266",
         "-0.0415474",
         "-0.052332543",
         "0.062195905",
         "-0.025864784",
         "0.05316369",
         "-0.027929496",
         "-0.026453808",
         "-0.026177483",
         "-0.05046192",
         "-0.03691331",
         "0.029362984",
         "0.059028115",
         "0.03633344",
         "-0.06341359",
         "-0.0047177556",
         "-0.065113045",
         "0.009746459",
         "0.11794185",
         "-0.0391633",
         "0.0302679",
         "0.030444697",
         "0.024979739",
         "0.0012838034",
         "-0.0073842653",
         "-0.012703609",
         "-0.051575176",
         "0.057821263",
         "-0.025158102",
         "-0.03580196",
         "0.07151324",
         "0.027184865",
         "0.027626786",
         "0.015400915",
         "-0.11515636",
         "-0.0540089",
         "-0.018399188",
         "-0.077692434",
         "-0.026354762",
         "0.020717379",
         "0.023874896",
         "0.013167538",
         "-0.0012227546",
         "-0.046843074",
         "0.011638116",
         "-0.022180242",
         "-0.1176174",
         "-0.04356177",
         "0.06688979",
         "2.29018e-33",
         "-0.05407466",
         "-0.039935913",
         "0.004410542",
         "-0.0008319736",
         "0.044607017",
         "-0.07362305",
         "-0.047465645",
         "0.041070618",
         "-0.04102033",
         "-0.04279579",
         "-0.0025744515",
         "0.034826633",
         "-0.10316981",
         "0.08833909",
         "-0.010923201",
         "-0.01055296",
         "-0.059272777",
         "-0.012995546",
         "0.043766096",
         "0.0074068042",
         "-0.048362706",
         "0.07615743",
         "-0.0145022",
         "-0.016717643",
         "-0.049880933",
         "-0.05733265",
         "0.004603888",
         "0.028752094",
         "-0.013713688",
         "-0.04050571",
         "0.03560999",
         "0.00091052405",
         "0.09355698",
         "-0.01374367",
         "-0.089995265",
         "-0.020457167",
         "-0.010347203",
         "0.02805445",
         "0.03813607",
         "0.037150938",
         "-0.015145965",
         "0.029611731",
         "-0.02404673",
         "0.07104286",
         "-0.03646936",
         "0.02134338",
         "-0.02453264",
         "0.021884121",
         "0.05305344",
         "-0.0011623292",
         "-0.014061815",
         "-0.028236898",
         "0.06586138",
         "0.116281405",
         "0.014880024",
         "0.04033618",
         "0.06121045",
         "0.0057884227",
         "-0.024913592",
         "-0.09386685",
         "0.046703387",
         "0.012941357",
         "-0.000684367",
         "-0.10317666",
         "-0.02853346",
         "0.028907835",
         "-0.09791351",
         "0.01221769",
         "0.04915479",
         "-0.028081838",
         "-0.025412185",
         "0.08042867",
         "0.034530926",
         "-0.06539363",
         "-0.030203579",
         "-0.014883472",
         "0.05982552",
         "0.05267782",
         "0.09884862",
         "0.04603299",
         "0.031084416",
         "0.045925863",
         "-0.0010229179",
         "0.057052072",
         "-0.06425127",
         "0.039970163",
         "-0.086316794",
         "0.014242911",
         "0.012806016",
         "-0.024439681",
         "-0.12695418",
         "0.013681724",
         "0.030789243",
         "-0.03879203",
         "-0.057538405",
         "-2.0252875e-33",
         "0.038177278",
         "-0.057064224",
         "-0.014426306",
         "0.09951138",
         "0.02003782",
         "0.03470587",
         "-0.07005488",
         "-0.00190008",
         "-0.0639856",
         "-0.03409464",
         "0.015484067",
         "-0.08941121",
         "0.06257369",
         "-0.025070392",
         "-0.0067531066",
         "0.027651222",
         "0.006109629",
         "0.1531026",
         "-0.027997553",
         "0.0031307002",
         "-0.02200509",
         "0.07746153",
         "-0.08720823",
         "-0.049900442",
         "0.006198298",
         "0.041342914",
         "0.048094414",
         "0.027608747",
         "-0.00926613",
         "-0.014783152",
         "0.1366515",
         "-0.12414881",
         "0.03306274",
         "-0.042227346",
         "0.025516368",
         "0.046486754",
         "0.0057346183",
         "-0.07874501",
         "-0.058143876",
         "0.076883085",
         "-0.01988148",
         "0.042874224",
         "-0.008645659",
         "0.038118783",
         "0.053741995",
         "0.05071389",
         "-0.047929283",
         "0.042938296",
         "0.011124564",
         "0.08300874",
         "0.12116796",
         "-0.024711734",
         "-0.1010881",
         "0.033329606",
         "-0.019158747",
         "-0.016782776",
         "0.021038404",
         "0.035852365",
         "0.03505243",
         "-0.066347994",
         "-0.086012274",
         "-0.01549829",
         "0.018078266",
         "-0.111998156",
         "-0.0015487331",
         "-0.005364141",
         "0.008556065",
         "-0.035627495",
         "0.03865862",
         "-0.021271424",
         "0.09233596",
         "0.04650035",
         "0.0010435143",
         "0.029110197",
         "0.05912578",
         "0.021760693",
         "0.07555229",
         "-0.0673818",
         "-0.05917122",
         "0.0050101485",
         "-0.005111255",
         "0.009292263",
         "0.027667677",
         "0.033535805",
         "-0.030735936",
         "0.11266576",
         "-0.079608634",
         "-0.013585336",
         "0.06462149",
         "0.041075714",
         "-0.017329486",
         "0.022736832",
         "-0.009154186",
         "0.033971068",
         "-0.0018455539",
         "-3.5673413e-08",
         "0.0050983117",
         "-0.058981128",
         "-0.025596276",
         "0.054880604",
         "-0.024835259",
         "0.0046740193",
         "0.010633599",
         "-0.09015078",
         "0.03197459",
         "-0.022951104",
         "0.054833043",
         "0.029136516",
         "-0.13569792",
         "0.027032949",
         "-0.060957734",
         "-0.00924735",
         "-0.015832175",
         "0.0323684",
         "-0.0025274088",
         "0.038032178",
         "-0.055126216",
         "0.057052914",
         "0.0025190623",
         "-0.05771081",
         "0.012145644",
         "-0.06013645",
         "-0.05292601",
         "0.032543868",
         "0.0046762875",
         "-0.0031202603",
         "0.048100322",
         "0.019412875",
         "0.037051566",
         "-0.039853632",
         "0.010745659",
         "0.029777767",
         "-0.028528236",
         "-0.031237124",
         "-0.091709726",
         "-0.024423974",
         "-0.0059355577",
         "-0.05501028",
         "-0.045088895",
         "0.008657964",
         "-0.09011322",
         "-0.13028048",
         "0.013298713",
         "0.08987015",
         "-0.049385227",
         "0.075828835",
         "-0.08212572",
         "0.019197522",
         "-0.0746474",
         "0.0135404",
         "-0.07307348",
         "-0.0009612365",
         "0.022419635",
         "-0.01877963",
         "0.01586748",
         "-0.002010805",
         "0.060946047",
         "-0.056157682",
         "0.0024068083",
         "0.055372696"
        ],
        [
         "3",
         "-0.03578173",
         "-0.091288805",
         "0.031026281",
         "0.047718734",
         "-0.03609144",
         "0.075481765",
         "0.0061189337",
         "-0.037409425",
         "0.024009174",
         "-0.089229695",
         "0.018235859",
         "-0.09164506",
         "-0.06704163",
         "-0.04045875",
         "0.018487403",
         "-0.009708802",
         "0.08343894",
         "-0.021864124",
         "0.058646142",
         "-0.007121911",
         "-0.011718549",
         "0.004418771",
         "0.04488834",
         "-0.014967855",
         "-0.085257925",
         "0.027375609",
         "0.05388202",
         "0.009438944",
         "-0.033216137",
         "-0.124091186",
         "0.06535881",
         "0.072437696",
         "0.037849892",
         "-0.02076737",
         "-0.06953552",
         "-0.02787173",
         "0.03861293",
         "0.0025108967",
         "0.13513745",
         "0.02098674",
         "-0.013133324",
         "0.020874001",
         "0.071410805",
         "0.08909113",
         "0.0074292067",
         "0.035380863",
         "0.05868217",
         "-0.012501768",
         "-0.08175722",
         "-0.006497783",
         "-0.057029635",
         "-0.06762446",
         "-0.04209118",
         "0.07710237",
         "0.035400674",
         "0.026072145",
         "-0.045821585",
         "-0.06128913",
         "0.031806245",
         "0.100604266",
         "0.012728486",
         "0.055068895",
         "0.02293534",
         "-0.030129194",
         "-0.045488242",
         "-0.014679629",
         "-0.036426056",
         "0.036222346",
         "0.04935563",
         "-0.031750847",
         "0.011535987",
         "0.007501641",
         "-0.034694638",
         "0.055707976",
         "0.010881881",
         "0.06875887",
         "0.06263477",
         "-0.048143744",
         "-0.04841348",
         "-0.033787552",
         "-0.08668176",
         "0.043278515",
         "-0.011089504",
         "0.06016642",
         "-0.026349083",
         "-0.05524871",
         "-0.010520045",
         "-0.073308475",
         "-0.043854564",
         "0.010312519",
         "0.072431654",
         "0.03738914",
         "-0.06874889",
         "-0.010364419",
         "-0.06602302",
         "0.05354533",
         "0.0706724",
         "-0.011487684",
         "0.019130077",
         "0.02951443",
         "0.023652019",
         "-0.029632818",
         "-0.050772775",
         "-0.0073922714",
         "-0.084733814",
         "0.082835",
         "-0.012329179",
         "-0.042928535",
         "0.08296934",
         "0.009870546",
         "0.0080674",
         "0.048419125",
         "-0.111044474",
         "-0.0915222",
         "0.0012193022",
         "-0.05891758",
         "-0.01887295",
         "0.0022989628",
         "0.058518093",
         "-0.020573083",
         "-0.047950365",
         "-0.04485615",
         "-0.01985539",
         "0.007751578",
         "-0.122011654",
         "-0.03602295",
         "0.06589619",
         "2.716237e-33",
         "-0.03320297",
         "-0.036016945",
         "-0.005428504",
         "-0.0018977155",
         "0.021248112",
         "-0.031638954",
         "-0.056485604",
         "0.0004584016",
         "-0.051679038",
         "0.0035233074",
         "0.025663095",
         "0.027339825",
         "-0.12167282",
         "0.0609378",
         "-0.0306341",
         "-0.022676017",
         "-0.05496064",
         "-0.011279737",
         "0.03093415",
         "-0.009434169",
         "-0.007870772",
         "0.10481584",
         "-0.009593979",
         "-0.008597807",
         "-0.016634958",
         "-0.029549137",
         "-0.0005632176",
         "-0.014967702",
         "-0.057906836",
         "-0.031242514",
         "0.04112153",
         "-0.023888074",
         "0.077053025",
         "-0.008475662",
         "-0.07713557",
         "-0.019539315",
         "-0.034117177",
         "0.020239243",
         "0.026613602",
         "0.052892838",
         "-0.030130243",
         "0.02328676",
         "-0.047918588",
         "0.07530678",
         "-0.063236065",
         "0.03687182",
         "-0.012658427",
         "0.036928613",
         "0.07163646",
         "-0.0061492226",
         "-0.028892811",
         "-0.024787735",
         "0.070379615",
         "0.07647738",
         "-0.014264268",
         "0.039717745",
         "0.03344",
         "0.059003",
         "0.050589815",
         "-0.107648864",
         "0.07128277",
         "0.004875259",
         "0.025006028",
         "-0.10851215",
         "-0.008302268",
         "0.015051379",
         "-0.047454234",
         "0.0069197332",
         "0.10728361",
         "0.019815652",
         "-0.02901993",
         "0.079131156",
         "0.03346532",
         "-0.058492437",
         "-0.018937493",
         "-0.048944596",
         "0.049351905",
         "0.053585324",
         "0.15733609",
         "0.05372246",
         "0.06129037",
         "0.020526564",
         "-0.016129581",
         "0.06217713",
         "-0.038280558",
         "0.046761613",
         "-0.044171542",
         "0.03660105",
         "0.022033406",
         "0.0051949355",
         "-0.093361184",
         "-0.03018788",
         "0.06357433",
         "-0.06456166",
         "-0.05197373",
         "-2.772426e-33",
         "0.042443357",
         "-0.027536452",
         "-0.007945797",
         "0.11977863",
         "0.03895036",
         "0.02771161",
         "-0.04130514",
         "0.03663668",
         "-0.056671027",
         "0.0018215702",
         "0.0039651454",
         "-0.0692928",
         "0.048402853",
         "-0.040081378",
         "-0.014375867",
         "0.03019641",
         "0.021724448",
         "0.1163335",
         "-0.009313686",
         "-0.0055781854",
         "-0.06950186",
         "0.05253826",
         "-0.09002164",
         "-0.021895299",
         "0.007834946",
         "0.059714828",
         "0.034823608",
         "0.0051414706",
         "0.01144886",
         "0.009998419",
         "0.069959275",
         "-0.05847176",
         "0.0067891586",
         "-0.0566867",
         "0.008432563",
         "0.043360453",
         "-0.029224364",
         "-0.049482133",
         "-0.049163762",
         "0.06698756",
         "-0.049146086",
         "0.031175474",
         "0.0009637279",
         "0.062055558",
         "0.023480533",
         "0.037092406",
         "-0.115239054",
         "0.023415545",
         "0.031560708",
         "0.08042733",
         "0.07349912",
         "0.006614104",
         "-0.083933",
         "0.016484821",
         "-0.03391874",
         "-0.036043543",
         "0.00023264035",
         "0.05415269",
         "0.075335264",
         "-0.013865319",
         "-0.097680494",
         "0.0036321445",
         "0.017718581",
         "-0.10061546",
         "-0.02403236",
         "0.0061682663",
         "-0.010769472",
         "-0.06445821",
         "0.063451044",
         "-0.0063315327",
         "0.13160619",
         "0.06300573",
         "0.012760629",
         "0.014626306",
         "0.08248071",
         "0.021187723",
         "0.08871944",
         "-0.06216962",
         "-0.06715855",
         "0.044502575",
         "0.041158427",
         "0.014075478",
         "0.017823441",
         "0.020597128",
         "-0.038260303",
         "0.09168951",
         "-0.060667787",
         "0.035103776",
         "0.06021608",
         "-8.8120956e-05",
         "0.01586717",
         "0.03014991",
         "-0.050268978",
         "-0.009388264",
         "0.016778463",
         "-3.5228066e-08",
         "-0.029614156",
         "-0.08200826",
         "0.0028766526",
         "0.07697674",
         "-0.009881607",
         "-0.004791067",
         "0.013203147",
         "-0.07411408",
         "0.026319744",
         "0.00048559054",
         "0.10377946",
         "0.047055274",
         "-0.10188882",
         "0.022464145",
         "-0.037570186",
         "0.0023979654",
         "-0.030471846",
         "0.028341679",
         "-0.009295942",
         "0.068063214",
         "-0.034682903",
         "0.055784054",
         "-0.004745229",
         "-0.087582394",
         "0.016338626",
         "-0.007317952",
         "-0.05723099",
         "0.017838681",
         "0.0013983595",
         "-0.03544371",
         "0.07027913",
         "0.0068278178",
         "0.033342782",
         "-0.055313945",
         "-0.03525227",
         "0.052678857",
         "-0.07199961",
         "-0.038981926",
         "-0.1114769",
         "-0.067128524",
         "-0.0033768802",
         "-0.038130425",
         "-0.021261875",
         "0.019740023",
         "-0.091439135",
         "-0.101308994",
         "-0.036169037",
         "0.03131623",
         "-0.029610258",
         "0.087488264",
         "-0.08411382",
         "-0.004862756",
         "-0.052726492",
         "0.018861126",
         "-0.06725196",
         "-0.004570148",
         "0.02728001",
         "0.0013359064",
         "0.0108917495",
         "-0.048070293",
         "0.04970682",
         "-0.041396216",
         "0.026319388",
         "-0.0068392106"
        ],
        [
         "4",
         "0.015059893",
         "-0.06994151",
         "0.04916322",
         "0.054451462",
         "-0.0036331972",
         "0.05871831",
         "0.062991224",
         "-0.060829654",
         "0.033323485",
         "0.01643252",
         "0.08017389",
         "-0.053981453",
         "-0.00990459",
         "-0.041777875",
         "0.10152963",
         "0.01018188",
         "0.13157637",
         "-0.029165711",
         "0.04386983",
         "-0.042111475",
         "0.08376104",
         "-0.01511192",
         "0.033093736",
         "0.0047697285",
         "-0.0187125",
         "0.001582561",
         "0.041854206",
         "-0.00725071",
         "-0.080262356",
         "-0.055357046",
         "-0.032262456",
         "0.038174093",
         "0.07678049",
         "0.002872661",
         "-0.07001772",
         "0.0379246",
         "0.06769682",
         "-0.06266419",
         "0.095570095",
         "0.028967574",
         "0.002647735",
         "0.050424475",
         "0.03405116",
         "0.077989444",
         "-0.03132295",
         "0.039717216",
         "-0.010759135",
         "-0.027969472",
         "-0.0051756604",
         "-0.022235522",
         "-0.11342654",
         "-0.0041388483",
         "-0.0015175107",
         "-0.018266067",
         "-0.014234816",
         "0.014118795",
         "-0.013301261",
         "-0.061018743",
         "0.031709444",
         "0.031190677",
         "0.010285273",
         "-0.055422246",
         "0.08690386",
         "-0.05634817",
         "-0.033381656",
         "-0.009101846",
         "-0.06605634",
         "-0.0032204578",
         "0.06438592",
         "-0.01937253",
         "-0.0594129",
         "0.06061032",
         "-0.06594918",
         "-0.0072994935",
         "-0.040999066",
         "0.017134292",
         "0.038035087",
         "-0.095317475",
         "-0.10804905",
         "0.009752387",
         "-0.10897427",
         "0.012621773",
         "-0.038192",
         "0.02157012",
         "-0.027995788",
         "-0.028584456",
         "0.041582923",
         "-0.03302597",
         "-0.0655157",
         "0.0010667985",
         "0.039709877",
         "-0.036170293",
         "-0.051416337",
         "-0.051110085",
         "-0.009413506",
         "-0.019233413",
         "0.054197926",
         "-0.0806149",
         "0.0150436135",
         "0.027514653",
         "0.05255318",
         "-0.05939707",
         "-0.013308311",
         "-0.042245835",
         "-0.05300551",
         "0.036976423",
         "-0.032860477",
         "-0.071528286",
         "0.033782262",
         "0.036806658",
         "-0.042193837",
         "-0.021369873",
         "-0.020357154",
         "-0.050579447",
         "-0.063347235",
         "0.010626317",
         "-0.0170722",
         "0.013658802",
         "0.02149738",
         "0.10497551",
         "0.021468975",
         "-0.0016174829",
         "0.012997503",
         "0.034252472",
         "-0.06277355",
         "-0.05847113",
         "-0.042668175",
         "3.2355383e-33",
         "-0.058701564",
         "0.055834103",
         "0.034216054",
         "0.016354527",
         "0.021825166",
         "0.023165137",
         "-0.024844995",
         "0.0022632782",
         "-0.02990068",
         "0.0036999942",
         "-0.008877838",
         "0.046812426",
         "-0.053194106",
         "0.12053526",
         "-0.05809259",
         "-0.048634972",
         "-0.052767124",
         "0.016461853",
         "0.0075079594",
         "-0.06312833",
         "-0.12290332",
         "0.10307959",
         "-0.033263065",
         "-0.057134245",
         "-0.07437709",
         "-0.053043034",
         "-0.014496875",
         "-0.017907536",
         "-0.0022789314",
         "-0.0069910362",
         "0.059168108",
         "-0.0023969489",
         "0.08373427",
         "0.067069046",
         "-0.059475772",
         "-0.013139458",
         "-0.07752546",
         "-0.035323527",
         "0.008523139",
         "-0.0050497325",
         "-0.00854849",
         "0.035684884",
         "0.03561733",
         "0.14861831",
         "-0.15485953",
         "-0.00757871",
         "0.003058136",
         "0.021280864",
         "0.05235079",
         "-0.03844817",
         "-0.00040796457",
         "0.021223562",
         "0.052848272",
         "0.04266037",
         "-0.08152986",
         "-0.00037043155",
         "-0.014354069",
         "-0.018397273",
         "-0.094983235",
         "0.0072304746",
         "0.07897127",
         "-0.006351847",
         "0.00025788465",
         "-0.13172907",
         "-0.067424856",
         "0.036081374",
         "-0.056909937",
         "-0.020775013",
         "0.07863959",
         "0.037641402",
         "-0.034669682",
         "0.05814604",
         "0.033550117",
         "0.06877145",
         "-0.054848865",
         "0.0077608526",
         "0.09436255",
         "0.020348525",
         "0.04956388",
         "0.056241795",
         "-0.025384435",
         "-0.0038847534",
         "0.0370725",
         "0.06712427",
         "-0.09241683",
         "0.0004504971",
         "-0.06699086",
         "-0.065146394",
         "0.06039295",
         "0.06273133",
         "-0.12705404",
         "-0.032783855",
         "0.02181319",
         "0.00896219",
         "-0.051073797",
         "-3.9855933e-33",
         "0.012509313",
         "0.016855804",
         "-0.009555466",
         "0.037009478",
         "0.011463991",
         "0.024128543",
         "-0.017185403",
         "-0.037371617",
         "-0.082699716",
         "-0.0346898",
         "0.036287133",
         "-0.072397396",
         "0.08907951",
         "-0.088433184",
         "0.005442439",
         "0.13847877",
         "0.061684478",
         "0.07361503",
         "0.022381596",
         "0.03105869",
         "-0.0525469",
         "0.06167083",
         "-0.044387992",
         "-0.049951103",
         "0.022107173",
         "0.03831853",
         "0.067631185",
         "-0.024523858",
         "-0.03295501",
         "-0.02306514",
         "0.060070816",
         "-0.07781624",
         "-0.032812722",
         "-0.033850197",
         "0.037239727",
         "0.0072951717",
         "-0.07752586",
         "-0.11307318",
         "0.008244174",
         "0.105770625",
         "-0.004339681",
         "0.024910463",
         "0.094379246",
         "0.032668512",
         "0.052008104",
         "-0.040748738",
         "-0.025798198",
         "0.039467316",
         "0.0007382401",
         "0.026265448",
         "0.019749966",
         "0.0064577",
         "-0.066245325",
         "0.03172976",
         "0.035069108",
         "0.017001793",
         "-0.0694298",
         "0.044545837",
         "-0.019478159",
         "-0.04939427",
         "-0.033468686",
         "0.010974532",
         "0.018047266",
         "-0.037605852",
         "-0.009719863",
         "-0.017155014",
         "-0.024004184",
         "-0.08469762",
         "0.00059264264",
         "0.008271455",
         "0.047952387",
         "0.03190099",
         "0.00065932353",
         "0.012113493",
         "0.07163568",
         "0.018464644",
         "-0.021317737",
         "-0.045113638",
         "-0.069717",
         "0.005205811",
         "0.03630871",
         "0.060566332",
         "-0.006185885",
         "0.023764202",
         "0.026829276",
         "0.07599952",
         "-0.039359257",
         "0.014358023",
         "0.020459324",
         "-0.022594756",
         "-0.05917633",
         "0.008079033",
         "-0.035518564",
         "0.047211327",
         "0.014599393",
         "-3.4194027e-08",
         "0.01219094",
         "-0.08130801",
         "-0.012918581",
         "0.03470239",
         "-0.045787826",
         "0.0057631717",
         "-0.0032368319",
         "-0.033058308",
         "-0.073591515",
         "0.006521161",
         "0.026844252",
         "0.029052164",
         "-0.094614685",
         "0.00075189874",
         "-0.041143555",
         "0.06532817",
         "-0.0019809033",
         "0.13206646",
         "0.048961036",
         "0.07244003",
         "-0.06397084",
         "0.05459762",
         "-0.0006599976",
         "-0.012574874",
         "-0.024848383",
         "0.02003788",
         "0.006398816",
         "0.021336814",
         "0.05662072",
         "0.01636173",
         "0.066830754",
         "0.013576416",
         "-0.035409775",
         "-0.05514531",
         "-0.031001452",
         "0.05456614",
         "-0.09601094",
         "-0.025696624",
         "-0.050844982",
         "0.02954486",
         "0.08251781",
         "0.03181067",
         "-0.05433465",
         "0.0060818624",
         "-0.037367556",
         "-0.10230096",
         "-0.024638722",
         "-0.0031240645",
         "-0.015912853",
         "0.1133553",
         "-0.036483083",
         "0.066031024",
         "0.019007303",
         "0.07543491",
         "0.0631298",
         "-0.047162738",
         "0.010611908",
         "-0.056840796",
         "-0.043269087",
         "0.08038519",
         "0.047081653",
         "0.04114183",
         "0.08712176",
         "-0.041449513"
        ]
       ],
       "shape": {
        "columns": 384,
        "rows": 5
       }
      },
      "text/html": [
       "<div>\n",
       "<style scoped>\n",
       "    .dataframe tbody tr th:only-of-type {\n",
       "        vertical-align: middle;\n",
       "    }\n",
       "\n",
       "    .dataframe tbody tr th {\n",
       "        vertical-align: top;\n",
       "    }\n",
       "\n",
       "    .dataframe thead th {\n",
       "        text-align: right;\n",
       "    }\n",
       "</style>\n",
       "<table border=\"1\" class=\"dataframe\">\n",
       "  <thead>\n",
       "    <tr style=\"text-align: right;\">\n",
       "      <th></th>\n",
       "      <th>embedding_0</th>\n",
       "      <th>embedding_1</th>\n",
       "      <th>embedding_2</th>\n",
       "      <th>embedding_3</th>\n",
       "      <th>embedding_4</th>\n",
       "      <th>embedding_5</th>\n",
       "      <th>embedding_6</th>\n",
       "      <th>embedding_7</th>\n",
       "      <th>embedding_8</th>\n",
       "      <th>embedding_9</th>\n",
       "      <th>...</th>\n",
       "      <th>embedding_374</th>\n",
       "      <th>embedding_375</th>\n",
       "      <th>embedding_376</th>\n",
       "      <th>embedding_377</th>\n",
       "      <th>embedding_378</th>\n",
       "      <th>embedding_379</th>\n",
       "      <th>embedding_380</th>\n",
       "      <th>embedding_381</th>\n",
       "      <th>embedding_382</th>\n",
       "      <th>embedding_383</th>\n",
       "    </tr>\n",
       "  </thead>\n",
       "  <tbody>\n",
       "    <tr>\n",
       "      <th>0</th>\n",
       "      <td>0.008777</td>\n",
       "      <td>-0.082771</td>\n",
       "      <td>0.024729</td>\n",
       "      <td>0.078660</td>\n",
       "      <td>0.005191</td>\n",
       "      <td>0.060218</td>\n",
       "      <td>0.065924</td>\n",
       "      <td>0.009194</td>\n",
       "      <td>-0.030157</td>\n",
       "      <td>-0.048403</td>\n",
       "      <td>...</td>\n",
       "      <td>0.060489</td>\n",
       "      <td>-0.106815</td>\n",
       "      <td>-0.007090</td>\n",
       "      <td>0.020284</td>\n",
       "      <td>0.030398</td>\n",
       "      <td>-0.017235</td>\n",
       "      <td>0.116938</td>\n",
       "      <td>0.009465</td>\n",
       "      <td>0.125576</td>\n",
       "      <td>-0.057318</td>\n",
       "    </tr>\n",
       "    <tr>\n",
       "      <th>1</th>\n",
       "      <td>0.028276</td>\n",
       "      <td>-0.042140</td>\n",
       "      <td>0.077335</td>\n",
       "      <td>0.054751</td>\n",
       "      <td>0.017898</td>\n",
       "      <td>0.028249</td>\n",
       "      <td>0.021284</td>\n",
       "      <td>-0.055828</td>\n",
       "      <td>0.007576</td>\n",
       "      <td>-0.004823</td>\n",
       "      <td>...</td>\n",
       "      <td>0.019054</td>\n",
       "      <td>-0.061376</td>\n",
       "      <td>-0.021005</td>\n",
       "      <td>0.014521</td>\n",
       "      <td>0.029151</td>\n",
       "      <td>-0.029481</td>\n",
       "      <td>0.073085</td>\n",
       "      <td>0.069167</td>\n",
       "      <td>0.139072</td>\n",
       "      <td>-0.034472</td>\n",
       "    </tr>\n",
       "    <tr>\n",
       "      <th>2</th>\n",
       "      <td>-0.027544</td>\n",
       "      <td>-0.045877</td>\n",
       "      <td>0.034247</td>\n",
       "      <td>0.067393</td>\n",
       "      <td>-0.053871</td>\n",
       "      <td>0.112930</td>\n",
       "      <td>-0.006424</td>\n",
       "      <td>-0.053299</td>\n",
       "      <td>0.009558</td>\n",
       "      <td>-0.067102</td>\n",
       "      <td>...</td>\n",
       "      <td>-0.073073</td>\n",
       "      <td>-0.000961</td>\n",
       "      <td>0.022420</td>\n",
       "      <td>-0.018780</td>\n",
       "      <td>0.015867</td>\n",
       "      <td>-0.002011</td>\n",
       "      <td>0.060946</td>\n",
       "      <td>-0.056158</td>\n",
       "      <td>0.002407</td>\n",
       "      <td>0.055373</td>\n",
       "    </tr>\n",
       "    <tr>\n",
       "      <th>3</th>\n",
       "      <td>-0.035782</td>\n",
       "      <td>-0.091289</td>\n",
       "      <td>0.031026</td>\n",
       "      <td>0.047719</td>\n",
       "      <td>-0.036091</td>\n",
       "      <td>0.075482</td>\n",
       "      <td>0.006119</td>\n",
       "      <td>-0.037409</td>\n",
       "      <td>0.024009</td>\n",
       "      <td>-0.089230</td>\n",
       "      <td>...</td>\n",
       "      <td>-0.067252</td>\n",
       "      <td>-0.004570</td>\n",
       "      <td>0.027280</td>\n",
       "      <td>0.001336</td>\n",
       "      <td>0.010892</td>\n",
       "      <td>-0.048070</td>\n",
       "      <td>0.049707</td>\n",
       "      <td>-0.041396</td>\n",
       "      <td>0.026319</td>\n",
       "      <td>-0.006839</td>\n",
       "    </tr>\n",
       "    <tr>\n",
       "      <th>4</th>\n",
       "      <td>0.015060</td>\n",
       "      <td>-0.069942</td>\n",
       "      <td>0.049163</td>\n",
       "      <td>0.054451</td>\n",
       "      <td>-0.003633</td>\n",
       "      <td>0.058718</td>\n",
       "      <td>0.062991</td>\n",
       "      <td>-0.060830</td>\n",
       "      <td>0.033323</td>\n",
       "      <td>0.016433</td>\n",
       "      <td>...</td>\n",
       "      <td>0.063130</td>\n",
       "      <td>-0.047163</td>\n",
       "      <td>0.010612</td>\n",
       "      <td>-0.056841</td>\n",
       "      <td>-0.043269</td>\n",
       "      <td>0.080385</td>\n",
       "      <td>0.047082</td>\n",
       "      <td>0.041142</td>\n",
       "      <td>0.087122</td>\n",
       "      <td>-0.041450</td>\n",
       "    </tr>\n",
       "  </tbody>\n",
       "</table>\n",
       "<p>5 rows × 384 columns</p>\n",
       "</div>"
      ],
      "text/plain": [
       "   embedding_0  embedding_1  embedding_2  embedding_3  embedding_4  \\\n",
       "0     0.008777    -0.082771     0.024729     0.078660     0.005191   \n",
       "1     0.028276    -0.042140     0.077335     0.054751     0.017898   \n",
       "2    -0.027544    -0.045877     0.034247     0.067393    -0.053871   \n",
       "3    -0.035782    -0.091289     0.031026     0.047719    -0.036091   \n",
       "4     0.015060    -0.069942     0.049163     0.054451    -0.003633   \n",
       "\n",
       "   embedding_5  embedding_6  embedding_7  embedding_8  embedding_9  ...  \\\n",
       "0     0.060218     0.065924     0.009194    -0.030157    -0.048403  ...   \n",
       "1     0.028249     0.021284    -0.055828     0.007576    -0.004823  ...   \n",
       "2     0.112930    -0.006424    -0.053299     0.009558    -0.067102  ...   \n",
       "3     0.075482     0.006119    -0.037409     0.024009    -0.089230  ...   \n",
       "4     0.058718     0.062991    -0.060830     0.033323     0.016433  ...   \n",
       "\n",
       "   embedding_374  embedding_375  embedding_376  embedding_377  embedding_378  \\\n",
       "0       0.060489      -0.106815      -0.007090       0.020284       0.030398   \n",
       "1       0.019054      -0.061376      -0.021005       0.014521       0.029151   \n",
       "2      -0.073073      -0.000961       0.022420      -0.018780       0.015867   \n",
       "3      -0.067252      -0.004570       0.027280       0.001336       0.010892   \n",
       "4       0.063130      -0.047163       0.010612      -0.056841      -0.043269   \n",
       "\n",
       "   embedding_379  embedding_380  embedding_381  embedding_382  embedding_383  \n",
       "0      -0.017235       0.116938       0.009465       0.125576      -0.057318  \n",
       "1      -0.029481       0.073085       0.069167       0.139072      -0.034472  \n",
       "2      -0.002011       0.060946      -0.056158       0.002407       0.055373  \n",
       "3      -0.048070       0.049707      -0.041396       0.026319      -0.006839  \n",
       "4       0.080385       0.047082       0.041142       0.087122      -0.041450  \n",
       "\n",
       "[5 rows x 384 columns]"
      ]
     },
     "execution_count": 67,
     "metadata": {},
     "output_type": "execute_result"
    }
   ],
   "source": [
    "df_embeddings.head()"
   ]
  },
  {
   "cell_type": "code",
   "execution_count": 61,
   "metadata": {},
   "outputs": [
    {
     "name": "stdout",
     "output_type": "stream",
     "text": [
      "XGBoost R2: 0.5441\n"
     ]
    }
   ],
   "source": [
    "# train test split\n",
    "X_train, X_test, y_train, y_test = train_test_split(df_embeddings, y, test_size=0.2, random_state=0)\n",
    "# standardize features\n",
    "scaler = StandardScaler()\n",
    "X_train = scaler.fit_transform(X_train)\n",
    "X_test = scaler.transform(X_test)\n",
    "\n",
    "# train xgboost model\n",
    "xgb_model = XGBRegressor(n_estimators=1000, max_depth=3, learning_rate=0.1, random_state=42)\n",
    "xgb_model.fit(X_train, y_train)\n",
    "# make predictions\n",
    "y_pred = xgb_model.predict(X_test)\n",
    "\n",
    "# calculate r2 score\n",
    "r2_xgb = xgb_model.score(X_test, y_test)\n",
    "print(f\"XGBoost R2: {r2_xgb:.4f}\")"
   ]
  },
  {
   "cell_type": "code",
   "execution_count": 64,
   "metadata": {},
   "outputs": [
    {
     "name": "stderr",
     "output_type": "stream",
     "text": [
      "c:\\Users\\davidj\\Desktop\\CSSE415-Project\\venv\\Lib\\site-packages\\sklearn\\linear_model\\_coordinate_descent.py:695: ConvergenceWarning: Objective did not converge. You might want to increase the number of iterations, check the scale of the features or consider increasing regularisation. Duality gap: 2.916e+02, tolerance: 3.069e-01\n",
      "  model = cd_fast.enet_coordinate_descent(\n",
      "c:\\Users\\davidj\\Desktop\\CSSE415-Project\\venv\\Lib\\site-packages\\sklearn\\linear_model\\_coordinate_descent.py:695: ConvergenceWarning: Objective did not converge. You might want to increase the number of iterations, check the scale of the features or consider increasing regularisation. Duality gap: 3.034e+02, tolerance: 3.168e-01\n",
      "  model = cd_fast.enet_coordinate_descent(\n",
      "c:\\Users\\davidj\\Desktop\\CSSE415-Project\\venv\\Lib\\site-packages\\sklearn\\linear_model\\_coordinate_descent.py:695: ConvergenceWarning: Objective did not converge. You might want to increase the number of iterations, check the scale of the features or consider increasing regularisation. Duality gap: 3.017e+02, tolerance: 3.257e-01\n",
      "  model = cd_fast.enet_coordinate_descent(\n",
      "c:\\Users\\davidj\\Desktop\\CSSE415-Project\\venv\\Lib\\site-packages\\sklearn\\linear_model\\_coordinate_descent.py:695: ConvergenceWarning: Objective did not converge. You might want to increase the number of iterations, check the scale of the features or consider increasing regularisation. Duality gap: 3.156e+02, tolerance: 3.203e-01\n",
      "  model = cd_fast.enet_coordinate_descent(\n",
      "c:\\Users\\davidj\\Desktop\\CSSE415-Project\\venv\\Lib\\site-packages\\sklearn\\linear_model\\_coordinate_descent.py:695: ConvergenceWarning: Objective did not converge. You might want to increase the number of iterations, check the scale of the features or consider increasing regularisation. Duality gap: 3.141e+02, tolerance: 3.254e-01\n",
      "  model = cd_fast.enet_coordinate_descent(\n",
      "c:\\Users\\davidj\\Desktop\\CSSE415-Project\\venv\\Lib\\site-packages\\sklearn\\linear_model\\_coordinate_descent.py:695: ConvergenceWarning: Objective did not converge. You might want to increase the number of iterations, check the scale of the features or consider increasing regularisation. Duality gap: 7.026e+01, tolerance: 3.069e-01\n",
      "  model = cd_fast.enet_coordinate_descent(\n",
      "c:\\Users\\davidj\\Desktop\\CSSE415-Project\\venv\\Lib\\site-packages\\sklearn\\linear_model\\_coordinate_descent.py:695: ConvergenceWarning: Objective did not converge. You might want to increase the number of iterations, check the scale of the features or consider increasing regularisation. Duality gap: 4.082e+01, tolerance: 3.168e-01\n",
      "  model = cd_fast.enet_coordinate_descent(\n",
      "c:\\Users\\davidj\\Desktop\\CSSE415-Project\\venv\\Lib\\site-packages\\sklearn\\linear_model\\_coordinate_descent.py:695: ConvergenceWarning: Objective did not converge. You might want to increase the number of iterations, check the scale of the features or consider increasing regularisation. Duality gap: 5.067e+01, tolerance: 3.257e-01\n",
      "  model = cd_fast.enet_coordinate_descent(\n",
      "c:\\Users\\davidj\\Desktop\\CSSE415-Project\\venv\\Lib\\site-packages\\sklearn\\linear_model\\_coordinate_descent.py:695: ConvergenceWarning: Objective did not converge. You might want to increase the number of iterations, check the scale of the features or consider increasing regularisation. Duality gap: 4.088e+01, tolerance: 3.203e-01\n",
      "  model = cd_fast.enet_coordinate_descent(\n",
      "c:\\Users\\davidj\\Desktop\\CSSE415-Project\\venv\\Lib\\site-packages\\sklearn\\linear_model\\_coordinate_descent.py:695: ConvergenceWarning: Objective did not converge. You might want to increase the number of iterations, check the scale of the features or consider increasing regularisation. Duality gap: 6.192e+01, tolerance: 3.254e-01\n",
      "  model = cd_fast.enet_coordinate_descent(\n"
     ]
    },
    {
     "data": {
      "text/html": [
       "<style>#sk-container-id-3 {\n",
       "  /* Definition of color scheme common for light and dark mode */\n",
       "  --sklearn-color-text: #000;\n",
       "  --sklearn-color-text-muted: #666;\n",
       "  --sklearn-color-line: gray;\n",
       "  /* Definition of color scheme for unfitted estimators */\n",
       "  --sklearn-color-unfitted-level-0: #fff5e6;\n",
       "  --sklearn-color-unfitted-level-1: #f6e4d2;\n",
       "  --sklearn-color-unfitted-level-2: #ffe0b3;\n",
       "  --sklearn-color-unfitted-level-3: chocolate;\n",
       "  /* Definition of color scheme for fitted estimators */\n",
       "  --sklearn-color-fitted-level-0: #f0f8ff;\n",
       "  --sklearn-color-fitted-level-1: #d4ebff;\n",
       "  --sklearn-color-fitted-level-2: #b3dbfd;\n",
       "  --sklearn-color-fitted-level-3: cornflowerblue;\n",
       "\n",
       "  /* Specific color for light theme */\n",
       "  --sklearn-color-text-on-default-background: var(--sg-text-color, var(--theme-code-foreground, var(--jp-content-font-color1, black)));\n",
       "  --sklearn-color-background: var(--sg-background-color, var(--theme-background, var(--jp-layout-color0, white)));\n",
       "  --sklearn-color-border-box: var(--sg-text-color, var(--theme-code-foreground, var(--jp-content-font-color1, black)));\n",
       "  --sklearn-color-icon: #696969;\n",
       "\n",
       "  @media (prefers-color-scheme: dark) {\n",
       "    /* Redefinition of color scheme for dark theme */\n",
       "    --sklearn-color-text-on-default-background: var(--sg-text-color, var(--theme-code-foreground, var(--jp-content-font-color1, white)));\n",
       "    --sklearn-color-background: var(--sg-background-color, var(--theme-background, var(--jp-layout-color0, #111)));\n",
       "    --sklearn-color-border-box: var(--sg-text-color, var(--theme-code-foreground, var(--jp-content-font-color1, white)));\n",
       "    --sklearn-color-icon: #878787;\n",
       "  }\n",
       "}\n",
       "\n",
       "#sk-container-id-3 {\n",
       "  color: var(--sklearn-color-text);\n",
       "}\n",
       "\n",
       "#sk-container-id-3 pre {\n",
       "  padding: 0;\n",
       "}\n",
       "\n",
       "#sk-container-id-3 input.sk-hidden--visually {\n",
       "  border: 0;\n",
       "  clip: rect(1px 1px 1px 1px);\n",
       "  clip: rect(1px, 1px, 1px, 1px);\n",
       "  height: 1px;\n",
       "  margin: -1px;\n",
       "  overflow: hidden;\n",
       "  padding: 0;\n",
       "  position: absolute;\n",
       "  width: 1px;\n",
       "}\n",
       "\n",
       "#sk-container-id-3 div.sk-dashed-wrapped {\n",
       "  border: 1px dashed var(--sklearn-color-line);\n",
       "  margin: 0 0.4em 0.5em 0.4em;\n",
       "  box-sizing: border-box;\n",
       "  padding-bottom: 0.4em;\n",
       "  background-color: var(--sklearn-color-background);\n",
       "}\n",
       "\n",
       "#sk-container-id-3 div.sk-container {\n",
       "  /* jupyter's `normalize.less` sets `[hidden] { display: none; }`\n",
       "     but bootstrap.min.css set `[hidden] { display: none !important; }`\n",
       "     so we also need the `!important` here to be able to override the\n",
       "     default hidden behavior on the sphinx rendered scikit-learn.org.\n",
       "     See: https://github.com/scikit-learn/scikit-learn/issues/21755 */\n",
       "  display: inline-block !important;\n",
       "  position: relative;\n",
       "}\n",
       "\n",
       "#sk-container-id-3 div.sk-text-repr-fallback {\n",
       "  display: none;\n",
       "}\n",
       "\n",
       "div.sk-parallel-item,\n",
       "div.sk-serial,\n",
       "div.sk-item {\n",
       "  /* draw centered vertical line to link estimators */\n",
       "  background-image: linear-gradient(var(--sklearn-color-text-on-default-background), var(--sklearn-color-text-on-default-background));\n",
       "  background-size: 2px 100%;\n",
       "  background-repeat: no-repeat;\n",
       "  background-position: center center;\n",
       "}\n",
       "\n",
       "/* Parallel-specific style estimator block */\n",
       "\n",
       "#sk-container-id-3 div.sk-parallel-item::after {\n",
       "  content: \"\";\n",
       "  width: 100%;\n",
       "  border-bottom: 2px solid var(--sklearn-color-text-on-default-background);\n",
       "  flex-grow: 1;\n",
       "}\n",
       "\n",
       "#sk-container-id-3 div.sk-parallel {\n",
       "  display: flex;\n",
       "  align-items: stretch;\n",
       "  justify-content: center;\n",
       "  background-color: var(--sklearn-color-background);\n",
       "  position: relative;\n",
       "}\n",
       "\n",
       "#sk-container-id-3 div.sk-parallel-item {\n",
       "  display: flex;\n",
       "  flex-direction: column;\n",
       "}\n",
       "\n",
       "#sk-container-id-3 div.sk-parallel-item:first-child::after {\n",
       "  align-self: flex-end;\n",
       "  width: 50%;\n",
       "}\n",
       "\n",
       "#sk-container-id-3 div.sk-parallel-item:last-child::after {\n",
       "  align-self: flex-start;\n",
       "  width: 50%;\n",
       "}\n",
       "\n",
       "#sk-container-id-3 div.sk-parallel-item:only-child::after {\n",
       "  width: 0;\n",
       "}\n",
       "\n",
       "/* Serial-specific style estimator block */\n",
       "\n",
       "#sk-container-id-3 div.sk-serial {\n",
       "  display: flex;\n",
       "  flex-direction: column;\n",
       "  align-items: center;\n",
       "  background-color: var(--sklearn-color-background);\n",
       "  padding-right: 1em;\n",
       "  padding-left: 1em;\n",
       "}\n",
       "\n",
       "\n",
       "/* Toggleable style: style used for estimator/Pipeline/ColumnTransformer box that is\n",
       "clickable and can be expanded/collapsed.\n",
       "- Pipeline and ColumnTransformer use this feature and define the default style\n",
       "- Estimators will overwrite some part of the style using the `sk-estimator` class\n",
       "*/\n",
       "\n",
       "/* Pipeline and ColumnTransformer style (default) */\n",
       "\n",
       "#sk-container-id-3 div.sk-toggleable {\n",
       "  /* Default theme specific background. It is overwritten whether we have a\n",
       "  specific estimator or a Pipeline/ColumnTransformer */\n",
       "  background-color: var(--sklearn-color-background);\n",
       "}\n",
       "\n",
       "/* Toggleable label */\n",
       "#sk-container-id-3 label.sk-toggleable__label {\n",
       "  cursor: pointer;\n",
       "  display: flex;\n",
       "  width: 100%;\n",
       "  margin-bottom: 0;\n",
       "  padding: 0.5em;\n",
       "  box-sizing: border-box;\n",
       "  text-align: center;\n",
       "  align-items: start;\n",
       "  justify-content: space-between;\n",
       "  gap: 0.5em;\n",
       "}\n",
       "\n",
       "#sk-container-id-3 label.sk-toggleable__label .caption {\n",
       "  font-size: 0.6rem;\n",
       "  font-weight: lighter;\n",
       "  color: var(--sklearn-color-text-muted);\n",
       "}\n",
       "\n",
       "#sk-container-id-3 label.sk-toggleable__label-arrow:before {\n",
       "  /* Arrow on the left of the label */\n",
       "  content: \"▸\";\n",
       "  float: left;\n",
       "  margin-right: 0.25em;\n",
       "  color: var(--sklearn-color-icon);\n",
       "}\n",
       "\n",
       "#sk-container-id-3 label.sk-toggleable__label-arrow:hover:before {\n",
       "  color: var(--sklearn-color-text);\n",
       "}\n",
       "\n",
       "/* Toggleable content - dropdown */\n",
       "\n",
       "#sk-container-id-3 div.sk-toggleable__content {\n",
       "  max-height: 0;\n",
       "  max-width: 0;\n",
       "  overflow: hidden;\n",
       "  text-align: left;\n",
       "  /* unfitted */\n",
       "  background-color: var(--sklearn-color-unfitted-level-0);\n",
       "}\n",
       "\n",
       "#sk-container-id-3 div.sk-toggleable__content.fitted {\n",
       "  /* fitted */\n",
       "  background-color: var(--sklearn-color-fitted-level-0);\n",
       "}\n",
       "\n",
       "#sk-container-id-3 div.sk-toggleable__content pre {\n",
       "  margin: 0.2em;\n",
       "  border-radius: 0.25em;\n",
       "  color: var(--sklearn-color-text);\n",
       "  /* unfitted */\n",
       "  background-color: var(--sklearn-color-unfitted-level-0);\n",
       "}\n",
       "\n",
       "#sk-container-id-3 div.sk-toggleable__content.fitted pre {\n",
       "  /* unfitted */\n",
       "  background-color: var(--sklearn-color-fitted-level-0);\n",
       "}\n",
       "\n",
       "#sk-container-id-3 input.sk-toggleable__control:checked~div.sk-toggleable__content {\n",
       "  /* Expand drop-down */\n",
       "  max-height: 200px;\n",
       "  max-width: 100%;\n",
       "  overflow: auto;\n",
       "}\n",
       "\n",
       "#sk-container-id-3 input.sk-toggleable__control:checked~label.sk-toggleable__label-arrow:before {\n",
       "  content: \"▾\";\n",
       "}\n",
       "\n",
       "/* Pipeline/ColumnTransformer-specific style */\n",
       "\n",
       "#sk-container-id-3 div.sk-label input.sk-toggleable__control:checked~label.sk-toggleable__label {\n",
       "  color: var(--sklearn-color-text);\n",
       "  background-color: var(--sklearn-color-unfitted-level-2);\n",
       "}\n",
       "\n",
       "#sk-container-id-3 div.sk-label.fitted input.sk-toggleable__control:checked~label.sk-toggleable__label {\n",
       "  background-color: var(--sklearn-color-fitted-level-2);\n",
       "}\n",
       "\n",
       "/* Estimator-specific style */\n",
       "\n",
       "/* Colorize estimator box */\n",
       "#sk-container-id-3 div.sk-estimator input.sk-toggleable__control:checked~label.sk-toggleable__label {\n",
       "  /* unfitted */\n",
       "  background-color: var(--sklearn-color-unfitted-level-2);\n",
       "}\n",
       "\n",
       "#sk-container-id-3 div.sk-estimator.fitted input.sk-toggleable__control:checked~label.sk-toggleable__label {\n",
       "  /* fitted */\n",
       "  background-color: var(--sklearn-color-fitted-level-2);\n",
       "}\n",
       "\n",
       "#sk-container-id-3 div.sk-label label.sk-toggleable__label,\n",
       "#sk-container-id-3 div.sk-label label {\n",
       "  /* The background is the default theme color */\n",
       "  color: var(--sklearn-color-text-on-default-background);\n",
       "}\n",
       "\n",
       "/* On hover, darken the color of the background */\n",
       "#sk-container-id-3 div.sk-label:hover label.sk-toggleable__label {\n",
       "  color: var(--sklearn-color-text);\n",
       "  background-color: var(--sklearn-color-unfitted-level-2);\n",
       "}\n",
       "\n",
       "/* Label box, darken color on hover, fitted */\n",
       "#sk-container-id-3 div.sk-label.fitted:hover label.sk-toggleable__label.fitted {\n",
       "  color: var(--sklearn-color-text);\n",
       "  background-color: var(--sklearn-color-fitted-level-2);\n",
       "}\n",
       "\n",
       "/* Estimator label */\n",
       "\n",
       "#sk-container-id-3 div.sk-label label {\n",
       "  font-family: monospace;\n",
       "  font-weight: bold;\n",
       "  display: inline-block;\n",
       "  line-height: 1.2em;\n",
       "}\n",
       "\n",
       "#sk-container-id-3 div.sk-label-container {\n",
       "  text-align: center;\n",
       "}\n",
       "\n",
       "/* Estimator-specific */\n",
       "#sk-container-id-3 div.sk-estimator {\n",
       "  font-family: monospace;\n",
       "  border: 1px dotted var(--sklearn-color-border-box);\n",
       "  border-radius: 0.25em;\n",
       "  box-sizing: border-box;\n",
       "  margin-bottom: 0.5em;\n",
       "  /* unfitted */\n",
       "  background-color: var(--sklearn-color-unfitted-level-0);\n",
       "}\n",
       "\n",
       "#sk-container-id-3 div.sk-estimator.fitted {\n",
       "  /* fitted */\n",
       "  background-color: var(--sklearn-color-fitted-level-0);\n",
       "}\n",
       "\n",
       "/* on hover */\n",
       "#sk-container-id-3 div.sk-estimator:hover {\n",
       "  /* unfitted */\n",
       "  background-color: var(--sklearn-color-unfitted-level-2);\n",
       "}\n",
       "\n",
       "#sk-container-id-3 div.sk-estimator.fitted:hover {\n",
       "  /* fitted */\n",
       "  background-color: var(--sklearn-color-fitted-level-2);\n",
       "}\n",
       "\n",
       "/* Specification for estimator info (e.g. \"i\" and \"?\") */\n",
       "\n",
       "/* Common style for \"i\" and \"?\" */\n",
       "\n",
       ".sk-estimator-doc-link,\n",
       "a:link.sk-estimator-doc-link,\n",
       "a:visited.sk-estimator-doc-link {\n",
       "  float: right;\n",
       "  font-size: smaller;\n",
       "  line-height: 1em;\n",
       "  font-family: monospace;\n",
       "  background-color: var(--sklearn-color-background);\n",
       "  border-radius: 1em;\n",
       "  height: 1em;\n",
       "  width: 1em;\n",
       "  text-decoration: none !important;\n",
       "  margin-left: 0.5em;\n",
       "  text-align: center;\n",
       "  /* unfitted */\n",
       "  border: var(--sklearn-color-unfitted-level-1) 1pt solid;\n",
       "  color: var(--sklearn-color-unfitted-level-1);\n",
       "}\n",
       "\n",
       ".sk-estimator-doc-link.fitted,\n",
       "a:link.sk-estimator-doc-link.fitted,\n",
       "a:visited.sk-estimator-doc-link.fitted {\n",
       "  /* fitted */\n",
       "  border: var(--sklearn-color-fitted-level-1) 1pt solid;\n",
       "  color: var(--sklearn-color-fitted-level-1);\n",
       "}\n",
       "\n",
       "/* On hover */\n",
       "div.sk-estimator:hover .sk-estimator-doc-link:hover,\n",
       ".sk-estimator-doc-link:hover,\n",
       "div.sk-label-container:hover .sk-estimator-doc-link:hover,\n",
       ".sk-estimator-doc-link:hover {\n",
       "  /* unfitted */\n",
       "  background-color: var(--sklearn-color-unfitted-level-3);\n",
       "  color: var(--sklearn-color-background);\n",
       "  text-decoration: none;\n",
       "}\n",
       "\n",
       "div.sk-estimator.fitted:hover .sk-estimator-doc-link.fitted:hover,\n",
       ".sk-estimator-doc-link.fitted:hover,\n",
       "div.sk-label-container:hover .sk-estimator-doc-link.fitted:hover,\n",
       ".sk-estimator-doc-link.fitted:hover {\n",
       "  /* fitted */\n",
       "  background-color: var(--sklearn-color-fitted-level-3);\n",
       "  color: var(--sklearn-color-background);\n",
       "  text-decoration: none;\n",
       "}\n",
       "\n",
       "/* Span, style for the box shown on hovering the info icon */\n",
       ".sk-estimator-doc-link span {\n",
       "  display: none;\n",
       "  z-index: 9999;\n",
       "  position: relative;\n",
       "  font-weight: normal;\n",
       "  right: .2ex;\n",
       "  padding: .5ex;\n",
       "  margin: .5ex;\n",
       "  width: min-content;\n",
       "  min-width: 20ex;\n",
       "  max-width: 50ex;\n",
       "  color: var(--sklearn-color-text);\n",
       "  box-shadow: 2pt 2pt 4pt #999;\n",
       "  /* unfitted */\n",
       "  background: var(--sklearn-color-unfitted-level-0);\n",
       "  border: .5pt solid var(--sklearn-color-unfitted-level-3);\n",
       "}\n",
       "\n",
       ".sk-estimator-doc-link.fitted span {\n",
       "  /* fitted */\n",
       "  background: var(--sklearn-color-fitted-level-0);\n",
       "  border: var(--sklearn-color-fitted-level-3);\n",
       "}\n",
       "\n",
       ".sk-estimator-doc-link:hover span {\n",
       "  display: block;\n",
       "}\n",
       "\n",
       "/* \"?\"-specific style due to the `<a>` HTML tag */\n",
       "\n",
       "#sk-container-id-3 a.estimator_doc_link {\n",
       "  float: right;\n",
       "  font-size: 1rem;\n",
       "  line-height: 1em;\n",
       "  font-family: monospace;\n",
       "  background-color: var(--sklearn-color-background);\n",
       "  border-radius: 1rem;\n",
       "  height: 1rem;\n",
       "  width: 1rem;\n",
       "  text-decoration: none;\n",
       "  /* unfitted */\n",
       "  color: var(--sklearn-color-unfitted-level-1);\n",
       "  border: var(--sklearn-color-unfitted-level-1) 1pt solid;\n",
       "}\n",
       "\n",
       "#sk-container-id-3 a.estimator_doc_link.fitted {\n",
       "  /* fitted */\n",
       "  border: var(--sklearn-color-fitted-level-1) 1pt solid;\n",
       "  color: var(--sklearn-color-fitted-level-1);\n",
       "}\n",
       "\n",
       "/* On hover */\n",
       "#sk-container-id-3 a.estimator_doc_link:hover {\n",
       "  /* unfitted */\n",
       "  background-color: var(--sklearn-color-unfitted-level-3);\n",
       "  color: var(--sklearn-color-background);\n",
       "  text-decoration: none;\n",
       "}\n",
       "\n",
       "#sk-container-id-3 a.estimator_doc_link.fitted:hover {\n",
       "  /* fitted */\n",
       "  background-color: var(--sklearn-color-fitted-level-3);\n",
       "}\n",
       "</style><div id=\"sk-container-id-3\" class=\"sk-top-container\"><div class=\"sk-text-repr-fallback\"><pre>GridSearchCV(estimator=Lasso(),\n",
       "             param_grid={&#x27;alpha&#x27;: [0.0001, 0.001, 0.01, 0.1, 1, 10, 100, 1000,\n",
       "                                   10000, 100000]})</pre><b>In a Jupyter environment, please rerun this cell to show the HTML representation or trust the notebook. <br />On GitHub, the HTML representation is unable to render, please try loading this page with nbviewer.org.</b></div><div class=\"sk-container\" hidden><div class=\"sk-item sk-dashed-wrapped\"><div class=\"sk-label-container\"><div class=\"sk-label fitted sk-toggleable\"><input class=\"sk-toggleable__control sk-hidden--visually\" id=\"sk-estimator-id-7\" type=\"checkbox\" ><label for=\"sk-estimator-id-7\" class=\"sk-toggleable__label fitted sk-toggleable__label-arrow\"><div><div>GridSearchCV</div></div><div><a class=\"sk-estimator-doc-link fitted\" rel=\"noreferrer\" target=\"_blank\" href=\"https://scikit-learn.org/1.6/modules/generated/sklearn.model_selection.GridSearchCV.html\">?<span>Documentation for GridSearchCV</span></a><span class=\"sk-estimator-doc-link fitted\">i<span>Fitted</span></span></div></label><div class=\"sk-toggleable__content fitted\"><pre>GridSearchCV(estimator=Lasso(),\n",
       "             param_grid={&#x27;alpha&#x27;: [0.0001, 0.001, 0.01, 0.1, 1, 10, 100, 1000,\n",
       "                                   10000, 100000]})</pre></div> </div></div><div class=\"sk-parallel\"><div class=\"sk-parallel-item\"><div class=\"sk-item\"><div class=\"sk-label-container\"><div class=\"sk-label fitted sk-toggleable\"><input class=\"sk-toggleable__control sk-hidden--visually\" id=\"sk-estimator-id-8\" type=\"checkbox\" ><label for=\"sk-estimator-id-8\" class=\"sk-toggleable__label fitted sk-toggleable__label-arrow\"><div><div>best_estimator_: Lasso</div></div></label><div class=\"sk-toggleable__content fitted\"><pre>Lasso(alpha=0.01)</pre></div> </div></div><div class=\"sk-serial\"><div class=\"sk-item\"><div class=\"sk-estimator fitted sk-toggleable\"><input class=\"sk-toggleable__control sk-hidden--visually\" id=\"sk-estimator-id-9\" type=\"checkbox\" ><label for=\"sk-estimator-id-9\" class=\"sk-toggleable__label fitted sk-toggleable__label-arrow\"><div><div>Lasso</div></div><div><a class=\"sk-estimator-doc-link fitted\" rel=\"noreferrer\" target=\"_blank\" href=\"https://scikit-learn.org/1.6/modules/generated/sklearn.linear_model.Lasso.html\">?<span>Documentation for Lasso</span></a></div></label><div class=\"sk-toggleable__content fitted\"><pre>Lasso(alpha=0.01)</pre></div> </div></div></div></div></div></div></div></div></div>"
      ],
      "text/plain": [
       "GridSearchCV(estimator=Lasso(),\n",
       "             param_grid={'alpha': [0.0001, 0.001, 0.01, 0.1, 1, 10, 100, 1000,\n",
       "                                   10000, 100000]})"
      ]
     },
     "execution_count": 64,
     "metadata": {},
     "output_type": "execute_result"
    }
   ],
   "source": [
    "ridge = Ridge()\n",
    "lasso = Lasso()\n",
    "\n",
    "grid = {'alpha': [0.0001, 0.001, 0.01, 0.1, 1, 10, 100, 1000, 10000, 100000]}\n",
    "\n",
    "ridgeCV = GridSearchCV(ridge, param_grid=grid)\n",
    "lassoCV = GridSearchCV(lasso, param_grid=grid)\n",
    "ridgeCV.fit(X_train,y_train)\n",
    "lassoCV.fit(X_train,y_train)"
   ]
  },
  {
   "cell_type": "code",
   "execution_count": 65,
   "metadata": {},
   "outputs": [
    {
     "name": "stdout",
     "output_type": "stream",
     "text": [
      "Ridge best score: 0.5807177186012268\n",
      "Ridge best alpha: 100\n",
      "Lasso best score: 0.5682648181915283\n",
      "Lasso best alpha: 0.01\n"
     ]
    }
   ],
   "source": [
    "# report validation scores\n",
    "print('Ridge best score:',ridgeCV.best_score_)\n",
    "print('Ridge best alpha:',ridgeCV.best_params_['alpha'])\n",
    "print('Lasso best score:',lassoCV.best_score_)\n",
    "print('Lasso best alpha:',lassoCV.best_params_['alpha'])"
   ]
  },
  {
   "cell_type": "code",
   "execution_count": 66,
   "metadata": {},
   "outputs": [
    {
     "name": "stdout",
     "output_type": "stream",
     "text": [
      "Lasso R2: 0.6200300455093384\n",
      "Ridge R2: 0.6261968016624451\n"
     ]
    }
   ],
   "source": [
    "# run ridge and lasso on test set\n",
    "ridgeCV = Ridge(alpha=100)\n",
    "lassoCV = Lasso(alpha=0.01)\n",
    "ridgeCV.fit(X_train,y_train)\n",
    "lassoCV.fit(X_train,y_train)\n",
    "ridgeCV.score(X_test,y_test)\n",
    "print(f\"Lasso R2: {lassoCV.score(X_test,y_test)}\")\n",
    "print(f\"Ridge R2: {ridgeCV.score(X_test,y_test)}\")"
   ]
  },
  {
   "cell_type": "code",
   "execution_count": null,
   "metadata": {},
   "outputs": [],
   "source": []
  }
 ],
 "metadata": {
  "kernelspec": {
   "display_name": "venv",
   "language": "python",
   "name": "python3"
  },
  "language_info": {
   "codemirror_mode": {
    "name": "ipython",
    "version": 3
   },
   "file_extension": ".py",
   "mimetype": "text/x-python",
   "name": "python",
   "nbconvert_exporter": "python",
   "pygments_lexer": "ipython3",
   "version": "3.11.0"
  }
 },
 "nbformat": 4,
 "nbformat_minor": 4
}
